{
  "cells": [
    {
      "cell_type": "markdown",
      "metadata": {
        "id": "view-in-github",
        "colab_type": "text"
      },
      "source": [
        "<a href=\"https://colab.research.google.com/github/r2klabs/CS430Repository/blob/main/LinearRegression.ipynb\" target=\"_parent\"><img src=\"https://colab.research.google.com/assets/colab-badge.svg\" alt=\"Open In Colab\"/></a>"
      ]
    },
    {
      "cell_type": "markdown",
      "source": [
        "# Linear Regression\n",
        "This notebook was developed to demonstrate the fundamental concepts of Linear Regression using SKLearn and statsmodels"
      ],
      "metadata": {
        "id": "0oFsMRpoq5jx"
      },
      "id": "0oFsMRpoq5jx"
    },
    {
      "cell_type": "markdown",
      "source": [
        "## Importing libraries\n",
        "These are the standard libraries will will always import into our notebooks."
      ],
      "metadata": {
        "id": "4ITeJ0koaCPd"
      },
      "id": "4ITeJ0koaCPd"
    },
    {
      "cell_type": "code",
      "execution_count": 320,
      "metadata": {
        "id": "8Wwj0S_wZq2B"
      },
      "outputs": [],
      "source": [
        "import pandas as pd\n",
        "import numpy as np\n",
        "import matplotlib.pyplot as plt\n",
        "import seaborn as sns\n",
        "%matplotlib inline"
      ],
      "id": "8Wwj0S_wZq2B"
    },
    {
      "cell_type": "markdown",
      "source": [
        "These imports are specific to performing Linear Regression using the SKLearn and statsmodels libraries"
      ],
      "metadata": {
        "id": "m7cRUxPnt9vF"
      },
      "id": "m7cRUxPnt9vF"
    },
    {
      "cell_type": "code",
      "source": [
        "from sklearn.linear_model import LinearRegression"
      ],
      "metadata": {
        "id": "W89Cl7SOt84f"
      },
      "execution_count": 321,
      "outputs": [],
      "id": "W89Cl7SOt84f"
    },
    {
      "cell_type": "markdown",
      "source": [
        "## Connect to Google Drive"
      ],
      "metadata": {
        "id": "Xi8gW8QXbDR0"
      },
      "id": "Xi8gW8QXbDR0"
    },
    {
      "cell_type": "code",
      "source": [
        "from google.colab import drive\n",
        "drive.mount('/content/gdrive')"
      ],
      "metadata": {
        "colab": {
          "base_uri": "https://localhost:8080/"
        },
        "id": "pMdPOeIcaPD5",
        "outputId": "b0a235f3-0ec3-4850-fae6-bdf847c62dfb"
      },
      "execution_count": 322,
      "outputs": [
        {
          "output_type": "stream",
          "name": "stdout",
          "text": [
            "Drive already mounted at /content/gdrive; to attempt to forcibly remount, call drive.mount(\"/content/gdrive\", force_remount=True).\n"
          ]
        }
      ],
      "id": "pMdPOeIcaPD5"
    },
    {
      "cell_type": "markdown",
      "id": "virtual-nicholas",
      "metadata": {
        "id": "virtual-nicholas"
      },
      "source": [
        "# Scatterplots for Occular Test of Linearity\n",
        "What does it mean to be \"linear\"?"
      ]
    },
    {
      "cell_type": "code",
      "execution_count": 323,
      "id": "logical-webmaster",
      "metadata": {
        "colab": {
          "base_uri": "https://localhost:8080/",
          "height": 265
        },
        "id": "logical-webmaster",
        "outputId": "5210fcd3-dde9-4c91-e1ae-9000079d8ed8"
      },
      "outputs": [
        {
          "output_type": "display_data",
          "data": {
            "text/plain": [
              "<Figure size 432x288 with 1 Axes>"
            ],
            "image/png": "[encoded data removed]"
          },
          "metadata": {
            "needs_background": "light"
          }
        }
      ],
      "source": [
        "linear1x = np.linspace(-5,5, num=100).reshape(-1,1)\n",
        "linear1y = np.linspace(-2,2, num=100) \n",
        "plt.scatter(linear1x,linear1y)\n",
        "plt.grid(True)"
      ]
    },
    {
      "cell_type": "code",
      "execution_count": 324,
      "id": "hearing-talent",
      "metadata": {
        "colab": {
          "base_uri": "https://localhost:8080/",
          "height": 265
        },
        "id": "hearing-talent",
        "outputId": "458f2709-b94c-47ab-dcf5-45592fe2b834"
      },
      "outputs": [
        {
          "output_type": "display_data",
          "data": {
            "text/plain": [
              "<Figure size 432x288 with 1 Axes>"
            ],
            "image/png": "[encoded data removed]"
          },
          "metadata": {
            "needs_background": "light"
          }
        }
      ],
      "source": [
        "linear2x=np.random.randint(100, size=(100))\n",
        "linear2y = np.linspace(-2,2, num=100)\n",
        "plt.scatter(linear2x,linear2y)\n",
        "plt.grid(True)"
      ]
    },
    {
      "cell_type": "code",
      "execution_count": 325,
      "id": "weighted-commission",
      "metadata": {
        "colab": {
          "base_uri": "https://localhost:8080/",
          "height": 265
        },
        "id": "weighted-commission",
        "outputId": "b91b9678-b7ff-48e5-f0f6-367aa5a10130"
      },
      "outputs": [
        {
          "output_type": "display_data",
          "data": {
            "text/plain": [
              "<Figure size 432x288 with 1 Axes>"
            ],
            "image/png": "[encoded data removed]"
          },
          "metadata": {
            "needs_background": "light"
          }
        }
      ],
      "source": [
        "linear3x = [1,2,2,3]\n",
        "linear3y = [1,2,3,6]\n",
        "plt.scatter(linear3x,linear3y)\n",
        "plt.grid(True)"
      ]
    },
    {
      "cell_type": "code",
      "execution_count": 326,
      "id": "worthy-split",
      "metadata": {
        "colab": {
          "base_uri": "https://localhost:8080/",
          "height": 286
        },
        "id": "worthy-split",
        "outputId": "7e6ff3e8-bbfe-490b-b9c4-636e493f53cc"
      },
      "outputs": [
        {
          "output_type": "execute_result",
          "data": {
            "text/plain": [
              "(0.0, 70000.0)"
            ]
          },
          "metadata": {},
          "execution_count": 326
        },
        {
          "output_type": "display_data",
          "data": {
            "text/plain": [
              "<Figure size 432x288 with 1 Axes>"
            ],
            "image/png": "[encoded data removed]"
          },
          "metadata": {
            "needs_background": "light"
          }
        }
      ],
      "source": [
        "year = np.array([0,1,2,3,4,5,6,7]).reshape(-1,1)\n",
        "income =np.array([53807,55217,55209,55415,63100,63206,63761,65766])\n",
        "plt.scatter(year,income)\n",
        "plt.ylim((0,70000))"
      ]
    },
    {
      "cell_type": "code",
      "execution_count": 327,
      "id": "fourth-sullivan",
      "metadata": {
        "colab": {
          "base_uri": "https://localhost:8080/",
          "height": 312
        },
        "id": "fourth-sullivan",
        "outputId": "e4adfda1-88c1-4f0c-d893-5a023ef43f80"
      },
      "outputs": [
        {
          "output_type": "execute_result",
          "data": {
            "text/plain": [
              "<matplotlib.axes._subplots.AxesSubplot at 0x7fe9ac451f50>"
            ]
          },
          "metadata": {},
          "execution_count": 327
        },
        {
          "output_type": "display_data",
          "data": {
            "text/plain": [
              "<Figure size 432x288 with 1 Axes>"
            ],
            "image/png": "[encoded data removed]"
          },
          "metadata": {
            "needs_background": "light"
          }
        }
      ],
      "source": [
        "df = pd.read_csv('/content/gdrive/MyDrive/CS430/processed_penguins.csv')\n",
        "df.plot(kind=\"scatter\", x=\"flipper_length_mm\", y=\"body_mass_g\", xlabel=\"Flipper Length\", ylabel=\"Body Mass\", title=\"Flipper Length vs. Body Mass for Penguin Data Set\")"
      ]
    },
    {
      "cell_type": "markdown",
      "source": [
        "## Mathematical Basis of Linear Regression\n",
        "With LR, you are trying to find the line that best describes the data.  You have seen this as the equation of a line. In stats and ML we describe that line in this format:\n",
        "$$  Y = a + bX $$\n",
        "\n",
        "In this context, **b** is the set of coefficients for **X** which is our set of input variables and **a** is the intercept.\n",
        "\n",
        "In traditional stats, Linear Regression is used to understand the relationship between inputs and the output variable. The output variable will always be continuous.  For example let's say a the formula for understanding how a penguins mass changes with flipper length could be:\n",
        "\n",
        " $$ Y = -6181.51 + 51.64X $$\n",
        "\n",
        "We interpret this as every 1 millimeter of change in flipper length, contributes 51.64 to the body mass.\n",
        "\n",
        "We can also use Linear Regression for prediction by using the formula to plug in a value of X and evaluating.  For example, a penguin with flipper length of 186mm will be predicted with:\n",
        "\n",
        "$$ 3423.19 = -6181.51 + 51.64\\times186 $$\n",
        "\n",
        "You can have more than one input variable, if that is the case, then you are doing multiple Linear Regression."
      ],
      "metadata": {
        "id": "WxfVFgdaFS8w"
      },
      "id": "WxfVFgdaFS8w"
    },
    {
      "cell_type": "markdown",
      "source": [
        "## Create test and train data sets"
      ],
      "metadata": {
        "id": "8sqYN6gWy7CA"
      },
      "id": "8sqYN6gWy7CA"
    },
    {
      "cell_type": "code",
      "source": [
        "from sklearn.model_selection import train_test_split"
      ],
      "metadata": {
        "id": "sV4ouNCuzxCn"
      },
      "id": "sV4ouNCuzxCn",
      "execution_count": 328,
      "outputs": []
    },
    {
      "cell_type": "code",
      "source": [
        "df.head()"
      ],
      "metadata": {
        "colab": {
          "base_uri": "https://localhost:8080/",
          "height": 204
        },
        "id": "yuzTOSgfza31",
        "outputId": "40dd4e88-436d-4838-d398-d310b7a52e40"
      },
      "id": "yuzTOSgfza31",
      "execution_count": 329,
      "outputs": [
        {
          "output_type": "execute_result",
          "data": {
            "text/plain": [
              "  study_name species     island clutch_completion    date_egg  bill_length_mm  \\\n",
              "0    PAL0708  Adelie  Torgersen               Yes  2007-11-11            39.5   \n",
              "1    PAL0708  Adelie  Torgersen               Yes  2007-11-16            40.3   \n",
              "2    PAL0708  Adelie  Torgersen               Yes  2007-11-16            36.7   \n",
              "3    PAL0708  Adelie  Torgersen               Yes  2007-11-16            39.3   \n",
              "4    PAL0708  Adelie  Torgersen                No  2007-11-15            38.9   \n",
              "\n",
              "   bill_depth_mm  flipper_length_mm  body_mass_g     sex  delta_15  delta_13  \\\n",
              "0           17.4              186.0       3800.0  FEMALE   8.94956 -24.69454   \n",
              "1           18.0              195.0       3250.0  FEMALE   8.36821 -25.33302   \n",
              "2           19.3              193.0       3450.0  FEMALE   8.76651 -25.32426   \n",
              "3           20.6              190.0       3650.0    MALE   8.66496 -25.29805   \n",
              "4           17.8              181.0       3625.0  FEMALE   9.18718 -25.21799   \n",
              "\n",
              "   study_day  \n",
              "0          2  \n",
              "1          7  \n",
              "2          7  \n",
              "3          7  \n",
              "4          6  "
            ],
            "text/html": [
              "\n",
              "  <div id=\"df-71d15989-b72d-4fc5-8f78-7554ae8aa13c\">\n",
              "    <div class=\"colab-df-container\">\n",
              "      <div>\n",
              "<style scoped>\n",
              "    .dataframe tbody tr th:only-of-type {\n",
              "        vertical-align: middle;\n",
              "    }\n",
              "\n",
              "    .dataframe tbody tr th {\n",
              "        vertical-align: top;\n",
              "    }\n",
              "\n",
              "    .dataframe thead th {\n",
              "        text-align: right;\n",
              "    }\n",
              "</style>\n",
              "<table border=\"1\" class=\"dataframe\">\n",
              "  <thead>\n",
              "    <tr style=\"text-align: right;\">\n",
              "      <th></th>\n",
              "      <th>study_name</th>\n",
              "      <th>species</th>\n",
              "      <th>island</th>\n",
              "      <th>clutch_completion</th>\n",
              "      <th>date_egg</th>\n",
              "      <th>bill_length_mm</th>\n",
              "      <th>bill_depth_mm</th>\n",
              "      <th>flipper_length_mm</th>\n",
              "      <th>body_mass_g</th>\n",
              "      <th>sex</th>\n",
              "      <th>delta_15</th>\n",
              "      <th>delta_13</th>\n",
              "      <th>study_day</th>\n",
              "    </tr>\n",
              "  </thead>\n",
              "  <tbody>\n",
              "    <tr>\n",
              "      <th>0</th>\n",
              "      <td>PAL0708</td>\n",
              "      <td>Adelie</td>\n",
              "      <td>Torgersen</td>\n",
              "      <td>Yes</td>\n",
              "      <td>2007-11-11</td>\n",
              "      <td>39.5</td>\n",
              "      <td>17.4</td>\n",
              "      <td>186.0</td>\n",
              "      <td>3800.0</td>\n",
              "      <td>FEMALE</td>\n",
              "      <td>8.94956</td>\n",
              "      <td>-24.69454</td>\n",
              "      <td>2</td>\n",
              "    </tr>\n",
              "    <tr>\n",
              "      <th>1</th>\n",
              "      <td>PAL0708</td>\n",
              "      <td>Adelie</td>\n",
              "      <td>Torgersen</td>\n",
              "      <td>Yes</td>\n",
              "      <td>2007-11-16</td>\n",
              "      <td>40.3</td>\n",
              "      <td>18.0</td>\n",
              "      <td>195.0</td>\n",
              "      <td>3250.0</td>\n",
              "      <td>FEMALE</td>\n",
              "      <td>8.36821</td>\n",
              "      <td>-25.33302</td>\n",
              "      <td>7</td>\n",
              "    </tr>\n",
              "    <tr>\n",
              "      <th>2</th>\n",
              "      <td>PAL0708</td>\n",
              "      <td>Adelie</td>\n",
              "      <td>Torgersen</td>\n",
              "      <td>Yes</td>\n",
              "      <td>2007-11-16</td>\n",
              "      <td>36.7</td>\n",
              "      <td>19.3</td>\n",
              "      <td>193.0</td>\n",
              "      <td>3450.0</td>\n",
              "      <td>FEMALE</td>\n",
              "      <td>8.76651</td>\n",
              "      <td>-25.32426</td>\n",
              "      <td>7</td>\n",
              "    </tr>\n",
              "    <tr>\n",
              "      <th>3</th>\n",
              "      <td>PAL0708</td>\n",
              "      <td>Adelie</td>\n",
              "      <td>Torgersen</td>\n",
              "      <td>Yes</td>\n",
              "      <td>2007-11-16</td>\n",
              "      <td>39.3</td>\n",
              "      <td>20.6</td>\n",
              "      <td>190.0</td>\n",
              "      <td>3650.0</td>\n",
              "      <td>MALE</td>\n",
              "      <td>8.66496</td>\n",
              "      <td>-25.29805</td>\n",
              "      <td>7</td>\n",
              "    </tr>\n",
              "    <tr>\n",
              "      <th>4</th>\n",
              "      <td>PAL0708</td>\n",
              "      <td>Adelie</td>\n",
              "      <td>Torgersen</td>\n",
              "      <td>No</td>\n",
              "      <td>2007-11-15</td>\n",
              "      <td>38.9</td>\n",
              "      <td>17.8</td>\n",
              "      <td>181.0</td>\n",
              "      <td>3625.0</td>\n",
              "      <td>FEMALE</td>\n",
              "      <td>9.18718</td>\n",
              "      <td>-25.21799</td>\n",
              "      <td>6</td>\n",
              "    </tr>\n",
              "  </tbody>\n",
              "</table>\n",
              "</div>\n",
              "      <button class=\"colab-df-convert\" onclick=\"convertToInteractive('df-71d15989-b72d-4fc5-8f78-7554ae8aa13c')\"\n",
              "              title=\"Convert this dataframe to an interactive table.\"\n",
              "              style=\"display:none;\">\n",
              "        \n",
              "  <svg xmlns=\"http://www.w3.org/2000/svg\" height=\"24px\"viewBox=\"0 0 24 24\"\n",
              "       width=\"24px\">\n",
              "    <path d=\"M0 0h24v24H0V0z\" fill=\"none\"/>\n",
              "    <path d=\"M18.56 5.44l.94 2.06.94-2.06 2.06-.94-2.06-.94-.94-2.06-.94 2.06-2.06.94zm-11 1L8.5 8.5l.94-2.06 2.06-.94-2.06-.94L8.5 2.5l-.94 2.06-2.06.94zm10 10l.94 2.06.94-2.06 2.06-.94-2.06-.94-.94-2.06-.94 2.06-2.06.94z\"/><path d=\"M17.41 7.96l-1.37-1.37c-.4-.4-.92-.59-1.43-.59-.52 0-1.04.2-1.43.59L10.3 9.45l-7.72 7.72c-.78.78-.78 2.05 0 2.83L4 21.41c.39.39.9.59 1.41.59.51 0 1.02-.2 1.41-.59l7.78-7.78 2.81-2.81c.8-.78.8-2.07 0-2.86zM5.41 20L4 18.59l7.72-7.72 1.47 1.35L5.41 20z\"/>\n",
              "  </svg>\n",
              "      </button>\n",
              "      \n",
              "  <style>\n",
              "    .colab-df-container {\n",
              "      display:flex;\n",
              "      flex-wrap:wrap;\n",
              "      gap: 12px;\n",
              "    }\n",
              "\n",
              "    .colab-df-convert {\n",
              "      background-color: #E8F0FE;\n",
              "      border: none;\n",
              "      border-radius: 50%;\n",
              "      cursor: pointer;\n",
              "      display: none;\n",
              "      fill: #1967D2;\n",
              "      height: 32px;\n",
              "      padding: 0 0 0 0;\n",
              "      width: 32px;\n",
              "    }\n",
              "\n",
              "    .colab-df-convert:hover {\n",
              "      background-color: #E2EBFA;\n",
              "      box-shadow: 0px 1px 2px rgba(60, 64, 67, 0.3), 0px 1px 3px 1px rgba(60, 64, 67, 0.15);\n",
              "      fill: #174EA6;\n",
              "    }\n",
              "\n",
              "    [theme=dark] .colab-df-convert {\n",
              "      background-color: #3B4455;\n",
              "      fill: #D2E3FC;\n",
              "    }\n",
              "\n",
              "    [theme=dark] .colab-df-convert:hover {\n",
              "      background-color: #434B5C;\n",
              "      box-shadow: 0px 1px 3px 1px rgba(0, 0, 0, 0.15);\n",
              "      filter: drop-shadow(0px 1px 2px rgba(0, 0, 0, 0.3));\n",
              "      fill: #FFFFFF;\n",
              "    }\n",
              "  </style>\n",
              "\n",
              "      <script>\n",
              "        const buttonEl =\n",
              "          document.querySelector('#df-71d15989-b72d-4fc5-8f78-7554ae8aa13c button.colab-df-convert');\n",
              "        buttonEl.style.display =\n",
              "          google.colab.kernel.accessAllowed ? 'block' : 'none';\n",
              "\n",
              "        async function convertToInteractive(key) {\n",
              "          const element = document.querySelector('#df-71d15989-b72d-4fc5-8f78-7554ae8aa13c');\n",
              "          const dataTable =\n",
              "            await google.colab.kernel.invokeFunction('convertToInteractive',\n",
              "                                                     [key], {});\n",
              "          if (!dataTable) return;\n",
              "\n",
              "          const docLinkHtml = 'Like what you see? Visit the ' +\n",
              "            '<a target=\"_blank\" href=https://colab.research.google.com/notebooks/data_table.ipynb>data table notebook</a>'\n",
              "            + ' to learn more about interactive tables.';\n",
              "          element.innerHTML = '';\n",
              "          dataTable['output_type'] = 'display_data';\n",
              "          await google.colab.output.renderOutput(dataTable, element);\n",
              "          const docLink = document.createElement('div');\n",
              "          docLink.innerHTML = docLinkHtml;\n",
              "          element.appendChild(docLink);\n",
              "        }\n",
              "      </script>\n",
              "    </div>\n",
              "  </div>\n",
              "  "
            ]
          },
          "metadata": {},
          "execution_count": 329
        }
      ]
    },
    {
      "cell_type": "markdown",
      "source": [
        "For this model, I only need two columns, flipper length and body mass."
      ],
      "metadata": {
        "id": "S8VvBgcozpG3"
      },
      "id": "S8VvBgcozpG3"
    },
    {
      "cell_type": "code",
      "source": [
        "X = df['flipper_length_mm']\n",
        "y = df['body_mass_g']"
      ],
      "metadata": {
        "id": "CM-hipcYy6Vv"
      },
      "id": "CM-hipcYy6Vv",
      "execution_count": 330,
      "outputs": []
    },
    {
      "cell_type": "code",
      "source": [
        "X_train, X_test, y_train, y_test = train_test_split(X, y, test_size=.2, random_state=0)"
      ],
      "metadata": {
        "id": "8oLwozyA1PlK"
      },
      "id": "8oLwozyA1PlK",
      "execution_count": 336,
      "outputs": []
    },
    {
      "cell_type": "markdown",
      "source": [
        "We need to convert our Pandas series into Numpy arrays and reshape them. This is because they don't have to correct dimensions for the algorithm."
      ],
      "metadata": {
        "id": "RHh7ne1P3lho"
      },
      "id": "RHh7ne1P3lho"
    },
    {
      "cell_type": "code",
      "source": [
        "type(X_train)"
      ],
      "metadata": {
        "colab": {
          "base_uri": "https://localhost:8080/"
        },
        "id": "qwjYTbdzhOGL",
        "outputId": "3f3a9f7a-d950-4b01-e598-064c5e5ba9c8"
      },
      "id": "qwjYTbdzhOGL",
      "execution_count": 339,
      "outputs": [
        {
          "output_type": "execute_result",
          "data": {
            "text/plain": [
              "numpy.ndarray"
            ]
          },
          "metadata": {},
          "execution_count": 339
        }
      ]
    },
    {
      "cell_type": "code",
      "source": [
        "X_train = np.array(X_train).reshape(-1,1)\n",
        "X_test = np.array(X_test).reshape(-1,1)"
      ],
      "metadata": {
        "id": "EtMaQyS22sS1"
      },
      "id": "EtMaQyS22sS1",
      "execution_count": 340,
      "outputs": []
    },
    {
      "cell_type": "markdown",
      "id": "alive-fifty",
      "metadata": {
        "id": "alive-fifty"
      },
      "source": [
        "# Performing Linear Regression w/Scikit-Learn\n",
        "For this example, we are doing only single Linear Regression, so no need to build a pipeline. We will do that with multiple Linear Regression later."
      ]
    },
    {
      "cell_type": "code",
      "execution_count": 341,
      "id": "classified-boards",
      "metadata": {
        "colab": {
          "base_uri": "https://localhost:8080/",
          "height": 74
        },
        "id": "classified-boards",
        "outputId": "8331ec4d-bbc5-4c55-88c5-d2a9b851c029"
      },
      "outputs": [
        {
          "output_type": "execute_result",
          "data": {
            "text/plain": [
              "LinearRegression()"
            ],
            "text/html": [
              "<style>#sk-f8fccf2c-3ed1-4053-8d88-aa4e75ffcbff {color: black;background-color: white;}#sk-f8fccf2c-3ed1-4053-8d88-aa4e75ffcbff pre{padding: 0;}#sk-f8fccf2c-3ed1-4053-8d88-aa4e75ffcbff div.sk-toggleable {background-color: white;}#sk-f8fccf2c-3ed1-4053-8d88-aa4e75ffcbff label.sk-toggleable__label {cursor: pointer;display: block;width: 100%;margin-bottom: 0;padding: 0.3em;box-sizing: border-box;text-align: center;}#sk-f8fccf2c-3ed1-4053-8d88-aa4e75ffcbff label.sk-toggleable__label-arrow:before {content: \"▸\";float: left;margin-right: 0.25em;color: #696969;}#sk-f8fccf2c-3ed1-4053-8d88-aa4e75ffcbff label.sk-toggleable__label-arrow:hover:before {color: black;}#sk-f8fccf2c-3ed1-4053-8d88-aa4e75ffcbff div.sk-estimator:hover label.sk-toggleable__label-arrow:before {color: black;}#sk-f8fccf2c-3ed1-4053-8d88-aa4e75ffcbff div.sk-toggleable__content {max-height: 0;max-width: 0;overflow: hidden;text-align: left;background-color: #f0f8ff;}#sk-f8fccf2c-3ed1-4053-8d88-aa4e75ffcbff div.sk-toggleable__content pre {margin: 0.2em;color: black;border-radius: 0.25em;background-color: #f0f8ff;}#sk-f8fccf2c-3ed1-4053-8d88-aa4e75ffcbff input.sk-toggleable__control:checked~div.sk-toggleable__content {max-height: 200px;max-width: 100%;overflow: auto;}#sk-f8fccf2c-3ed1-4053-8d88-aa4e75ffcbff input.sk-toggleable__control:checked~label.sk-toggleable__label-arrow:before {content: \"▾\";}#sk-f8fccf2c-3ed1-4053-8d88-aa4e75ffcbff div.sk-estimator input.sk-toggleable__control:checked~label.sk-toggleable__label {background-color: #d4ebff;}#sk-f8fccf2c-3ed1-4053-8d88-aa4e75ffcbff div.sk-label input.sk-toggleable__control:checked~label.sk-toggleable__label {background-color: #d4ebff;}#sk-f8fccf2c-3ed1-4053-8d88-aa4e75ffcbff input.sk-hidden--visually {border: 0;clip: rect(1px 1px 1px 1px);clip: rect(1px, 1px, 1px, 1px);height: 1px;margin: -1px;overflow: hidden;padding: 0;position: absolute;width: 1px;}#sk-f8fccf2c-3ed1-4053-8d88-aa4e75ffcbff div.sk-estimator {font-family: monospace;background-color: #f0f8ff;border: 1px dotted black;border-radius: 0.25em;box-sizing: border-box;margin-bottom: 0.5em;}#sk-f8fccf2c-3ed1-4053-8d88-aa4e75ffcbff div.sk-estimator:hover {background-color: #d4ebff;}#sk-f8fccf2c-3ed1-4053-8d88-aa4e75ffcbff div.sk-parallel-item::after {content: \"\";width: 100%;border-bottom: 1px solid gray;flex-grow: 1;}#sk-f8fccf2c-3ed1-4053-8d88-aa4e75ffcbff div.sk-label:hover label.sk-toggleable__label {background-color: #d4ebff;}#sk-f8fccf2c-3ed1-4053-8d88-aa4e75ffcbff div.sk-serial::before {content: \"\";position: absolute;border-left: 1px solid gray;box-sizing: border-box;top: 2em;bottom: 0;left: 50%;}#sk-f8fccf2c-3ed1-4053-8d88-aa4e75ffcbff div.sk-serial {display: flex;flex-direction: column;align-items: center;background-color: white;padding-right: 0.2em;padding-left: 0.2em;}#sk-f8fccf2c-3ed1-4053-8d88-aa4e75ffcbff div.sk-item {z-index: 1;}#sk-f8fccf2c-3ed1-4053-8d88-aa4e75ffcbff div.sk-parallel {display: flex;align-items: stretch;justify-content: center;background-color: white;}#sk-f8fccf2c-3ed1-4053-8d88-aa4e75ffcbff div.sk-parallel::before {content: \"\";position: absolute;border-left: 1px solid gray;box-sizing: border-box;top: 2em;bottom: 0;left: 50%;}#sk-f8fccf2c-3ed1-4053-8d88-aa4e75ffcbff div.sk-parallel-item {display: flex;flex-direction: column;position: relative;background-color: white;}#sk-f8fccf2c-3ed1-4053-8d88-aa4e75ffcbff div.sk-parallel-item:first-child::after {align-self: flex-end;width: 50%;}#sk-f8fccf2c-3ed1-4053-8d88-aa4e75ffcbff div.sk-parallel-item:last-child::after {align-self: flex-start;width: 50%;}#sk-f8fccf2c-3ed1-4053-8d88-aa4e75ffcbff div.sk-parallel-item:only-child::after {width: 0;}#sk-f8fccf2c-3ed1-4053-8d88-aa4e75ffcbff div.sk-dashed-wrapped {border: 1px dashed gray;margin: 0 0.4em 0.5em 0.4em;box-sizing: border-box;padding-bottom: 0.4em;background-color: white;position: relative;}#sk-f8fccf2c-3ed1-4053-8d88-aa4e75ffcbff div.sk-label label {font-family: monospace;font-weight: bold;background-color: white;display: inline-block;line-height: 1.2em;}#sk-f8fccf2c-3ed1-4053-8d88-aa4e75ffcbff div.sk-label-container {position: relative;z-index: 2;text-align: center;}#sk-f8fccf2c-3ed1-4053-8d88-aa4e75ffcbff div.sk-container {/* jupyter's `normalize.less` sets `[hidden] { display: none; }` but bootstrap.min.css set `[hidden] { display: none !important; }` so we also need the `!important` here to be able to override the default hidden behavior on the sphinx rendered scikit-learn.org. See: https://github.com/scikit-learn/scikit-learn/issues/21755 */display: inline-block !important;position: relative;}#sk-f8fccf2c-3ed1-4053-8d88-aa4e75ffcbff div.sk-text-repr-fallback {display: none;}</style><div id=\"sk-f8fccf2c-3ed1-4053-8d88-aa4e75ffcbff\" class=\"sk-top-container\"><div class=\"sk-text-repr-fallback\"><pre>LinearRegression()</pre><b>Please rerun this cell to show the HTML repr or trust the notebook.</b></div><div class=\"sk-container\" hidden><div class=\"sk-item\"><div class=\"sk-estimator sk-toggleable\"><input class=\"sk-toggleable__control sk-hidden--visually\" id=\"b41c0a68-ca19-4675-a52c-6cf5e12c9dc2\" type=\"checkbox\" checked><label for=\"b41c0a68-ca19-4675-a52c-6cf5e12c9dc2\" class=\"sk-toggleable__label sk-toggleable__label-arrow\">LinearRegression</label><div class=\"sk-toggleable__content\"><pre>LinearRegression()</pre></div></div></div></div></div>"
            ]
          },
          "metadata": {},
          "execution_count": 341
        }
      ],
      "source": [
        "lr_model = LinearRegression()\n",
        "lr_model.fit(X_train,y_train)"
      ]
    },
    {
      "cell_type": "markdown",
      "source": [
        "We can print the intercept and coefficients like this:"
      ],
      "metadata": {
        "id": "CzPPnJrpNKZ0"
      },
      "id": "CzPPnJrpNKZ0"
    },
    {
      "cell_type": "code",
      "source": [
        "print(lr_model.coef_, lr_model.intercept_)"
      ],
      "metadata": {
        "colab": {
          "base_uri": "https://localhost:8080/"
        },
        "id": "JvmW3tbx35al",
        "outputId": "175fdc11-296c-4c0f-d657-101f7ccaba46"
      },
      "id": "JvmW3tbx35al",
      "execution_count": 342,
      "outputs": [
        {
          "output_type": "stream",
          "name": "stdout",
          "text": [
            "[51.63824759] -6181.516427650329\n"
          ]
        }
      ]
    },
    {
      "cell_type": "markdown",
      "source": [
        "### Evaluating the Performance of Linear Regresssion.\n",
        "We use to primary measures, Root Mean Square Error which is given by:\n",
        "\n",
        "$$ RMSE = \\sqrt{\\sum_{i=1}^N\\frac{(z_{f_{i}}-z_{o_{i}})^2}{N}} $$\n",
        "\n",
        "Don't worry about remembering this formula. We are just going to calculate this so we compare test and train.\n",
        "\n",
        "We aslo use the $ R^2 $ value which describes how much of the variation the model captures.\n",
        "\n",
        "\n",
        "Let's use the predict function for our model to make predictions and then look at the RMSE.  SKLearn has a function for this."
      ],
      "metadata": {
        "id": "QwD4y74xJ2-n"
      },
      "id": "QwD4y74xJ2-n"
    },
    {
      "cell_type": "code",
      "execution_count": 343,
      "id": "indirect-holder",
      "metadata": {
        "id": "indirect-holder"
      },
      "outputs": [],
      "source": [
        "y_train_pred = lr_model.predict(X_train)\n",
        "y_test_pred = lr_model.predict(X_test)"
      ]
    },
    {
      "cell_type": "code",
      "source": [
        "y_test_pred"
      ],
      "metadata": {
        "colab": {
          "base_uri": "https://localhost:8080/"
        },
        "id": "0q2SelOekDGP",
        "outputId": "337c4df4-1fe5-4ffb-ed30-383902fe2b3c"
      },
      "id": "0q2SelOekDGP",
      "execution_count": 350,
      "outputs": [
        {
          "output_type": "execute_result",
          "data": {
            "text/plain": [
              "array([4765.79206241, 3474.83587254, 3113.36813938, 5230.53629076,\n",
              "       3939.5801009 , 3629.75061533, 3681.38886292, 5178.89804317,\n",
              "       3681.38886292, 3165.00638698, 4197.77133887, 3939.5801009 ,\n",
              "       4042.85659609, 4817.43031   , 4920.70680519, 3319.92112976,\n",
              "       3939.5801009 , 4662.51556722, 3319.92112976, 4042.85659609,\n",
              "       4714.15381482, 3887.9418533 , 3474.83587254, 4042.85659609,\n",
              "       3474.83587254, 3681.38886292, 4662.51556722, 4920.70680519,\n",
              "       3887.9418533 , 4042.85659609, 4869.0685576 , 5178.89804317,\n",
              "       3010.09164419, 4197.77133887, 3010.09164419, 5695.28051911,\n",
              "       3629.75061533, 3113.36813938, 3629.75061533, 4662.51556722,\n",
              "       3526.47412014, 4146.13309127, 3836.30360571, 3991.21834849,\n",
              "       3784.66535811, 3526.47412014, 3371.55937736, 4662.51556722,\n",
              "       3836.30360571, 3991.21834849, 5075.62154798, 4765.79206241,\n",
              "       3939.5801009 , 3939.5801009 , 3733.02711052, 3887.9418533 ,\n",
              "       4662.51556722, 4042.85659609, 5075.62154798, 4920.70680519,\n",
              "       3268.28288217, 3887.9418533 , 3578.11236773, 3991.21834849,\n",
              "       5075.62154798])"
            ]
          },
          "metadata": {},
          "execution_count": 350
        }
      ]
    },
    {
      "cell_type": "code",
      "source": [
        "from sklearn.metrics import mean_squared_error, r2_score\n",
        "print(mean_squared_error(y_train, y_train_pred)**(0.5))\n",
        "print(mean_squared_error(y_test, y_test_pred)**(0.5))"
      ],
      "metadata": {
        "colab": {
          "base_uri": "https://localhost:8080/"
        },
        "id": "WRx-gG8Y4oPd",
        "outputId": "66741820-f13e-4290-d8bc-338273b02b89"
      },
      "id": "WRx-gG8Y4oPd",
      "execution_count": 345,
      "outputs": [
        {
          "output_type": "stream",
          "name": "stdout",
          "text": [
            "388.3294774915087\n",
            "388.38384802287953\n"
          ]
        }
      ]
    },
    {
      "cell_type": "markdown",
      "source": [
        "This shows us the that the model is consistent. The RSME is similar for both test and train. But how much does the model capture the variation in the data? We use the R2 measure for this."
      ],
      "metadata": {
        "id": "TZBRdM7yML4A"
      },
      "id": "TZBRdM7yML4A"
    },
    {
      "cell_type": "code",
      "source": [
        "r2_score(y_test, y_test_pred)"
      ],
      "metadata": {
        "colab": {
          "base_uri": "https://localhost:8080/"
        },
        "id": "hywkb2UsEOio",
        "outputId": "b9cc40ff-d61b-41e0-be12-fe92ebf00280"
      },
      "id": "hywkb2UsEOio",
      "execution_count": 348,
      "outputs": [
        {
          "output_type": "execute_result",
          "data": {
            "text/plain": [
              "0.690616159988167"
            ]
          },
          "metadata": {},
          "execution_count": 348
        }
      ]
    },
    {
      "cell_type": "markdown",
      "source": [
        "You can also get this directly from the lr_model with the score() function. Notice you get the same result (as you should)."
      ],
      "metadata": {
        "id": "enKtNVm4MaVM"
      },
      "id": "enKtNVm4MaVM"
    },
    {
      "cell_type": "code",
      "source": [
        "lr_model.score(X_test,y_test)"
      ],
      "metadata": {
        "colab": {
          "base_uri": "https://localhost:8080/"
        },
        "id": "_C3sEe_8EWyj",
        "outputId": "766aa07f-8d5d-48f1-d3fc-654af0adf740"
      },
      "id": "_C3sEe_8EWyj",
      "execution_count": 349,
      "outputs": [
        {
          "output_type": "execute_result",
          "data": {
            "text/plain": [
              "0.690616159988167"
            ]
          },
          "metadata": {},
          "execution_count": 349
        }
      ]
    },
    {
      "cell_type": "markdown",
      "source": [
        "From this we see that, the model only captures about 70% of the variation which is OK, but not great."
      ],
      "metadata": {
        "id": "9JrXS6KdbmWr"
      },
      "id": "9JrXS6KdbmWr"
    },
    {
      "cell_type": "markdown",
      "id": "plastic-shore",
      "metadata": {
        "id": "plastic-shore"
      },
      "source": [
        "# Multiple Linear Regression\n",
        "Multiple Linear Regression is similar to Single LR. The difference is you have multiple input values per target. Let's do this with just the numerical inputs from our penguin data set."
      ]
    },
    {
      "cell_type": "code",
      "execution_count": 351,
      "id": "exact-strip",
      "metadata": {
        "id": "exact-strip"
      },
      "outputs": [],
      "source": [
        "df = pd.read_csv('/content/gdrive/MyDrive/CS430/processed_penguins.csv')"
      ]
    },
    {
      "cell_type": "code",
      "source": [
        "df.head()"
      ],
      "metadata": {
        "colab": {
          "base_uri": "https://localhost:8080/",
          "height": 204
        },
        "id": "ifSB0olnN2IV",
        "outputId": "bc01caf1-86cf-4fdd-9106-5ccadf6e8a5d"
      },
      "id": "ifSB0olnN2IV",
      "execution_count": 352,
      "outputs": [
        {
          "output_type": "execute_result",
          "data": {
            "text/plain": [
              "  study_name species     island clutch_completion    date_egg  bill_length_mm  \\\n",
              "0    PAL0708  Adelie  Torgersen               Yes  2007-11-11            39.5   \n",
              "1    PAL0708  Adelie  Torgersen               Yes  2007-11-16            40.3   \n",
              "2    PAL0708  Adelie  Torgersen               Yes  2007-11-16            36.7   \n",
              "3    PAL0708  Adelie  Torgersen               Yes  2007-11-16            39.3   \n",
              "4    PAL0708  Adelie  Torgersen                No  2007-11-15            38.9   \n",
              "\n",
              "   bill_depth_mm  flipper_length_mm  body_mass_g     sex  delta_15  delta_13  \\\n",
              "0           17.4              186.0       3800.0  FEMALE   8.94956 -24.69454   \n",
              "1           18.0              195.0       3250.0  FEMALE   8.36821 -25.33302   \n",
              "2           19.3              193.0       3450.0  FEMALE   8.76651 -25.32426   \n",
              "3           20.6              190.0       3650.0    MALE   8.66496 -25.29805   \n",
              "4           17.8              181.0       3625.0  FEMALE   9.18718 -25.21799   \n",
              "\n",
              "   study_day  \n",
              "0          2  \n",
              "1          7  \n",
              "2          7  \n",
              "3          7  \n",
              "4          6  "
            ],
            "text/html": [
              "\n",
              "  <div id=\"df-3cff4135-36a4-4a96-9d14-426a78f2ca06\">\n",
              "    <div class=\"colab-df-container\">\n",
              "      <div>\n",
              "<style scoped>\n",
              "    .dataframe tbody tr th:only-of-type {\n",
              "        vertical-align: middle;\n",
              "    }\n",
              "\n",
              "    .dataframe tbody tr th {\n",
              "        vertical-align: top;\n",
              "    }\n",
              "\n",
              "    .dataframe thead th {\n",
              "        text-align: right;\n",
              "    }\n",
              "</style>\n",
              "<table border=\"1\" class=\"dataframe\">\n",
              "  <thead>\n",
              "    <tr style=\"text-align: right;\">\n",
              "      <th></th>\n",
              "      <th>study_name</th>\n",
              "      <th>species</th>\n",
              "      <th>island</th>\n",
              "      <th>clutch_completion</th>\n",
              "      <th>date_egg</th>\n",
              "      <th>bill_length_mm</th>\n",
              "      <th>bill_depth_mm</th>\n",
              "      <th>flipper_length_mm</th>\n",
              "      <th>body_mass_g</th>\n",
              "      <th>sex</th>\n",
              "      <th>delta_15</th>\n",
              "      <th>delta_13</th>\n",
              "      <th>study_day</th>\n",
              "    </tr>\n",
              "  </thead>\n",
              "  <tbody>\n",
              "    <tr>\n",
              "      <th>0</th>\n",
              "      <td>PAL0708</td>\n",
              "      <td>Adelie</td>\n",
              "      <td>Torgersen</td>\n",
              "      <td>Yes</td>\n",
              "      <td>2007-11-11</td>\n",
              "      <td>39.5</td>\n",
              "      <td>17.4</td>\n",
              "      <td>186.0</td>\n",
              "      <td>3800.0</td>\n",
              "      <td>FEMALE</td>\n",
              "      <td>8.94956</td>\n",
              "      <td>-24.69454</td>\n",
              "      <td>2</td>\n",
              "    </tr>\n",
              "    <tr>\n",
              "      <th>1</th>\n",
              "      <td>PAL0708</td>\n",
              "      <td>Adelie</td>\n",
              "      <td>Torgersen</td>\n",
              "      <td>Yes</td>\n",
              "      <td>2007-11-16</td>\n",
              "      <td>40.3</td>\n",
              "      <td>18.0</td>\n",
              "      <td>195.0</td>\n",
              "      <td>3250.0</td>\n",
              "      <td>FEMALE</td>\n",
              "      <td>8.36821</td>\n",
              "      <td>-25.33302</td>\n",
              "      <td>7</td>\n",
              "    </tr>\n",
              "    <tr>\n",
              "      <th>2</th>\n",
              "      <td>PAL0708</td>\n",
              "      <td>Adelie</td>\n",
              "      <td>Torgersen</td>\n",
              "      <td>Yes</td>\n",
              "      <td>2007-11-16</td>\n",
              "      <td>36.7</td>\n",
              "      <td>19.3</td>\n",
              "      <td>193.0</td>\n",
              "      <td>3450.0</td>\n",
              "      <td>FEMALE</td>\n",
              "      <td>8.76651</td>\n",
              "      <td>-25.32426</td>\n",
              "      <td>7</td>\n",
              "    </tr>\n",
              "    <tr>\n",
              "      <th>3</th>\n",
              "      <td>PAL0708</td>\n",
              "      <td>Adelie</td>\n",
              "      <td>Torgersen</td>\n",
              "      <td>Yes</td>\n",
              "      <td>2007-11-16</td>\n",
              "      <td>39.3</td>\n",
              "      <td>20.6</td>\n",
              "      <td>190.0</td>\n",
              "      <td>3650.0</td>\n",
              "      <td>MALE</td>\n",
              "      <td>8.66496</td>\n",
              "      <td>-25.29805</td>\n",
              "      <td>7</td>\n",
              "    </tr>\n",
              "    <tr>\n",
              "      <th>4</th>\n",
              "      <td>PAL0708</td>\n",
              "      <td>Adelie</td>\n",
              "      <td>Torgersen</td>\n",
              "      <td>No</td>\n",
              "      <td>2007-11-15</td>\n",
              "      <td>38.9</td>\n",
              "      <td>17.8</td>\n",
              "      <td>181.0</td>\n",
              "      <td>3625.0</td>\n",
              "      <td>FEMALE</td>\n",
              "      <td>9.18718</td>\n",
              "      <td>-25.21799</td>\n",
              "      <td>6</td>\n",
              "    </tr>\n",
              "  </tbody>\n",
              "</table>\n",
              "</div>\n",
              "      <button class=\"colab-df-convert\" onclick=\"convertToInteractive('df-3cff4135-36a4-4a96-9d14-426a78f2ca06')\"\n",
              "              title=\"Convert this dataframe to an interactive table.\"\n",
              "              style=\"display:none;\">\n",
              "        \n",
              "  <svg xmlns=\"http://www.w3.org/2000/svg\" height=\"24px\"viewBox=\"0 0 24 24\"\n",
              "       width=\"24px\">\n",
              "    <path d=\"M0 0h24v24H0V0z\" fill=\"none\"/>\n",
              "    <path d=\"M18.56 5.44l.94 2.06.94-2.06 2.06-.94-2.06-.94-.94-2.06-.94 2.06-2.06.94zm-11 1L8.5 8.5l.94-2.06 2.06-.94-2.06-.94L8.5 2.5l-.94 2.06-2.06.94zm10 10l.94 2.06.94-2.06 2.06-.94-2.06-.94-.94-2.06-.94 2.06-2.06.94z\"/><path d=\"M17.41 7.96l-1.37-1.37c-.4-.4-.92-.59-1.43-.59-.52 0-1.04.2-1.43.59L10.3 9.45l-7.72 7.72c-.78.78-.78 2.05 0 2.83L4 21.41c.39.39.9.59 1.41.59.51 0 1.02-.2 1.41-.59l7.78-7.78 2.81-2.81c.8-.78.8-2.07 0-2.86zM5.41 20L4 18.59l7.72-7.72 1.47 1.35L5.41 20z\"/>\n",
              "  </svg>\n",
              "      </button>\n",
              "      \n",
              "  <style>\n",
              "    .colab-df-container {\n",
              "      display:flex;\n",
              "      flex-wrap:wrap;\n",
              "      gap: 12px;\n",
              "    }\n",
              "\n",
              "    .colab-df-convert {\n",
              "      background-color: #E8F0FE;\n",
              "      border: none;\n",
              "      border-radius: 50%;\n",
              "      cursor: pointer;\n",
              "      display: none;\n",
              "      fill: #1967D2;\n",
              "      height: 32px;\n",
              "      padding: 0 0 0 0;\n",
              "      width: 32px;\n",
              "    }\n",
              "\n",
              "    .colab-df-convert:hover {\n",
              "      background-color: #E2EBFA;\n",
              "      box-shadow: 0px 1px 2px rgba(60, 64, 67, 0.3), 0px 1px 3px 1px rgba(60, 64, 67, 0.15);\n",
              "      fill: #174EA6;\n",
              "    }\n",
              "\n",
              "    [theme=dark] .colab-df-convert {\n",
              "      background-color: #3B4455;\n",
              "      fill: #D2E3FC;\n",
              "    }\n",
              "\n",
              "    [theme=dark] .colab-df-convert:hover {\n",
              "      background-color: #434B5C;\n",
              "      box-shadow: 0px 1px 3px 1px rgba(0, 0, 0, 0.15);\n",
              "      filter: drop-shadow(0px 1px 2px rgba(0, 0, 0, 0.3));\n",
              "      fill: #FFFFFF;\n",
              "    }\n",
              "  </style>\n",
              "\n",
              "      <script>\n",
              "        const buttonEl =\n",
              "          document.querySelector('#df-3cff4135-36a4-4a96-9d14-426a78f2ca06 button.colab-df-convert');\n",
              "        buttonEl.style.display =\n",
              "          google.colab.kernel.accessAllowed ? 'block' : 'none';\n",
              "\n",
              "        async function convertToInteractive(key) {\n",
              "          const element = document.querySelector('#df-3cff4135-36a4-4a96-9d14-426a78f2ca06');\n",
              "          const dataTable =\n",
              "            await google.colab.kernel.invokeFunction('convertToInteractive',\n",
              "                                                     [key], {});\n",
              "          if (!dataTable) return;\n",
              "\n",
              "          const docLinkHtml = 'Like what you see? Visit the ' +\n",
              "            '<a target=\"_blank\" href=https://colab.research.google.com/notebooks/data_table.ipynb>data table notebook</a>'\n",
              "            + ' to learn more about interactive tables.';\n",
              "          element.innerHTML = '';\n",
              "          dataTable['output_type'] = 'display_data';\n",
              "          await google.colab.output.renderOutput(dataTable, element);\n",
              "          const docLink = document.createElement('div');\n",
              "          docLink.innerHTML = docLinkHtml;\n",
              "          element.appendChild(docLink);\n",
              "        }\n",
              "      </script>\n",
              "    </div>\n",
              "  </div>\n",
              "  "
            ]
          },
          "metadata": {},
          "execution_count": 352
        }
      ]
    },
    {
      "cell_type": "code",
      "execution_count": 353,
      "id": "missing-berry",
      "metadata": {
        "id": "missing-berry"
      },
      "outputs": [],
      "source": [
        "X = np.array(df[['bill_length_mm','bill_depth_mm','flipper_length_mm']])\n",
        "y = np.array(df['body_mass_g'])"
      ]
    },
    {
      "cell_type": "code",
      "source": [
        "X_train, X_test, y_train, y_test = train_test_split(X, y, test_size=.2, random_state=0)"
      ],
      "metadata": {
        "id": "tbsYHPF3M9Km"
      },
      "id": "tbsYHPF3M9Km",
      "execution_count": 354,
      "outputs": []
    },
    {
      "cell_type": "code",
      "execution_count": 355,
      "id": "relative-zoning",
      "metadata": {
        "id": "relative-zoning"
      },
      "outputs": [],
      "source": [
        "mlr_model= LinearRegression()\n",
        "mlr_model.fit(X_train,y_train)\n",
        "y_pred = mlr_model.predict(X_test)"
      ]
    },
    {
      "cell_type": "code",
      "execution_count": 356,
      "id": "decreased-lawrence",
      "metadata": {
        "colab": {
          "base_uri": "https://localhost:8080/"
        },
        "id": "decreased-lawrence",
        "outputId": "104d6d7a-27dc-461d-e886-c81267106863"
      },
      "outputs": [
        {
          "output_type": "stream",
          "name": "stdout",
          "text": [
            "[ 2.08877821 28.51447466 53.34042132] -7103.5759146214095\n"
          ]
        }
      ],
      "source": [
        "print(mlr_model.coef_, mlr_model.intercept_)"
      ]
    },
    {
      "cell_type": "code",
      "source": [
        "print(mean_squared_error(y_test, y_pred)**(0.5))"
      ],
      "metadata": {
        "colab": {
          "base_uri": "https://localhost:8080/"
        },
        "id": "IAgRb60ENk7V",
        "outputId": "1b3b3aa4-9fcd-41b8-b4b5-ac35457adb01"
      },
      "id": "IAgRb60ENk7V",
      "execution_count": 357,
      "outputs": [
        {
          "output_type": "stream",
          "name": "stdout",
          "text": [
            "392.8094547155182\n"
          ]
        }
      ]
    },
    {
      "cell_type": "code",
      "source": [
        "mlr_model.score(X_test, y_test)"
      ],
      "metadata": {
        "colab": {
          "base_uri": "https://localhost:8080/"
        },
        "id": "g-OnF0B5NHVv",
        "outputId": "ca0a0193-0a1f-47b7-a171-594d0946c32a"
      },
      "id": "g-OnF0B5NHVv",
      "execution_count": 358,
      "outputs": [
        {
          "output_type": "execute_result",
          "data": {
            "text/plain": [
              "0.6835251739304882"
            ]
          },
          "metadata": {},
          "execution_count": 358
        }
      ]
    },
    {
      "cell_type": "code",
      "source": [
        "r2_score(y_test, y_pred)"
      ],
      "metadata": {
        "colab": {
          "base_uri": "https://localhost:8080/"
        },
        "id": "n93HFgKtNVp-",
        "outputId": "972038bf-064a-4b4f-bcfc-6928447feb52"
      },
      "id": "n93HFgKtNVp-",
      "execution_count": 359,
      "outputs": [
        {
          "output_type": "execute_result",
          "data": {
            "text/plain": [
              "0.6835251739304882"
            ]
          },
          "metadata": {},
          "execution_count": 359
        }
      ]
    },
    {
      "cell_type": "markdown",
      "source": [
        "Our model actually did a little worse. It doesn't appear that adding all of these variables helped. Perhaps we need to include the categorical variables."
      ],
      "metadata": {
        "id": "jUPnDV4DNrip"
      },
      "id": "jUPnDV4DNrip"
    },
    {
      "cell_type": "markdown",
      "source": [
        "## Using a Pipeline\n",
        "Let's complete this section by building a pipeline to do our analysis so we can use the categorical values after transformation."
      ],
      "metadata": {
        "id": "RNEKZK6_OCCm"
      },
      "id": "RNEKZK6_OCCm"
    },
    {
      "cell_type": "code",
      "source": [
        "from sklearn.pipeline import Pipeline\n",
        "from sklearn.compose import ColumnTransformer\n",
        "from sklearn.preprocessing import OneHotEncoder"
      ],
      "metadata": {
        "id": "g2iA-4CwOLlq"
      },
      "id": "g2iA-4CwOLlq",
      "execution_count": 360,
      "outputs": []
    },
    {
      "cell_type": "markdown",
      "source": [
        "We'll drop the columns we know we won't use."
      ],
      "metadata": {
        "id": "QejPsb2kOfoT"
      },
      "id": "QejPsb2kOfoT"
    },
    {
      "cell_type": "code",
      "source": [
        "df.drop(['study_name','island','clutch_completion','date_egg','study_day'], axis=1, inplace=True)"
      ],
      "metadata": {
        "id": "Snl2AMF2OjoY"
      },
      "id": "Snl2AMF2OjoY",
      "execution_count": 361,
      "outputs": []
    },
    {
      "cell_type": "code",
      "source": [
        "X=df[['bill_length_mm', 'bill_depth_mm','flipper_length_mm','delta_15','delta_13', 'species', 'sex']]\n",
        "y=df['body_mass_g']"
      ],
      "metadata": {
        "id": "3SIoVc12PccK"
      },
      "id": "3SIoVc12PccK",
      "execution_count": 362,
      "outputs": []
    },
    {
      "cell_type": "code",
      "source": [
        "X_train, X_test, y_train, y_test = train_test_split(X, y, test_size=.2, random_state=0)"
      ],
      "metadata": {
        "id": "EnUilUMrPbOo"
      },
      "id": "EnUilUMrPbOo",
      "execution_count": 363,
      "outputs": []
    },
    {
      "cell_type": "code",
      "source": [
        "num_attribs = ['bill_length_mm', 'bill_depth_mm','flipper_length_mm','delta_15','delta_13']  #probably won't transform these, but I set it up anyway.\n",
        "cat_attribs = ['species', 'sex']"
      ],
      "metadata": {
        "id": "tdJkVaMrOMBK"
      },
      "id": "tdJkVaMrOMBK",
      "execution_count": 364,
      "outputs": []
    },
    {
      "cell_type": "code",
      "source": [
        "col_transform = ColumnTransformer(transformers=[\n",
        "                               ('cat',OneHotEncoder(), cat_attribs)],\n",
        "                               remainder='passthrough'\n",
        "              \n",
        "                  )"
      ],
      "metadata": {
        "id": "nK2eCleFPR_6"
      },
      "id": "nK2eCleFPR_6",
      "execution_count": 365,
      "outputs": []
    },
    {
      "cell_type": "code",
      "source": [
        "pipeline = Pipeline([\n",
        "                     ('transform', col_transform),\n",
        "                     ('mlr_model', LinearRegression()),\n",
        "])"
      ],
      "metadata": {
        "id": "aKT0o4zVP1ic"
      },
      "id": "aKT0o4zVP1ic",
      "execution_count": 366,
      "outputs": []
    },
    {
      "cell_type": "code",
      "source": [
        "from sklearn import set_config\n",
        "set_config(display='diagram')\n",
        "pipeline"
      ],
      "metadata": {
        "colab": {
          "base_uri": "https://localhost:8080/",
          "height": 234
        },
        "id": "1rr70MfOQUis",
        "outputId": "519a19b3-17af-4ab4-d5fd-274a760cb67b"
      },
      "id": "1rr70MfOQUis",
      "execution_count": 367,
      "outputs": [
        {
          "output_type": "execute_result",
          "data": {
            "text/plain": [
              "Pipeline(steps=[('transform',\n",
              "                 ColumnTransformer(remainder='passthrough',\n",
              "                                   transformers=[('cat', OneHotEncoder(),\n",
              "                                                  ['species', 'sex'])])),\n",
              "                ('mlr_model', LinearRegression())])"
            ],
            "text/html": [
              "<style>#sk-aa64aab2-fc22-48b6-bb9d-87a820524d8c {color: black;background-color: white;}#sk-aa64aab2-fc22-48b6-bb9d-87a820524d8c pre{padding: 0;}#sk-aa64aab2-fc22-48b6-bb9d-87a820524d8c div.sk-toggleable {background-color: white;}#sk-aa64aab2-fc22-48b6-bb9d-87a820524d8c label.sk-toggleable__label {cursor: pointer;display: block;width: 100%;margin-bottom: 0;padding: 0.3em;box-sizing: border-box;text-align: center;}#sk-aa64aab2-fc22-48b6-bb9d-87a820524d8c label.sk-toggleable__label-arrow:before {content: \"▸\";float: left;margin-right: 0.25em;color: #696969;}#sk-aa64aab2-fc22-48b6-bb9d-87a820524d8c label.sk-toggleable__label-arrow:hover:before {color: black;}#sk-aa64aab2-fc22-48b6-bb9d-87a820524d8c div.sk-estimator:hover label.sk-toggleable__label-arrow:before {color: black;}#sk-aa64aab2-fc22-48b6-bb9d-87a820524d8c div.sk-toggleable__content {max-height: 0;max-width: 0;overflow: hidden;text-align: left;background-color: #f0f8ff;}#sk-aa64aab2-fc22-48b6-bb9d-87a820524d8c div.sk-toggleable__content pre {margin: 0.2em;color: black;border-radius: 0.25em;background-color: #f0f8ff;}#sk-aa64aab2-fc22-48b6-bb9d-87a820524d8c input.sk-toggleable__control:checked~div.sk-toggleable__content {max-height: 200px;max-width: 100%;overflow: auto;}#sk-aa64aab2-fc22-48b6-bb9d-87a820524d8c input.sk-toggleable__control:checked~label.sk-toggleable__label-arrow:before {content: \"▾\";}#sk-aa64aab2-fc22-48b6-bb9d-87a820524d8c div.sk-estimator input.sk-toggleable__control:checked~label.sk-toggleable__label {background-color: #d4ebff;}#sk-aa64aab2-fc22-48b6-bb9d-87a820524d8c div.sk-label input.sk-toggleable__control:checked~label.sk-toggleable__label {background-color: #d4ebff;}#sk-aa64aab2-fc22-48b6-bb9d-87a820524d8c input.sk-hidden--visually {border: 0;clip: rect(1px 1px 1px 1px);clip: rect(1px, 1px, 1px, 1px);height: 1px;margin: -1px;overflow: hidden;padding: 0;position: absolute;width: 1px;}#sk-aa64aab2-fc22-48b6-bb9d-87a820524d8c div.sk-estimator {font-family: monospace;background-color: #f0f8ff;border: 1px dotted black;border-radius: 0.25em;box-sizing: border-box;margin-bottom: 0.5em;}#sk-aa64aab2-fc22-48b6-bb9d-87a820524d8c div.sk-estimator:hover {background-color: #d4ebff;}#sk-aa64aab2-fc22-48b6-bb9d-87a820524d8c div.sk-parallel-item::after {content: \"\";width: 100%;border-bottom: 1px solid gray;flex-grow: 1;}#sk-aa64aab2-fc22-48b6-bb9d-87a820524d8c div.sk-label:hover label.sk-toggleable__label {background-color: #d4ebff;}#sk-aa64aab2-fc22-48b6-bb9d-87a820524d8c div.sk-serial::before {content: \"\";position: absolute;border-left: 1px solid gray;box-sizing: border-box;top: 2em;bottom: 0;left: 50%;}#sk-aa64aab2-fc22-48b6-bb9d-87a820524d8c div.sk-serial {display: flex;flex-direction: column;align-items: center;background-color: white;padding-right: 0.2em;padding-left: 0.2em;}#sk-aa64aab2-fc22-48b6-bb9d-87a820524d8c div.sk-item {z-index: 1;}#sk-aa64aab2-fc22-48b6-bb9d-87a820524d8c div.sk-parallel {display: flex;align-items: stretch;justify-content: center;background-color: white;}#sk-aa64aab2-fc22-48b6-bb9d-87a820524d8c div.sk-parallel::before {content: \"\";position: absolute;border-left: 1px solid gray;box-sizing: border-box;top: 2em;bottom: 0;left: 50%;}#sk-aa64aab2-fc22-48b6-bb9d-87a820524d8c div.sk-parallel-item {display: flex;flex-direction: column;position: relative;background-color: white;}#sk-aa64aab2-fc22-48b6-bb9d-87a820524d8c div.sk-parallel-item:first-child::after {align-self: flex-end;width: 50%;}#sk-aa64aab2-fc22-48b6-bb9d-87a820524d8c div.sk-parallel-item:last-child::after {align-self: flex-start;width: 50%;}#sk-aa64aab2-fc22-48b6-bb9d-87a820524d8c div.sk-parallel-item:only-child::after {width: 0;}#sk-aa64aab2-fc22-48b6-bb9d-87a820524d8c div.sk-dashed-wrapped {border: 1px dashed gray;margin: 0 0.4em 0.5em 0.4em;box-sizing: border-box;padding-bottom: 0.4em;background-color: white;position: relative;}#sk-aa64aab2-fc22-48b6-bb9d-87a820524d8c div.sk-label label {font-family: monospace;font-weight: bold;background-color: white;display: inline-block;line-height: 1.2em;}#sk-aa64aab2-fc22-48b6-bb9d-87a820524d8c div.sk-label-container {position: relative;z-index: 2;text-align: center;}#sk-aa64aab2-fc22-48b6-bb9d-87a820524d8c div.sk-container {/* jupyter's `normalize.less` sets `[hidden] { display: none; }` but bootstrap.min.css set `[hidden] { display: none !important; }` so we also need the `!important` here to be able to override the default hidden behavior on the sphinx rendered scikit-learn.org. See: https://github.com/scikit-learn/scikit-learn/issues/21755 */display: inline-block !important;position: relative;}#sk-aa64aab2-fc22-48b6-bb9d-87a820524d8c div.sk-text-repr-fallback {display: none;}</style><div id=\"sk-aa64aab2-fc22-48b6-bb9d-87a820524d8c\" class=\"sk-top-container\"><div class=\"sk-text-repr-fallback\"><pre>Pipeline(steps=[(&#x27;transform&#x27;,\n",
              "                 ColumnTransformer(remainder=&#x27;passthrough&#x27;,\n",
              "                                   transformers=[(&#x27;cat&#x27;, OneHotEncoder(),\n",
              "                                                  [&#x27;species&#x27;, &#x27;sex&#x27;])])),\n",
              "                (&#x27;mlr_model&#x27;, LinearRegression())])</pre><b>Please rerun this cell to show the HTML repr or trust the notebook.</b></div><div class=\"sk-container\" hidden><div class=\"sk-item sk-dashed-wrapped\"><div class=\"sk-label-container\"><div class=\"sk-label sk-toggleable\"><input class=\"sk-toggleable__control sk-hidden--visually\" id=\"1f5ad847-8ea0-4773-be00-a62757efa1a2\" type=\"checkbox\" ><label for=\"1f5ad847-8ea0-4773-be00-a62757efa1a2\" class=\"sk-toggleable__label sk-toggleable__label-arrow\">Pipeline</label><div class=\"sk-toggleable__content\"><pre>Pipeline(steps=[(&#x27;transform&#x27;,\n",
              "                 ColumnTransformer(remainder=&#x27;passthrough&#x27;,\n",
              "                                   transformers=[(&#x27;cat&#x27;, OneHotEncoder(),\n",
              "                                                  [&#x27;species&#x27;, &#x27;sex&#x27;])])),\n",
              "                (&#x27;mlr_model&#x27;, LinearRegression())])</pre></div></div></div><div class=\"sk-serial\"><div class=\"sk-item sk-dashed-wrapped\"><div class=\"sk-label-container\"><div class=\"sk-label sk-toggleable\"><input class=\"sk-toggleable__control sk-hidden--visually\" id=\"6c1d0fe4-782a-420f-9ff0-e4d3ae2fd599\" type=\"checkbox\" ><label for=\"6c1d0fe4-782a-420f-9ff0-e4d3ae2fd599\" class=\"sk-toggleable__label sk-toggleable__label-arrow\">transform: ColumnTransformer</label><div class=\"sk-toggleable__content\"><pre>ColumnTransformer(remainder=&#x27;passthrough&#x27;,\n",
              "                  transformers=[(&#x27;cat&#x27;, OneHotEncoder(), [&#x27;species&#x27;, &#x27;sex&#x27;])])</pre></div></div></div><div class=\"sk-parallel\"><div class=\"sk-parallel-item\"><div class=\"sk-item\"><div class=\"sk-label-container\"><div class=\"sk-label sk-toggleable\"><input class=\"sk-toggleable__control sk-hidden--visually\" id=\"504e8037-a400-498f-bd3b-780944d36b92\" type=\"checkbox\" ><label for=\"504e8037-a400-498f-bd3b-780944d36b92\" class=\"sk-toggleable__label sk-toggleable__label-arrow\">cat</label><div class=\"sk-toggleable__content\"><pre>[&#x27;species&#x27;, &#x27;sex&#x27;]</pre></div></div></div><div class=\"sk-serial\"><div class=\"sk-item\"><div class=\"sk-estimator sk-toggleable\"><input class=\"sk-toggleable__control sk-hidden--visually\" id=\"bbad1b7a-1598-4bf4-99b8-54c72afc4f02\" type=\"checkbox\" ><label for=\"bbad1b7a-1598-4bf4-99b8-54c72afc4f02\" class=\"sk-toggleable__label sk-toggleable__label-arrow\">OneHotEncoder</label><div class=\"sk-toggleable__content\"><pre>OneHotEncoder()</pre></div></div></div></div></div></div><div class=\"sk-parallel-item\"><div class=\"sk-item\"><div class=\"sk-label-container\"><div class=\"sk-label sk-toggleable\"><input class=\"sk-toggleable__control sk-hidden--visually\" id=\"3edf57aa-1a42-4de7-ad0f-3daf4ec3f114\" type=\"checkbox\" ><label for=\"3edf57aa-1a42-4de7-ad0f-3daf4ec3f114\" class=\"sk-toggleable__label sk-toggleable__label-arrow\">remainder</label><div class=\"sk-toggleable__content\"><pre></pre></div></div></div><div class=\"sk-serial\"><div class=\"sk-item\"><div class=\"sk-estimator sk-toggleable\"><input class=\"sk-toggleable__control sk-hidden--visually\" id=\"8b845a97-00f3-4699-90f2-5fe4a79d6ef8\" type=\"checkbox\" ><label for=\"8b845a97-00f3-4699-90f2-5fe4a79d6ef8\" class=\"sk-toggleable__label sk-toggleable__label-arrow\">passthrough</label><div class=\"sk-toggleable__content\"><pre>passthrough</pre></div></div></div></div></div></div></div></div><div class=\"sk-item\"><div class=\"sk-estimator sk-toggleable\"><input class=\"sk-toggleable__control sk-hidden--visually\" id=\"25e0c85a-f22a-4eda-8f5f-b407111aeb5b\" type=\"checkbox\" ><label for=\"25e0c85a-f22a-4eda-8f5f-b407111aeb5b\" class=\"sk-toggleable__label sk-toggleable__label-arrow\">LinearRegression</label><div class=\"sk-toggleable__content\"><pre>LinearRegression()</pre></div></div></div></div></div></div></div>"
            ]
          },
          "metadata": {},
          "execution_count": 367
        }
      ]
    },
    {
      "cell_type": "code",
      "source": [
        "pipeline.fit(X_train,y_train)"
      ],
      "metadata": {
        "colab": {
          "base_uri": "https://localhost:8080/",
          "height": 189
        },
        "id": "4UQsFwQyQa7j",
        "outputId": "0678b638-3d57-4cf3-8216-9ebde9a37e79"
      },
      "id": "4UQsFwQyQa7j",
      "execution_count": 368,
      "outputs": [
        {
          "output_type": "execute_result",
          "data": {
            "text/plain": [
              "Pipeline(steps=[('transform',\n",
              "                 ColumnTransformer(remainder='passthrough',\n",
              "                                   transformers=[('cat', OneHotEncoder(),\n",
              "                                                  ['species', 'sex'])])),\n",
              "                ('mlr_model', LinearRegression())])"
            ],
            "text/html": [
              "<style>#sk-bb98c8ee-d89e-4c69-9a8f-6425e654227d {color: black;background-color: white;}#sk-bb98c8ee-d89e-4c69-9a8f-6425e654227d pre{padding: 0;}#sk-bb98c8ee-d89e-4c69-9a8f-6425e654227d div.sk-toggleable {background-color: white;}#sk-bb98c8ee-d89e-4c69-9a8f-6425e654227d label.sk-toggleable__label {cursor: pointer;display: block;width: 100%;margin-bottom: 0;padding: 0.3em;box-sizing: border-box;text-align: center;}#sk-bb98c8ee-d89e-4c69-9a8f-6425e654227d label.sk-toggleable__label-arrow:before {content: \"▸\";float: left;margin-right: 0.25em;color: #696969;}#sk-bb98c8ee-d89e-4c69-9a8f-6425e654227d label.sk-toggleable__label-arrow:hover:before {color: black;}#sk-bb98c8ee-d89e-4c69-9a8f-6425e654227d div.sk-estimator:hover label.sk-toggleable__label-arrow:before {color: black;}#sk-bb98c8ee-d89e-4c69-9a8f-6425e654227d div.sk-toggleable__content {max-height: 0;max-width: 0;overflow: hidden;text-align: left;background-color: #f0f8ff;}#sk-bb98c8ee-d89e-4c69-9a8f-6425e654227d div.sk-toggleable__content pre {margin: 0.2em;color: black;border-radius: 0.25em;background-color: #f0f8ff;}#sk-bb98c8ee-d89e-4c69-9a8f-6425e654227d input.sk-toggleable__control:checked~div.sk-toggleable__content {max-height: 200px;max-width: 100%;overflow: auto;}#sk-bb98c8ee-d89e-4c69-9a8f-6425e654227d input.sk-toggleable__control:checked~label.sk-toggleable__label-arrow:before {content: \"▾\";}#sk-bb98c8ee-d89e-4c69-9a8f-6425e654227d div.sk-estimator input.sk-toggleable__control:checked~label.sk-toggleable__label {background-color: #d4ebff;}#sk-bb98c8ee-d89e-4c69-9a8f-6425e654227d div.sk-label input.sk-toggleable__control:checked~label.sk-toggleable__label {background-color: #d4ebff;}#sk-bb98c8ee-d89e-4c69-9a8f-6425e654227d input.sk-hidden--visually {border: 0;clip: rect(1px 1px 1px 1px);clip: rect(1px, 1px, 1px, 1px);height: 1px;margin: -1px;overflow: hidden;padding: 0;position: absolute;width: 1px;}#sk-bb98c8ee-d89e-4c69-9a8f-6425e654227d div.sk-estimator {font-family: monospace;background-color: #f0f8ff;border: 1px dotted black;border-radius: 0.25em;box-sizing: border-box;margin-bottom: 0.5em;}#sk-bb98c8ee-d89e-4c69-9a8f-6425e654227d div.sk-estimator:hover {background-color: #d4ebff;}#sk-bb98c8ee-d89e-4c69-9a8f-6425e654227d div.sk-parallel-item::after {content: \"\";width: 100%;border-bottom: 1px solid gray;flex-grow: 1;}#sk-bb98c8ee-d89e-4c69-9a8f-6425e654227d div.sk-label:hover label.sk-toggleable__label {background-color: #d4ebff;}#sk-bb98c8ee-d89e-4c69-9a8f-6425e654227d div.sk-serial::before {content: \"\";position: absolute;border-left: 1px solid gray;box-sizing: border-box;top: 2em;bottom: 0;left: 50%;}#sk-bb98c8ee-d89e-4c69-9a8f-6425e654227d div.sk-serial {display: flex;flex-direction: column;align-items: center;background-color: white;padding-right: 0.2em;padding-left: 0.2em;}#sk-bb98c8ee-d89e-4c69-9a8f-6425e654227d div.sk-item {z-index: 1;}#sk-bb98c8ee-d89e-4c69-9a8f-6425e654227d div.sk-parallel {display: flex;align-items: stretch;justify-content: center;background-color: white;}#sk-bb98c8ee-d89e-4c69-9a8f-6425e654227d div.sk-parallel::before {content: \"\";position: absolute;border-left: 1px solid gray;box-sizing: border-box;top: 2em;bottom: 0;left: 50%;}#sk-bb98c8ee-d89e-4c69-9a8f-6425e654227d div.sk-parallel-item {display: flex;flex-direction: column;position: relative;background-color: white;}#sk-bb98c8ee-d89e-4c69-9a8f-6425e654227d div.sk-parallel-item:first-child::after {align-self: flex-end;width: 50%;}#sk-bb98c8ee-d89e-4c69-9a8f-6425e654227d div.sk-parallel-item:last-child::after {align-self: flex-start;width: 50%;}#sk-bb98c8ee-d89e-4c69-9a8f-6425e654227d div.sk-parallel-item:only-child::after {width: 0;}#sk-bb98c8ee-d89e-4c69-9a8f-6425e654227d div.sk-dashed-wrapped {border: 1px dashed gray;margin: 0 0.4em 0.5em 0.4em;box-sizing: border-box;padding-bottom: 0.4em;background-color: white;position: relative;}#sk-bb98c8ee-d89e-4c69-9a8f-6425e654227d div.sk-label label {font-family: monospace;font-weight: bold;background-color: white;display: inline-block;line-height: 1.2em;}#sk-bb98c8ee-d89e-4c69-9a8f-6425e654227d div.sk-label-container {position: relative;z-index: 2;text-align: center;}#sk-bb98c8ee-d89e-4c69-9a8f-6425e654227d div.sk-container {/* jupyter's `normalize.less` sets `[hidden] { display: none; }` but bootstrap.min.css set `[hidden] { display: none !important; }` so we also need the `!important` here to be able to override the default hidden behavior on the sphinx rendered scikit-learn.org. See: https://github.com/scikit-learn/scikit-learn/issues/21755 */display: inline-block !important;position: relative;}#sk-bb98c8ee-d89e-4c69-9a8f-6425e654227d div.sk-text-repr-fallback {display: none;}</style><div id=\"sk-bb98c8ee-d89e-4c69-9a8f-6425e654227d\" class=\"sk-top-container\"><div class=\"sk-text-repr-fallback\"><pre>Pipeline(steps=[(&#x27;transform&#x27;,\n",
              "                 ColumnTransformer(remainder=&#x27;passthrough&#x27;,\n",
              "                                   transformers=[(&#x27;cat&#x27;, OneHotEncoder(),\n",
              "                                                  [&#x27;species&#x27;, &#x27;sex&#x27;])])),\n",
              "                (&#x27;mlr_model&#x27;, LinearRegression())])</pre><b>Please rerun this cell to show the HTML repr or trust the notebook.</b></div><div class=\"sk-container\" hidden><div class=\"sk-item sk-dashed-wrapped\"><div class=\"sk-label-container\"><div class=\"sk-label sk-toggleable\"><input class=\"sk-toggleable__control sk-hidden--visually\" id=\"537c8349-80df-4cfc-9a8f-c9560bbbe42c\" type=\"checkbox\" ><label for=\"537c8349-80df-4cfc-9a8f-c9560bbbe42c\" class=\"sk-toggleable__label sk-toggleable__label-arrow\">Pipeline</label><div class=\"sk-toggleable__content\"><pre>Pipeline(steps=[(&#x27;transform&#x27;,\n",
              "                 ColumnTransformer(remainder=&#x27;passthrough&#x27;,\n",
              "                                   transformers=[(&#x27;cat&#x27;, OneHotEncoder(),\n",
              "                                                  [&#x27;species&#x27;, &#x27;sex&#x27;])])),\n",
              "                (&#x27;mlr_model&#x27;, LinearRegression())])</pre></div></div></div><div class=\"sk-serial\"><div class=\"sk-item sk-dashed-wrapped\"><div class=\"sk-label-container\"><div class=\"sk-label sk-toggleable\"><input class=\"sk-toggleable__control sk-hidden--visually\" id=\"ac52ae21-3359-4c80-9d13-77c95b88152d\" type=\"checkbox\" ><label for=\"ac52ae21-3359-4c80-9d13-77c95b88152d\" class=\"sk-toggleable__label sk-toggleable__label-arrow\">transform: ColumnTransformer</label><div class=\"sk-toggleable__content\"><pre>ColumnTransformer(remainder=&#x27;passthrough&#x27;,\n",
              "                  transformers=[(&#x27;cat&#x27;, OneHotEncoder(), [&#x27;species&#x27;, &#x27;sex&#x27;])])</pre></div></div></div><div class=\"sk-parallel\"><div class=\"sk-parallel-item\"><div class=\"sk-item\"><div class=\"sk-label-container\"><div class=\"sk-label sk-toggleable\"><input class=\"sk-toggleable__control sk-hidden--visually\" id=\"19e462e2-a15b-4e3d-b131-56acba99360f\" type=\"checkbox\" ><label for=\"19e462e2-a15b-4e3d-b131-56acba99360f\" class=\"sk-toggleable__label sk-toggleable__label-arrow\">cat</label><div class=\"sk-toggleable__content\"><pre>[&#x27;species&#x27;, &#x27;sex&#x27;]</pre></div></div></div><div class=\"sk-serial\"><div class=\"sk-item\"><div class=\"sk-estimator sk-toggleable\"><input class=\"sk-toggleable__control sk-hidden--visually\" id=\"8e642926-d1d0-4df3-9dcf-40d3109f9ec7\" type=\"checkbox\" ><label for=\"8e642926-d1d0-4df3-9dcf-40d3109f9ec7\" class=\"sk-toggleable__label sk-toggleable__label-arrow\">OneHotEncoder</label><div class=\"sk-toggleable__content\"><pre>OneHotEncoder()</pre></div></div></div></div></div></div><div class=\"sk-parallel-item\"><div class=\"sk-item\"><div class=\"sk-label-container\"><div class=\"sk-label sk-toggleable\"><input class=\"sk-toggleable__control sk-hidden--visually\" id=\"acb6b607-6976-4fd3-843f-4a1def5bf58a\" type=\"checkbox\" ><label for=\"acb6b607-6976-4fd3-843f-4a1def5bf58a\" class=\"sk-toggleable__label sk-toggleable__label-arrow\">remainder</label><div class=\"sk-toggleable__content\"><pre>[&#x27;bill_length_mm&#x27;, &#x27;bill_depth_mm&#x27;, &#x27;flipper_length_mm&#x27;, &#x27;delta_15&#x27;, &#x27;delta_13&#x27;]</pre></div></div></div><div class=\"sk-serial\"><div class=\"sk-item\"><div class=\"sk-estimator sk-toggleable\"><input class=\"sk-toggleable__control sk-hidden--visually\" id=\"32bec454-b7f8-4487-8e3e-96a632f0eab6\" type=\"checkbox\" ><label for=\"32bec454-b7f8-4487-8e3e-96a632f0eab6\" class=\"sk-toggleable__label sk-toggleable__label-arrow\">passthrough</label><div class=\"sk-toggleable__content\"><pre>passthrough</pre></div></div></div></div></div></div></div></div><div class=\"sk-item\"><div class=\"sk-estimator sk-toggleable\"><input class=\"sk-toggleable__control sk-hidden--visually\" id=\"ab314839-abc8-41e9-aac9-1bec7868a22e\" type=\"checkbox\" ><label for=\"ab314839-abc8-41e9-aac9-1bec7868a22e\" class=\"sk-toggleable__label sk-toggleable__label-arrow\">LinearRegression</label><div class=\"sk-toggleable__content\"><pre>LinearRegression()</pre></div></div></div></div></div></div></div>"
            ]
          },
          "metadata": {},
          "execution_count": 368
        }
      ]
    },
    {
      "cell_type": "code",
      "source": [
        "y_pred = pipeline.predict(X_test)"
      ],
      "metadata": {
        "id": "NME-bJkGOZ3o"
      },
      "id": "NME-bJkGOZ3o",
      "execution_count": 369,
      "outputs": []
    },
    {
      "cell_type": "code",
      "source": [
        "r2_score(y_pred, y_test)"
      ],
      "metadata": {
        "colab": {
          "base_uri": "https://localhost:8080/"
        },
        "id": "Z1ueqcOLOa1x",
        "outputId": "4fb8c516-569c-4868-df09-19b552eae84d"
      },
      "id": "Z1ueqcOLOa1x",
      "execution_count": 371,
      "outputs": [
        {
          "output_type": "execute_result",
          "data": {
            "text/plain": [
              "0.8503627169263376"
            ]
          },
          "metadata": {},
          "execution_count": 371
        }
      ]
    },
    {
      "cell_type": "code",
      "source": [
        "pipeline.named_steps['mlr_model'].intercept_"
      ],
      "metadata": {
        "colab": {
          "base_uri": "https://localhost:8080/"
        },
        "id": "lFO_4DknRmgc",
        "outputId": "813cb2be-7bdd-4a73-a518-87010c8b4f67"
      },
      "id": "lFO_4DknRmgc",
      "execution_count": 372,
      "outputs": [
        {
          "output_type": "execute_result",
          "data": {
            "text/plain": [
              "1459.0136313062503"
            ]
          },
          "metadata": {},
          "execution_count": 372
        }
      ]
    },
    {
      "cell_type": "code",
      "source": [
        "pipeline.named_steps['mlr_model'].coef_"
      ],
      "metadata": {
        "colab": {
          "base_uri": "https://localhost:8080/"
        },
        "id": "IM6siV-TRDiE",
        "outputId": "6da4ab49-df0c-40eb-ab6d-a7cec5766fa3"
      },
      "id": "IM6siV-TRDiE",
      "execution_count": 373,
      "outputs": [
        {
          "output_type": "execute_result",
          "data": {
            "text/plain": [
              "array([-224.66411966, -458.60874737,  683.27286702, -206.36455391,\n",
              "        206.36455391,   14.55711732,   72.84580603,   18.90452131,\n",
              "       -158.63791823,   62.51833087])"
            ]
          },
          "metadata": {},
          "execution_count": 373
        }
      ]
    }
  ],
  "metadata": {
    "kernelspec": {
      "display_name": "Python 3 (ipykernel)",
      "language": "python",
      "name": "python3"
    },
    "language_info": {
      "codemirror_mode": {
        "name": "ipython",
        "version": 3
      },
      "file_extension": ".py",
      "mimetype": "text/x-python",
      "name": "python",
      "nbconvert_exporter": "python",
      "pygments_lexer": "ipython3",
      "version": "3.9.7"
    },
    "toc": {
      "base_numbering": 1,
      "nav_menu": {},
      "number_sections": true,
      "sideBar": true,
      "skip_h1_title": false,
      "title_cell": "Table of Contents",
      "title_sidebar": "Contents",
      "toc_cell": false,
      "toc_position": {},
      "toc_section_display": true,
      "toc_window_display": false
    },
    "colab": {
      "name": "LinearRegression.ipynb",
      "provenance": [],
      "include_colab_link": true
    }
  },
  "nbformat": 4,
  "nbformat_minor": 5
}