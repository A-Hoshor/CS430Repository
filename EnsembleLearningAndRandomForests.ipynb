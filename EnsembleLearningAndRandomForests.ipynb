{
  "nbformat": 4,
  "nbformat_minor": 0,
  "metadata": {
    "colab": {
      "name": "EnsembleLearningAndRandomForests.ipynb",
      "provenance": [],
      "collapsed_sections": [],
      "authorship_tag": "ABX9TyMogajFRLfH09LqZ7DasPQ5",
      "include_colab_link": true
    },
    "kernelspec": {
      "name": "python3",
      "display_name": "Python 3"
    },
    "language_info": {
      "name": "python"
    }
  },
  "cells": [
    {
      "cell_type": "markdown",
      "metadata": {
        "id": "view-in-github",
        "colab_type": "text"
      },
      "source": [
        "<a href=\"https://colab.research.google.com/github/r2klabs/CS430Repository/blob/main/EnsembleLearningAndRandomForests.ipynb\" target=\"_parent\"><img src=\"https://colab.research.google.com/assets/colab-badge.svg\" alt=\"Open In Colab\"/></a>"
      ]
    },
    {
      "cell_type": "markdown",
      "source": [
        "# Decision Tree Classification\n",
        "\n",
        "\n"
      ],
      "metadata": {
        "id": "QRwWxyo15l1_"
      }
    },
    {
      "cell_type": "code",
      "execution_count": 1,
      "metadata": {
        "id": "hZQOlQVuibFq"
      },
      "outputs": [],
      "source": [
        "import pandas as pd\n",
        "import numpy as np\n",
        "import matplotlib.pyplot as plt\n",
        "import seaborn as sns\n",
        "%matplotlib inline"
      ]
    },
    {
      "cell_type": "code",
      "source": [
        "from google.colab import drive\n",
        "drive.mount('/content/gdrive')"
      ],
      "metadata": {
        "colab": {
          "base_uri": "https://localhost:8080/"
        },
        "id": "f6C2m_xqin0Y",
        "outputId": "d31c7008-0bf6-4171-ab78-4967207a319d"
      },
      "execution_count": 2,
      "outputs": [
        {
          "output_type": "stream",
          "name": "stdout",
          "text": [
            "Mounted at /content/gdrive\n"
          ]
        }
      ]
    },
    {
      "cell_type": "markdown",
      "source": [
        "## Imports for Ensemble Learning and Random Forests\n"
      ],
      "metadata": {
        "id": "UM7SiWOlBzPg"
      }
    },
    {
      "cell_type": "code",
      "source": [
        "from sklearn.ensemble import VotingClassifier\n",
        "from sklearn.ensemble import BaggingClassifier\n",
        "from sklearn.ensemble import RandomForestClassifier\n",
        "from sklearn.ensemble import AdaBoostClassifier"
      ],
      "metadata": {
        "id": "jL7htbaoB6Ek"
      },
      "execution_count": 3,
      "outputs": []
    },
    {
      "cell_type": "markdown",
      "source": [
        "## Other Classifiers"
      ],
      "metadata": {
        "id": "hsFhAQ479HXq"
      }
    },
    {
      "cell_type": "code",
      "source": [
        "from sklearn.neighbors import KNeighborsClassifier\n",
        "from sklearn.linear_model import LogisticRegression\n",
        "from sklearn.svm import SVC\n",
        "from sklearn.tree import DecisionTreeClassifier"
      ],
      "metadata": {
        "id": "DWQ8kjpG9KVc"
      },
      "execution_count": 4,
      "outputs": []
    },
    {
      "cell_type": "markdown",
      "source": [
        "## Imports for Splitting Data and Building Pipeline\n"
      ],
      "metadata": {
        "id": "-5Akp3i4CPFj"
      }
    },
    {
      "cell_type": "code",
      "source": [
        "from sklearn.model_selection import train_test_split\n",
        "\n",
        "from sklearn.pipeline import Pipeline\n",
        "from sklearn.compose import ColumnTransformer\n",
        "from sklearn.preprocessing import MinMaxScaler\n",
        "from sklearn.preprocessing import OneHotEncoder"
      ],
      "metadata": {
        "id": "RPkp1dlKqLOT"
      },
      "execution_count": 5,
      "outputs": []
    },
    {
      "cell_type": "code",
      "source": [
        "from sklearn import set_config\n",
        "set_config(display='diagram')"
      ],
      "metadata": {
        "id": "1AWtY0zn6Vlx"
      },
      "execution_count": 6,
      "outputs": []
    },
    {
      "cell_type": "markdown",
      "source": [
        "# Imports for Performance Measures"
      ],
      "metadata": {
        "id": "JW9kgAGwpww3"
      }
    },
    {
      "cell_type": "code",
      "source": [
        "from sklearn.metrics import confusion_matrix\n",
        "from sklearn.metrics import precision_score, recall_score, f1_score\n",
        "from sklearn.metrics import mean_squared_error\n",
        "from sklearn.metrics import classification_report\n"
      ],
      "metadata": {
        "id": "N4WwSQlNpw7c"
      },
      "execution_count": 90,
      "outputs": []
    },
    {
      "cell_type": "markdown",
      "source": [
        "## Confusion Matrix Function\n",
        "This function is for creating a graphical version of the confusion matrix.\n",
        "\n"
      ],
      "metadata": {
        "id": "pWcDpHz0qF_J"
      }
    },
    {
      "cell_type": "code",
      "source": [
        "def plot_cm(y_test, y_pred):\n",
        "    cm = confusion_matrix(y_test,y_pred)\n",
        "    fig = plt.figure(figsize=(10,10))\n",
        "    heatmap = sns.heatmap(cm, annot=True, fmt='.2f', cmap='RdYlGn')\n",
        "    plt.ylabel('True label')\n",
        "    plt.xlabel('Predicted Label')"
      ],
      "metadata": {
        "id": "UyWroVXvp2ZD"
      },
      "execution_count": 8,
      "outputs": []
    },
    {
      "cell_type": "markdown",
      "source": [
        "### Evaluate Classification Model\n",
        "In order to streamline model evaluation, this function callse the plot_cm function and then prints out the Precision, Recall and F1 scores so this doesn't need to be done separately."
      ],
      "metadata": {
        "id": "urKrhFL-BVWf"
      }
    },
    {
      "cell_type": "code",
      "source": [
        "def eval_clf_model(y_test, y_pred):\n",
        "  plot_cm(y_test,y_pred)\n",
        "  print(\"Precision: \", precision_score(y_test,y_pred))  \n",
        "  print(\"Recall:\", recall_score(y_test,y_pred))\n",
        "  print(\"F1 Score:\", f1_score(y_test,y_pred)) "
      ],
      "metadata": {
        "id": "tiEZ_BSVBoNt"
      },
      "execution_count": 9,
      "outputs": []
    },
    {
      "cell_type": "markdown",
      "source": [
        "## Acquire Data\n",
        "\n",
        "I won't visualize this data here; I have already done that in previous notebooks."
      ],
      "metadata": {
        "id": "PbtwGYpbDQyy"
      }
    },
    {
      "cell_type": "code",
      "source": [
        "df = pd.read_csv('/content/gdrive/MyDrive/CS430/original_census.csv')"
      ],
      "metadata": {
        "id": "30EZ6l8l6Fx1"
      },
      "execution_count": 10,
      "outputs": []
    },
    {
      "cell_type": "code",
      "source": [
        "df.head()"
      ],
      "metadata": {
        "colab": {
          "base_uri": "https://localhost:8080/",
          "height": 204
        },
        "id": "-A-TGoNu4fal",
        "outputId": "1e5dbc9a-0e25-4698-fc5f-99022bfb72b8"
      },
      "execution_count": 11,
      "outputs": [
        {
          "output_type": "execute_result",
          "data": {
            "text/plain": [
              "   age         workclass  fnlwgt  education      marital_status  \\\n",
              "0   39         state_gov   77516  bachelors       never_married   \n",
              "1   50  self_emp_not_inc   83311  bachelors  married_civ_spouse   \n",
              "2   38           private  215646    hs_grad            divorced   \n",
              "3   53           private  234721       11th  married_civ_spouse   \n",
              "4   28           private  338409  bachelors  married_civ_spouse   \n",
              "\n",
              "          occupation   relationship   race     sex  capital_gain  \\\n",
              "0       adm_clerical  not_in_family  white    male          2174   \n",
              "1    exec_managerial        husband  white    male             0   \n",
              "2  handlers_cleaners  not_in_family  white    male             0   \n",
              "3  handlers_cleaners        husband  black    male             0   \n",
              "4     prof_specialty           wife  black  female             0   \n",
              "\n",
              "   capital_loss  hours_per_week native_country salary  \n",
              "0             0              40  united_states  <=50K  \n",
              "1             0              13  united_states  <=50K  \n",
              "2             0              40  united_states  <=50K  \n",
              "3             0              40  united_states  <=50K  \n",
              "4             0              40           cuba  <=50K  "
            ],
            "text/html": [
              "\n",
              "  <div id=\"df-701dc2ba-a01b-4750-b0cf-28ca72fab3e7\">\n",
              "    <div class=\"colab-df-container\">\n",
              "      <div>\n",
              "<style scoped>\n",
              "    .dataframe tbody tr th:only-of-type {\n",
              "        vertical-align: middle;\n",
              "    }\n",
              "\n",
              "    .dataframe tbody tr th {\n",
              "        vertical-align: top;\n",
              "    }\n",
              "\n",
              "    .dataframe thead th {\n",
              "        text-align: right;\n",
              "    }\n",
              "</style>\n",
              "<table border=\"1\" class=\"dataframe\">\n",
              "  <thead>\n",
              "    <tr style=\"text-align: right;\">\n",
              "      <th></th>\n",
              "      <th>age</th>\n",
              "      <th>workclass</th>\n",
              "      <th>fnlwgt</th>\n",
              "      <th>education</th>\n",
              "      <th>marital_status</th>\n",
              "      <th>occupation</th>\n",
              "      <th>relationship</th>\n",
              "      <th>race</th>\n",
              "      <th>sex</th>\n",
              "      <th>capital_gain</th>\n",
              "      <th>capital_loss</th>\n",
              "      <th>hours_per_week</th>\n",
              "      <th>native_country</th>\n",
              "      <th>salary</th>\n",
              "    </tr>\n",
              "  </thead>\n",
              "  <tbody>\n",
              "    <tr>\n",
              "      <th>0</th>\n",
              "      <td>39</td>\n",
              "      <td>state_gov</td>\n",
              "      <td>77516</td>\n",
              "      <td>bachelors</td>\n",
              "      <td>never_married</td>\n",
              "      <td>adm_clerical</td>\n",
              "      <td>not_in_family</td>\n",
              "      <td>white</td>\n",
              "      <td>male</td>\n",
              "      <td>2174</td>\n",
              "      <td>0</td>\n",
              "      <td>40</td>\n",
              "      <td>united_states</td>\n",
              "      <td>&lt;=50K</td>\n",
              "    </tr>\n",
              "    <tr>\n",
              "      <th>1</th>\n",
              "      <td>50</td>\n",
              "      <td>self_emp_not_inc</td>\n",
              "      <td>83311</td>\n",
              "      <td>bachelors</td>\n",
              "      <td>married_civ_spouse</td>\n",
              "      <td>exec_managerial</td>\n",
              "      <td>husband</td>\n",
              "      <td>white</td>\n",
              "      <td>male</td>\n",
              "      <td>0</td>\n",
              "      <td>0</td>\n",
              "      <td>13</td>\n",
              "      <td>united_states</td>\n",
              "      <td>&lt;=50K</td>\n",
              "    </tr>\n",
              "    <tr>\n",
              "      <th>2</th>\n",
              "      <td>38</td>\n",
              "      <td>private</td>\n",
              "      <td>215646</td>\n",
              "      <td>hs_grad</td>\n",
              "      <td>divorced</td>\n",
              "      <td>handlers_cleaners</td>\n",
              "      <td>not_in_family</td>\n",
              "      <td>white</td>\n",
              "      <td>male</td>\n",
              "      <td>0</td>\n",
              "      <td>0</td>\n",
              "      <td>40</td>\n",
              "      <td>united_states</td>\n",
              "      <td>&lt;=50K</td>\n",
              "    </tr>\n",
              "    <tr>\n",
              "      <th>3</th>\n",
              "      <td>53</td>\n",
              "      <td>private</td>\n",
              "      <td>234721</td>\n",
              "      <td>11th</td>\n",
              "      <td>married_civ_spouse</td>\n",
              "      <td>handlers_cleaners</td>\n",
              "      <td>husband</td>\n",
              "      <td>black</td>\n",
              "      <td>male</td>\n",
              "      <td>0</td>\n",
              "      <td>0</td>\n",
              "      <td>40</td>\n",
              "      <td>united_states</td>\n",
              "      <td>&lt;=50K</td>\n",
              "    </tr>\n",
              "    <tr>\n",
              "      <th>4</th>\n",
              "      <td>28</td>\n",
              "      <td>private</td>\n",
              "      <td>338409</td>\n",
              "      <td>bachelors</td>\n",
              "      <td>married_civ_spouse</td>\n",
              "      <td>prof_specialty</td>\n",
              "      <td>wife</td>\n",
              "      <td>black</td>\n",
              "      <td>female</td>\n",
              "      <td>0</td>\n",
              "      <td>0</td>\n",
              "      <td>40</td>\n",
              "      <td>cuba</td>\n",
              "      <td>&lt;=50K</td>\n",
              "    </tr>\n",
              "  </tbody>\n",
              "</table>\n",
              "</div>\n",
              "      <button class=\"colab-df-convert\" onclick=\"convertToInteractive('df-701dc2ba-a01b-4750-b0cf-28ca72fab3e7')\"\n",
              "              title=\"Convert this dataframe to an interactive table.\"\n",
              "              style=\"display:none;\">\n",
              "        \n",
              "  <svg xmlns=\"http://www.w3.org/2000/svg\" height=\"24px\"viewBox=\"0 0 24 24\"\n",
              "       width=\"24px\">\n",
              "    <path d=\"M0 0h24v24H0V0z\" fill=\"none\"/>\n",
              "    <path d=\"M18.56 5.44l.94 2.06.94-2.06 2.06-.94-2.06-.94-.94-2.06-.94 2.06-2.06.94zm-11 1L8.5 8.5l.94-2.06 2.06-.94-2.06-.94L8.5 2.5l-.94 2.06-2.06.94zm10 10l.94 2.06.94-2.06 2.06-.94-2.06-.94-.94-2.06-.94 2.06-2.06.94z\"/><path d=\"M17.41 7.96l-1.37-1.37c-.4-.4-.92-.59-1.43-.59-.52 0-1.04.2-1.43.59L10.3 9.45l-7.72 7.72c-.78.78-.78 2.05 0 2.83L4 21.41c.39.39.9.59 1.41.59.51 0 1.02-.2 1.41-.59l7.78-7.78 2.81-2.81c.8-.78.8-2.07 0-2.86zM5.41 20L4 18.59l7.72-7.72 1.47 1.35L5.41 20z\"/>\n",
              "  </svg>\n",
              "      </button>\n",
              "      \n",
              "  <style>\n",
              "    .colab-df-container {\n",
              "      display:flex;\n",
              "      flex-wrap:wrap;\n",
              "      gap: 12px;\n",
              "    }\n",
              "\n",
              "    .colab-df-convert {\n",
              "      background-color: #E8F0FE;\n",
              "      border: none;\n",
              "      border-radius: 50%;\n",
              "      cursor: pointer;\n",
              "      display: none;\n",
              "      fill: #1967D2;\n",
              "      height: 32px;\n",
              "      padding: 0 0 0 0;\n",
              "      width: 32px;\n",
              "    }\n",
              "\n",
              "    .colab-df-convert:hover {\n",
              "      background-color: #E2EBFA;\n",
              "      box-shadow: 0px 1px 2px rgba(60, 64, 67, 0.3), 0px 1px 3px 1px rgba(60, 64, 67, 0.15);\n",
              "      fill: #174EA6;\n",
              "    }\n",
              "\n",
              "    [theme=dark] .colab-df-convert {\n",
              "      background-color: #3B4455;\n",
              "      fill: #D2E3FC;\n",
              "    }\n",
              "\n",
              "    [theme=dark] .colab-df-convert:hover {\n",
              "      background-color: #434B5C;\n",
              "      box-shadow: 0px 1px 3px 1px rgba(0, 0, 0, 0.15);\n",
              "      filter: drop-shadow(0px 1px 2px rgba(0, 0, 0, 0.3));\n",
              "      fill: #FFFFFF;\n",
              "    }\n",
              "  </style>\n",
              "\n",
              "      <script>\n",
              "        const buttonEl =\n",
              "          document.querySelector('#df-701dc2ba-a01b-4750-b0cf-28ca72fab3e7 button.colab-df-convert');\n",
              "        buttonEl.style.display =\n",
              "          google.colab.kernel.accessAllowed ? 'block' : 'none';\n",
              "\n",
              "        async function convertToInteractive(key) {\n",
              "          const element = document.querySelector('#df-701dc2ba-a01b-4750-b0cf-28ca72fab3e7');\n",
              "          const dataTable =\n",
              "            await google.colab.kernel.invokeFunction('convertToInteractive',\n",
              "                                                     [key], {});\n",
              "          if (!dataTable) return;\n",
              "\n",
              "          const docLinkHtml = 'Like what you see? Visit the ' +\n",
              "            '<a target=\"_blank\" href=https://colab.research.google.com/notebooks/data_table.ipynb>data table notebook</a>'\n",
              "            + ' to learn more about interactive tables.';\n",
              "          element.innerHTML = '';\n",
              "          dataTable['output_type'] = 'display_data';\n",
              "          await google.colab.output.renderOutput(dataTable, element);\n",
              "          const docLink = document.createElement('div');\n",
              "          docLink.innerHTML = docLinkHtml;\n",
              "          element.appendChild(docLink);\n",
              "        }\n",
              "      </script>\n",
              "    </div>\n",
              "  </div>\n",
              "  "
            ]
          },
          "metadata": {},
          "execution_count": 11
        }
      ]
    },
    {
      "cell_type": "markdown",
      "source": [
        "### Splitting Data into Train/Test"
      ],
      "metadata": {
        "id": "FhtpEB4SEzSx"
      }
    },
    {
      "cell_type": "code",
      "source": [
        "df['salary'].replace(\"<=50K\", 0, inplace=True)\n",
        "df['salary'].replace(\">50K\", 1, inplace=True)"
      ],
      "metadata": {
        "id": "Mjhqon7bVIht"
      },
      "execution_count": 12,
      "outputs": []
    },
    {
      "cell_type": "code",
      "source": [
        "X = df.iloc[:,0:-1]\n",
        "y = df[['salary']]"
      ],
      "metadata": {
        "id": "eHPAjQXJE282"
      },
      "execution_count": 13,
      "outputs": []
    },
    {
      "cell_type": "markdown",
      "source": [
        "### Building the Pipeline\n"
      ],
      "metadata": {
        "id": "jPvXk_mdEJdg"
      }
    },
    {
      "cell_type": "markdown",
      "source": [
        "We'll set up our lists to contain the columns that numerical vs categorical."
      ],
      "metadata": {
        "id": "TJL3gzl0QbvZ"
      }
    },
    {
      "cell_type": "code",
      "source": [
        "num_attribs = ['age','fnlwgt','capital_gain','capital_loss', 'hours_per_week']\n",
        "cat_attribs = ['workclass','education','marital_status','occupation','relationship','race','sex','native_country']"
      ],
      "metadata": {
        "id": "xC-dQYhNENyN"
      },
      "execution_count": 14,
      "outputs": []
    },
    {
      "cell_type": "markdown",
      "source": [
        "Let's transform the categorical variables **before** we do the train/test split."
      ],
      "metadata": {
        "id": "xIqrCl0zQs2s"
      }
    },
    {
      "cell_type": "code",
      "source": [
        "transformed_X = pd.get_dummies(X, columns=cat_attribs)\n",
        "X_train, X_test, y_train, y_test = train_test_split(transformed_X,y, test_size=.20, random_state=32)"
      ],
      "metadata": {
        "id": "7ftONRTfP14d"
      },
      "execution_count": 19,
      "outputs": []
    },
    {
      "cell_type": "code",
      "source": [
        "X_train, X_test, y_train, y_test = train_test_split(transformed_X,y, test_size=.20, random_state=32)"
      ],
      "metadata": {
        "id": "dvBYqCUXP7TT"
      },
      "execution_count": 20,
      "outputs": []
    },
    {
      "cell_type": "code",
      "source": [
        ""
      ],
      "metadata": {
        "id": "CTimg-luRMoo"
      },
      "execution_count": null,
      "outputs": []
    },
    {
      "cell_type": "markdown",
      "source": [
        "Now we'll set up the column transformer to only minmax scale.  We are using remainder passthrough because we don't want to apply minmax to categorical variables."
      ],
      "metadata": {
        "id": "V1g3ek-9Q6xO"
      }
    },
    {
      "cell_type": "code",
      "source": [
        "col_transform = ColumnTransformer(transformers=[\n",
        "                                 ('num',MinMaxScaler(), num_attribs)],\n",
        "                                  remainder='passthrough')"
      ],
      "metadata": {
        "id": "sBKEwFvOYQOY"
      },
      "execution_count": 22,
      "outputs": []
    },
    {
      "cell_type": "markdown",
      "source": [
        "## Voting Classifier\n",
        "With these types of classifiers, you classify the data using different alogrithms and then assign it to the majority vote.  For example, it two classifiers vote 0 and one classifier votes 1, then the instance is predicted as class 0. You can use any classifier you want in a voting classifier. Here I will use KNN, Logistic Regression, and Support Vector Machines.\n"
      ],
      "metadata": {
        "id": "H8k35HIyMe3f"
      }
    },
    {
      "cell_type": "code",
      "source": [
        "knn = KNeighborsClassifier(n_neighbors=3)\n",
        "lr = LogisticRegression(max_iter=100000)\n",
        "svc = SVC(kernel='rbf')"
      ],
      "metadata": {
        "id": "itokAotcCJvl"
      },
      "execution_count": 22,
      "outputs": []
    },
    {
      "cell_type": "code",
      "source": [
        "voting = Pipeline([\n",
        "                     ('transform', col_transform),\n",
        "                     ('voting_ensemble',VotingClassifier(\n",
        "                         estimators=[\n",
        "                                     ('knn',knn),\n",
        "                                     ('lr',lr),\n",
        "                                     ('svc',svc)\n",
        "                                     ], voting='hard'))\n",
        "                     ])"
      ],
      "metadata": {
        "id": "3lxTpM2oFPjE"
      },
      "execution_count": 28,
      "outputs": []
    },
    {
      "cell_type": "markdown",
      "source": [
        "### Executing the Model"
      ],
      "metadata": {
        "id": "8vSidC97Jbx2"
      }
    },
    {
      "cell_type": "code",
      "source": [
        "voting.fit(X_train,np.ravel(y_train))"
      ],
      "metadata": {
        "colab": {
          "base_uri": "https://localhost:8080/",
          "height": 246
        },
        "id": "fHgn2zEI-Ym2",
        "outputId": "693fcab7-b8d3-4464-c7e9-e0ce22fe5374"
      },
      "execution_count": 29,
      "outputs": [
        {
          "output_type": "execute_result",
          "data": {
            "text/plain": [
              "Pipeline(steps=[('transform',\n",
              "                 ColumnTransformer(remainder='passthrough',\n",
              "                                   transformers=[('num', MinMaxScaler(),\n",
              "                                                  ['age', 'fnlwgt',\n",
              "                                                   'capital_gain',\n",
              "                                                   'capital_loss',\n",
              "                                                   'hours_per_week'])])),\n",
              "                ('voting_ensemble',\n",
              "                 VotingClassifier(estimators=[('knn',\n",
              "                                               KNeighborsClassifier(n_neighbors=3)),\n",
              "                                              ('lr',\n",
              "                                               LogisticRegression(max_iter=100000)),\n",
              "                                              ('svc', SVC())]))])"
            ],
            "text/html": [
              "<style>#sk-edb6058f-70d2-4fda-aad0-e46d0c81368a {color: black;background-color: white;}#sk-edb6058f-70d2-4fda-aad0-e46d0c81368a pre{padding: 0;}#sk-edb6058f-70d2-4fda-aad0-e46d0c81368a div.sk-toggleable {background-color: white;}#sk-edb6058f-70d2-4fda-aad0-e46d0c81368a label.sk-toggleable__label {cursor: pointer;display: block;width: 100%;margin-bottom: 0;padding: 0.3em;box-sizing: border-box;text-align: center;}#sk-edb6058f-70d2-4fda-aad0-e46d0c81368a label.sk-toggleable__label-arrow:before {content: \"▸\";float: left;margin-right: 0.25em;color: #696969;}#sk-edb6058f-70d2-4fda-aad0-e46d0c81368a label.sk-toggleable__label-arrow:hover:before {color: black;}#sk-edb6058f-70d2-4fda-aad0-e46d0c81368a div.sk-estimator:hover label.sk-toggleable__label-arrow:before {color: black;}#sk-edb6058f-70d2-4fda-aad0-e46d0c81368a div.sk-toggleable__content {max-height: 0;max-width: 0;overflow: hidden;text-align: left;background-color: #f0f8ff;}#sk-edb6058f-70d2-4fda-aad0-e46d0c81368a div.sk-toggleable__content pre {margin: 0.2em;color: black;border-radius: 0.25em;background-color: #f0f8ff;}#sk-edb6058f-70d2-4fda-aad0-e46d0c81368a input.sk-toggleable__control:checked~div.sk-toggleable__content {max-height: 200px;max-width: 100%;overflow: auto;}#sk-edb6058f-70d2-4fda-aad0-e46d0c81368a input.sk-toggleable__control:checked~label.sk-toggleable__label-arrow:before {content: \"▾\";}#sk-edb6058f-70d2-4fda-aad0-e46d0c81368a div.sk-estimator input.sk-toggleable__control:checked~label.sk-toggleable__label {background-color: #d4ebff;}#sk-edb6058f-70d2-4fda-aad0-e46d0c81368a div.sk-label input.sk-toggleable__control:checked~label.sk-toggleable__label {background-color: #d4ebff;}#sk-edb6058f-70d2-4fda-aad0-e46d0c81368a input.sk-hidden--visually {border: 0;clip: rect(1px 1px 1px 1px);clip: rect(1px, 1px, 1px, 1px);height: 1px;margin: -1px;overflow: hidden;padding: 0;position: absolute;width: 1px;}#sk-edb6058f-70d2-4fda-aad0-e46d0c81368a div.sk-estimator {font-family: monospace;background-color: #f0f8ff;border: 1px dotted black;border-radius: 0.25em;box-sizing: border-box;margin-bottom: 0.5em;}#sk-edb6058f-70d2-4fda-aad0-e46d0c81368a div.sk-estimator:hover {background-color: #d4ebff;}#sk-edb6058f-70d2-4fda-aad0-e46d0c81368a div.sk-parallel-item::after {content: \"\";width: 100%;border-bottom: 1px solid gray;flex-grow: 1;}#sk-edb6058f-70d2-4fda-aad0-e46d0c81368a div.sk-label:hover label.sk-toggleable__label {background-color: #d4ebff;}#sk-edb6058f-70d2-4fda-aad0-e46d0c81368a div.sk-serial::before {content: \"\";position: absolute;border-left: 1px solid gray;box-sizing: border-box;top: 2em;bottom: 0;left: 50%;}#sk-edb6058f-70d2-4fda-aad0-e46d0c81368a div.sk-serial {display: flex;flex-direction: column;align-items: center;background-color: white;padding-right: 0.2em;padding-left: 0.2em;}#sk-edb6058f-70d2-4fda-aad0-e46d0c81368a div.sk-item {z-index: 1;}#sk-edb6058f-70d2-4fda-aad0-e46d0c81368a div.sk-parallel {display: flex;align-items: stretch;justify-content: center;background-color: white;}#sk-edb6058f-70d2-4fda-aad0-e46d0c81368a div.sk-parallel::before {content: \"\";position: absolute;border-left: 1px solid gray;box-sizing: border-box;top: 2em;bottom: 0;left: 50%;}#sk-edb6058f-70d2-4fda-aad0-e46d0c81368a div.sk-parallel-item {display: flex;flex-direction: column;position: relative;background-color: white;}#sk-edb6058f-70d2-4fda-aad0-e46d0c81368a div.sk-parallel-item:first-child::after {align-self: flex-end;width: 50%;}#sk-edb6058f-70d2-4fda-aad0-e46d0c81368a div.sk-parallel-item:last-child::after {align-self: flex-start;width: 50%;}#sk-edb6058f-70d2-4fda-aad0-e46d0c81368a div.sk-parallel-item:only-child::after {width: 0;}#sk-edb6058f-70d2-4fda-aad0-e46d0c81368a div.sk-dashed-wrapped {border: 1px dashed gray;margin: 0 0.4em 0.5em 0.4em;box-sizing: border-box;padding-bottom: 0.4em;background-color: white;position: relative;}#sk-edb6058f-70d2-4fda-aad0-e46d0c81368a div.sk-label label {font-family: monospace;font-weight: bold;background-color: white;display: inline-block;line-height: 1.2em;}#sk-edb6058f-70d2-4fda-aad0-e46d0c81368a div.sk-label-container {position: relative;z-index: 2;text-align: center;}#sk-edb6058f-70d2-4fda-aad0-e46d0c81368a div.sk-container {/* jupyter's `normalize.less` sets `[hidden] { display: none; }` but bootstrap.min.css set `[hidden] { display: none !important; }` so we also need the `!important` here to be able to override the default hidden behavior on the sphinx rendered scikit-learn.org. See: https://github.com/scikit-learn/scikit-learn/issues/21755 */display: inline-block !important;position: relative;}#sk-edb6058f-70d2-4fda-aad0-e46d0c81368a div.sk-text-repr-fallback {display: none;}</style><div id=\"sk-edb6058f-70d2-4fda-aad0-e46d0c81368a\" class=\"sk-top-container\"><div class=\"sk-text-repr-fallback\"><pre>Pipeline(steps=[(&#x27;transform&#x27;,\n",
              "                 ColumnTransformer(remainder=&#x27;passthrough&#x27;,\n",
              "                                   transformers=[(&#x27;num&#x27;, MinMaxScaler(),\n",
              "                                                  [&#x27;age&#x27;, &#x27;fnlwgt&#x27;,\n",
              "                                                   &#x27;capital_gain&#x27;,\n",
              "                                                   &#x27;capital_loss&#x27;,\n",
              "                                                   &#x27;hours_per_week&#x27;])])),\n",
              "                (&#x27;voting_ensemble&#x27;,\n",
              "                 VotingClassifier(estimators=[(&#x27;knn&#x27;,\n",
              "                                               KNeighborsClassifier(n_neighbors=3)),\n",
              "                                              (&#x27;lr&#x27;,\n",
              "                                               LogisticRegression(max_iter=100000)),\n",
              "                                              (&#x27;svc&#x27;, SVC())]))])</pre><b>Please rerun this cell to show the HTML repr or trust the notebook.</b></div><div class=\"sk-container\" hidden><div class=\"sk-item sk-dashed-wrapped\"><div class=\"sk-label-container\"><div class=\"sk-label sk-toggleable\"><input class=\"sk-toggleable__control sk-hidden--visually\" id=\"0e56f8bb-257a-42dd-a068-6ba4c5f12989\" type=\"checkbox\" ><label for=\"0e56f8bb-257a-42dd-a068-6ba4c5f12989\" class=\"sk-toggleable__label sk-toggleable__label-arrow\">Pipeline</label><div class=\"sk-toggleable__content\"><pre>Pipeline(steps=[(&#x27;transform&#x27;,\n",
              "                 ColumnTransformer(remainder=&#x27;passthrough&#x27;,\n",
              "                                   transformers=[(&#x27;num&#x27;, MinMaxScaler(),\n",
              "                                                  [&#x27;age&#x27;, &#x27;fnlwgt&#x27;,\n",
              "                                                   &#x27;capital_gain&#x27;,\n",
              "                                                   &#x27;capital_loss&#x27;,\n",
              "                                                   &#x27;hours_per_week&#x27;])])),\n",
              "                (&#x27;voting_ensemble&#x27;,\n",
              "                 VotingClassifier(estimators=[(&#x27;knn&#x27;,\n",
              "                                               KNeighborsClassifier(n_neighbors=3)),\n",
              "                                              (&#x27;lr&#x27;,\n",
              "                                               LogisticRegression(max_iter=100000)),\n",
              "                                              (&#x27;svc&#x27;, SVC())]))])</pre></div></div></div><div class=\"sk-serial\"><div class=\"sk-item sk-dashed-wrapped\"><div class=\"sk-label-container\"><div class=\"sk-label sk-toggleable\"><input class=\"sk-toggleable__control sk-hidden--visually\" id=\"89a19451-e5b3-467b-ab06-977d3cce6345\" type=\"checkbox\" ><label for=\"89a19451-e5b3-467b-ab06-977d3cce6345\" class=\"sk-toggleable__label sk-toggleable__label-arrow\">transform: ColumnTransformer</label><div class=\"sk-toggleable__content\"><pre>ColumnTransformer(remainder=&#x27;passthrough&#x27;,\n",
              "                  transformers=[(&#x27;num&#x27;, MinMaxScaler(),\n",
              "                                 [&#x27;age&#x27;, &#x27;fnlwgt&#x27;, &#x27;capital_gain&#x27;,\n",
              "                                  &#x27;capital_loss&#x27;, &#x27;hours_per_week&#x27;])])</pre></div></div></div><div class=\"sk-parallel\"><div class=\"sk-parallel-item\"><div class=\"sk-item\"><div class=\"sk-label-container\"><div class=\"sk-label sk-toggleable\"><input class=\"sk-toggleable__control sk-hidden--visually\" id=\"22ef73bf-4428-498c-a16e-cd95533ccd07\" type=\"checkbox\" ><label for=\"22ef73bf-4428-498c-a16e-cd95533ccd07\" class=\"sk-toggleable__label sk-toggleable__label-arrow\">num</label><div class=\"sk-toggleable__content\"><pre>[&#x27;age&#x27;, &#x27;fnlwgt&#x27;, &#x27;capital_gain&#x27;, &#x27;capital_loss&#x27;, &#x27;hours_per_week&#x27;]</pre></div></div></div><div class=\"sk-serial\"><div class=\"sk-item\"><div class=\"sk-estimator sk-toggleable\"><input class=\"sk-toggleable__control sk-hidden--visually\" id=\"1f0bd30f-49af-4e52-808f-fc2c4636b951\" type=\"checkbox\" ><label for=\"1f0bd30f-49af-4e52-808f-fc2c4636b951\" class=\"sk-toggleable__label sk-toggleable__label-arrow\">MinMaxScaler</label><div class=\"sk-toggleable__content\"><pre>MinMaxScaler()</pre></div></div></div></div></div></div><div class=\"sk-parallel-item\"><div class=\"sk-item\"><div class=\"sk-label-container\"><div class=\"sk-label sk-toggleable\"><input class=\"sk-toggleable__control sk-hidden--visually\" id=\"9447c836-93bf-4c20-a438-b6547fbcfb6e\" type=\"checkbox\" ><label for=\"9447c836-93bf-4c20-a438-b6547fbcfb6e\" class=\"sk-toggleable__label sk-toggleable__label-arrow\">remainder</label><div class=\"sk-toggleable__content\"><pre>[&#x27;workclass_federal_gov&#x27;, &#x27;workclass_local_gov&#x27;, &#x27;workclass_never_worked&#x27;, &#x27;workclass_private&#x27;, &#x27;workclass_self_emp_inc&#x27;, &#x27;workclass_self_emp_not_inc&#x27;, &#x27;workclass_state_gov&#x27;, &#x27;workclass_unknown&#x27;, &#x27;workclass_without_pay&#x27;, &#x27;education_10th&#x27;, &#x27;education_11th&#x27;, &#x27;education_12th&#x27;, &#x27;education_1st_4th&#x27;, &#x27;education_5th_6th&#x27;, &#x27;education_7th_8th&#x27;, &#x27;education_9th&#x27;, &#x27;education_assoc_acdm&#x27;, &#x27;education_assoc_voc&#x27;, &#x27;education_bachelors&#x27;, &#x27;education_doctorate&#x27;, &#x27;education_hs_grad&#x27;, &#x27;education_masters&#x27;, &#x27;education_preschool&#x27;, &#x27;education_prof_school&#x27;, &#x27;education_some_college&#x27;, &#x27;marital_status_divorced&#x27;, &#x27;marital_status_married_af_spouse&#x27;, &#x27;marital_status_married_civ_spouse&#x27;, &#x27;marital_status_married_spouse_absent&#x27;, &#x27;marital_status_never_married&#x27;, &#x27;marital_status_separated&#x27;, &#x27;marital_status_widowed&#x27;, &#x27;occupation_adm_clerical&#x27;, &#x27;occupation_armed_forces&#x27;, &#x27;occupation_craft_repair&#x27;, &#x27;occupation_exec_managerial&#x27;, &#x27;occupation_farming_fishing&#x27;, &#x27;occupation_handlers_cleaners&#x27;, &#x27;occupation_machine_op_inspct&#x27;, &#x27;occupation_other_service&#x27;, &#x27;occupation_priv_house_serv&#x27;, &#x27;occupation_prof_specialty&#x27;, &#x27;occupation_protective_serv&#x27;, &#x27;occupation_sales&#x27;, &#x27;occupation_tech_support&#x27;, &#x27;occupation_transport_moving&#x27;, &#x27;occupation_unknown&#x27;, &#x27;relationship_husband&#x27;, &#x27;relationship_not_in_family&#x27;, &#x27;relationship_other_relative&#x27;, &#x27;relationship_own_child&#x27;, &#x27;relationship_unmarried&#x27;, &#x27;relationship_wife&#x27;, &#x27;race_amer_indian_eskimo&#x27;, &#x27;race_asian_pac_islander&#x27;, &#x27;race_black&#x27;, &#x27;race_other&#x27;, &#x27;race_white&#x27;, &#x27;sex_female&#x27;, &#x27;sex_male&#x27;, &#x27;native_country_cambodia&#x27;, &#x27;native_country_canada&#x27;, &#x27;native_country_china&#x27;, &#x27;native_country_columbia&#x27;, &#x27;native_country_cuba&#x27;, &#x27;native_country_dominican_republic&#x27;, &#x27;native_country_ecuador&#x27;, &#x27;native_country_el_salvador&#x27;, &#x27;native_country_england&#x27;, &#x27;native_country_france&#x27;, &#x27;native_country_germany&#x27;, &#x27;native_country_greece&#x27;, &#x27;native_country_guatemala&#x27;, &#x27;native_country_haiti&#x27;, &#x27;native_country_holand_netherlands&#x27;, &#x27;native_country_honduras&#x27;, &#x27;native_country_hong&#x27;, &#x27;native_country_hungary&#x27;, &#x27;native_country_india&#x27;, &#x27;native_country_iran&#x27;, &#x27;native_country_ireland&#x27;, &#x27;native_country_italy&#x27;, &#x27;native_country_jamaica&#x27;, &#x27;native_country_japan&#x27;, &#x27;native_country_laos&#x27;, &#x27;native_country_mexico&#x27;, &#x27;native_country_nicaragua&#x27;, &#x27;native_country_outlying_us(guam_usvi_etc)&#x27;, &#x27;native_country_peru&#x27;, &#x27;native_country_philippines&#x27;, &#x27;native_country_poland&#x27;, &#x27;native_country_portugal&#x27;, &#x27;native_country_puerto_rico&#x27;, &#x27;native_country_scotland&#x27;, &#x27;native_country_south&#x27;, &#x27;native_country_taiwan&#x27;, &#x27;native_country_thailand&#x27;, &#x27;native_country_trinadad&amp;tobago&#x27;, &#x27;native_country_united_states&#x27;, &#x27;native_country_unknown&#x27;, &#x27;native_country_vietnam&#x27;, &#x27;native_country_yugoslavia&#x27;]</pre></div></div></div><div class=\"sk-serial\"><div class=\"sk-item\"><div class=\"sk-estimator sk-toggleable\"><input class=\"sk-toggleable__control sk-hidden--visually\" id=\"cc4573a2-c4af-4240-ac9c-b40889969da2\" type=\"checkbox\" ><label for=\"cc4573a2-c4af-4240-ac9c-b40889969da2\" class=\"sk-toggleable__label sk-toggleable__label-arrow\">passthrough</label><div class=\"sk-toggleable__content\"><pre>passthrough</pre></div></div></div></div></div></div></div></div><div class=\"sk-item sk-dashed-wrapped\"><div class=\"sk-label-container\"><div class=\"sk-label sk-toggleable\"><input class=\"sk-toggleable__control sk-hidden--visually\" id=\"3d7d81be-c6f6-46fd-b6ba-f2fb83c3ff53\" type=\"checkbox\" ><label for=\"3d7d81be-c6f6-46fd-b6ba-f2fb83c3ff53\" class=\"sk-toggleable__label sk-toggleable__label-arrow\">voting_ensemble: VotingClassifier</label><div class=\"sk-toggleable__content\"><pre>VotingClassifier(estimators=[(&#x27;knn&#x27;, KNeighborsClassifier(n_neighbors=3)),\n",
              "                             (&#x27;lr&#x27;, LogisticRegression(max_iter=100000)),\n",
              "                             (&#x27;svc&#x27;, SVC())])</pre></div></div></div><div class=\"sk-parallel\"><div class=\"sk-parallel-item\"><div class=\"sk-item\"><div class=\"sk-label-container\"><div class=\"sk-label sk-toggleable\"><label>knn</label></div></div><div class=\"sk-serial\"><div class=\"sk-item\"><div class=\"sk-estimator sk-toggleable\"><input class=\"sk-toggleable__control sk-hidden--visually\" id=\"6422438c-a88c-4497-bf82-10390dbc4eb0\" type=\"checkbox\" ><label for=\"6422438c-a88c-4497-bf82-10390dbc4eb0\" class=\"sk-toggleable__label sk-toggleable__label-arrow\">KNeighborsClassifier</label><div class=\"sk-toggleable__content\"><pre>KNeighborsClassifier(n_neighbors=3)</pre></div></div></div></div></div></div><div class=\"sk-parallel-item\"><div class=\"sk-item\"><div class=\"sk-label-container\"><div class=\"sk-label sk-toggleable\"><label>lr</label></div></div><div class=\"sk-serial\"><div class=\"sk-item\"><div class=\"sk-estimator sk-toggleable\"><input class=\"sk-toggleable__control sk-hidden--visually\" id=\"3fc413eb-d6e6-4b2b-b624-1608151d51cb\" type=\"checkbox\" ><label for=\"3fc413eb-d6e6-4b2b-b624-1608151d51cb\" class=\"sk-toggleable__label sk-toggleable__label-arrow\">LogisticRegression</label><div class=\"sk-toggleable__content\"><pre>LogisticRegression(max_iter=100000)</pre></div></div></div></div></div></div><div class=\"sk-parallel-item\"><div class=\"sk-item\"><div class=\"sk-label-container\"><div class=\"sk-label sk-toggleable\"><label>svc</label></div></div><div class=\"sk-serial\"><div class=\"sk-item\"><div class=\"sk-estimator sk-toggleable\"><input class=\"sk-toggleable__control sk-hidden--visually\" id=\"6e9210bf-f43e-4e6d-b919-ad7c382bf0d8\" type=\"checkbox\" ><label for=\"6e9210bf-f43e-4e6d-b919-ad7c382bf0d8\" class=\"sk-toggleable__label sk-toggleable__label-arrow\">SVC</label><div class=\"sk-toggleable__content\"><pre>SVC()</pre></div></div></div></div></div></div></div></div></div></div></div></div>"
            ]
          },
          "metadata": {},
          "execution_count": 29
        }
      ]
    },
    {
      "cell_type": "markdown",
      "source": [
        "### Evaluating Model"
      ],
      "metadata": {
        "id": "iBFx9cbQJCKr"
      }
    },
    {
      "cell_type": "code",
      "source": [
        "y_pred = voting.predict(X_test)"
      ],
      "metadata": {
        "id": "uRgQSF4p8btp"
      },
      "execution_count": 30,
      "outputs": []
    },
    {
      "cell_type": "code",
      "source": [
        "eval_clf_model(y_test,y_pred)"
      ],
      "metadata": {
        "colab": {
          "base_uri": "https://localhost:8080/",
          "height": 661
        },
        "outputId": "0b7b3cbf-605b-4791-a8c9-8647ef55b363",
        "id": "hR9feVvS8buD"
      },
      "execution_count": 32,
      "outputs": [
        {
          "output_type": "stream",
          "name": "stdout",
          "text": [
            "Precision:  0.7173174872665535\n",
            "Recall: 0.5544619422572179\n",
            "F1 Score: 0.6254626202812732\n"
          ]
        },
        {
          "output_type": "display_data",
          "data": {
            "text/plain": [
              "<Figure size 720x720 with 2 Axes>"
            ],
            "image/png": "[encoded data removed]"
          },
          "metadata": {
            "needs_background": "light"
          }
        }
      ]
    },
    {
      "cell_type": "markdown",
      "source": [
        "### Conclusion\n",
        "This model isn't great with this data, but there is a lot of room for trying different parameters of the machine learning algorithms to get better results. You might even try a GridSearch.  I'll leave that up to you to tinker with."
      ],
      "metadata": {
        "id": "3lnXErgPJFde"
      }
    },
    {
      "cell_type": "markdown",
      "source": [
        "## Bagging and pasting\n",
        "Another approach is to use the same algorithm multiple times and average the predictions.  That's what bagging and pasting does."
      ],
      "metadata": {
        "id": "U0k0pRdMDMly"
      }
    },
    {
      "cell_type": "code",
      "source": [
        "bagging = Pipeline([\n",
        "                     ('transform', col_transform),\n",
        "                     ('bagging',BaggingClassifier(DecisionTreeClassifier(),n_estimators=1000, max_samples=5000, bootstrap=True, n_jobs=-1))\n",
        "                     ])"
      ],
      "metadata": {
        "id": "b7CJ2VheFQCm"
      },
      "execution_count": 33,
      "outputs": []
    },
    {
      "cell_type": "markdown",
      "source": [
        "### Executing the Model"
      ],
      "metadata": {
        "id": "qhy3c5n3FQCt"
      }
    },
    {
      "cell_type": "code",
      "source": [
        "bagging.fit(X_train,np.ravel(y_train))"
      ],
      "metadata": {
        "colab": {
          "base_uri": "https://localhost:8080/",
          "height": 269
        },
        "outputId": "74ba91c5-0dfb-4a99-c8d1-52fa55247d26",
        "id": "yRQnDNSIFQCt"
      },
      "execution_count": 34,
      "outputs": [
        {
          "output_type": "execute_result",
          "data": {
            "text/plain": [
              "Pipeline(steps=[('transform',\n",
              "                 ColumnTransformer(remainder='passthrough',\n",
              "                                   transformers=[('num', MinMaxScaler(),\n",
              "                                                  ['age', 'fnlwgt',\n",
              "                                                   'capital_gain',\n",
              "                                                   'capital_loss',\n",
              "                                                   'hours_per_week'])])),\n",
              "                ('bagging',\n",
              "                 BaggingClassifier(base_estimator=DecisionTreeClassifier(),\n",
              "                                   max_samples=5000, n_estimators=1000,\n",
              "                                   n_jobs=-1))])"
            ],
            "text/html": [
              "<style>#sk-21a81126-477b-49f7-89e7-415cabfc5b47 {color: black;background-color: white;}#sk-21a81126-477b-49f7-89e7-415cabfc5b47 pre{padding: 0;}#sk-21a81126-477b-49f7-89e7-415cabfc5b47 div.sk-toggleable {background-color: white;}#sk-21a81126-477b-49f7-89e7-415cabfc5b47 label.sk-toggleable__label {cursor: pointer;display: block;width: 100%;margin-bottom: 0;padding: 0.3em;box-sizing: border-box;text-align: center;}#sk-21a81126-477b-49f7-89e7-415cabfc5b47 label.sk-toggleable__label-arrow:before {content: \"▸\";float: left;margin-right: 0.25em;color: #696969;}#sk-21a81126-477b-49f7-89e7-415cabfc5b47 label.sk-toggleable__label-arrow:hover:before {color: black;}#sk-21a81126-477b-49f7-89e7-415cabfc5b47 div.sk-estimator:hover label.sk-toggleable__label-arrow:before {color: black;}#sk-21a81126-477b-49f7-89e7-415cabfc5b47 div.sk-toggleable__content {max-height: 0;max-width: 0;overflow: hidden;text-align: left;background-color: #f0f8ff;}#sk-21a81126-477b-49f7-89e7-415cabfc5b47 div.sk-toggleable__content pre {margin: 0.2em;color: black;border-radius: 0.25em;background-color: #f0f8ff;}#sk-21a81126-477b-49f7-89e7-415cabfc5b47 input.sk-toggleable__control:checked~div.sk-toggleable__content {max-height: 200px;max-width: 100%;overflow: auto;}#sk-21a81126-477b-49f7-89e7-415cabfc5b47 input.sk-toggleable__control:checked~label.sk-toggleable__label-arrow:before {content: \"▾\";}#sk-21a81126-477b-49f7-89e7-415cabfc5b47 div.sk-estimator input.sk-toggleable__control:checked~label.sk-toggleable__label {background-color: #d4ebff;}#sk-21a81126-477b-49f7-89e7-415cabfc5b47 div.sk-label input.sk-toggleable__control:checked~label.sk-toggleable__label {background-color: #d4ebff;}#sk-21a81126-477b-49f7-89e7-415cabfc5b47 input.sk-hidden--visually {border: 0;clip: rect(1px 1px 1px 1px);clip: rect(1px, 1px, 1px, 1px);height: 1px;margin: -1px;overflow: hidden;padding: 0;position: absolute;width: 1px;}#sk-21a81126-477b-49f7-89e7-415cabfc5b47 div.sk-estimator {font-family: monospace;background-color: #f0f8ff;border: 1px dotted black;border-radius: 0.25em;box-sizing: border-box;margin-bottom: 0.5em;}#sk-21a81126-477b-49f7-89e7-415cabfc5b47 div.sk-estimator:hover {background-color: #d4ebff;}#sk-21a81126-477b-49f7-89e7-415cabfc5b47 div.sk-parallel-item::after {content: \"\";width: 100%;border-bottom: 1px solid gray;flex-grow: 1;}#sk-21a81126-477b-49f7-89e7-415cabfc5b47 div.sk-label:hover label.sk-toggleable__label {background-color: #d4ebff;}#sk-21a81126-477b-49f7-89e7-415cabfc5b47 div.sk-serial::before {content: \"\";position: absolute;border-left: 1px solid gray;box-sizing: border-box;top: 2em;bottom: 0;left: 50%;}#sk-21a81126-477b-49f7-89e7-415cabfc5b47 div.sk-serial {display: flex;flex-direction: column;align-items: center;background-color: white;padding-right: 0.2em;padding-left: 0.2em;}#sk-21a81126-477b-49f7-89e7-415cabfc5b47 div.sk-item {z-index: 1;}#sk-21a81126-477b-49f7-89e7-415cabfc5b47 div.sk-parallel {display: flex;align-items: stretch;justify-content: center;background-color: white;}#sk-21a81126-477b-49f7-89e7-415cabfc5b47 div.sk-parallel::before {content: \"\";position: absolute;border-left: 1px solid gray;box-sizing: border-box;top: 2em;bottom: 0;left: 50%;}#sk-21a81126-477b-49f7-89e7-415cabfc5b47 div.sk-parallel-item {display: flex;flex-direction: column;position: relative;background-color: white;}#sk-21a81126-477b-49f7-89e7-415cabfc5b47 div.sk-parallel-item:first-child::after {align-self: flex-end;width: 50%;}#sk-21a81126-477b-49f7-89e7-415cabfc5b47 div.sk-parallel-item:last-child::after {align-self: flex-start;width: 50%;}#sk-21a81126-477b-49f7-89e7-415cabfc5b47 div.sk-parallel-item:only-child::after {width: 0;}#sk-21a81126-477b-49f7-89e7-415cabfc5b47 div.sk-dashed-wrapped {border: 1px dashed gray;margin: 0 0.4em 0.5em 0.4em;box-sizing: border-box;padding-bottom: 0.4em;background-color: white;position: relative;}#sk-21a81126-477b-49f7-89e7-415cabfc5b47 div.sk-label label {font-family: monospace;font-weight: bold;background-color: white;display: inline-block;line-height: 1.2em;}#sk-21a81126-477b-49f7-89e7-415cabfc5b47 div.sk-label-container {position: relative;z-index: 2;text-align: center;}#sk-21a81126-477b-49f7-89e7-415cabfc5b47 div.sk-container {/* jupyter's `normalize.less` sets `[hidden] { display: none; }` but bootstrap.min.css set `[hidden] { display: none !important; }` so we also need the `!important` here to be able to override the default hidden behavior on the sphinx rendered scikit-learn.org. See: https://github.com/scikit-learn/scikit-learn/issues/21755 */display: inline-block !important;position: relative;}#sk-21a81126-477b-49f7-89e7-415cabfc5b47 div.sk-text-repr-fallback {display: none;}</style><div id=\"sk-21a81126-477b-49f7-89e7-415cabfc5b47\" class=\"sk-top-container\"><div class=\"sk-text-repr-fallback\"><pre>Pipeline(steps=[(&#x27;transform&#x27;,\n",
              "                 ColumnTransformer(remainder=&#x27;passthrough&#x27;,\n",
              "                                   transformers=[(&#x27;num&#x27;, MinMaxScaler(),\n",
              "                                                  [&#x27;age&#x27;, &#x27;fnlwgt&#x27;,\n",
              "                                                   &#x27;capital_gain&#x27;,\n",
              "                                                   &#x27;capital_loss&#x27;,\n",
              "                                                   &#x27;hours_per_week&#x27;])])),\n",
              "                (&#x27;bagging&#x27;,\n",
              "                 BaggingClassifier(base_estimator=DecisionTreeClassifier(),\n",
              "                                   max_samples=5000, n_estimators=1000,\n",
              "                                   n_jobs=-1))])</pre><b>Please rerun this cell to show the HTML repr or trust the notebook.</b></div><div class=\"sk-container\" hidden><div class=\"sk-item sk-dashed-wrapped\"><div class=\"sk-label-container\"><div class=\"sk-label sk-toggleable\"><input class=\"sk-toggleable__control sk-hidden--visually\" id=\"f32bdf5c-efe1-4df4-8076-969ff21116f5\" type=\"checkbox\" ><label for=\"f32bdf5c-efe1-4df4-8076-969ff21116f5\" class=\"sk-toggleable__label sk-toggleable__label-arrow\">Pipeline</label><div class=\"sk-toggleable__content\"><pre>Pipeline(steps=[(&#x27;transform&#x27;,\n",
              "                 ColumnTransformer(remainder=&#x27;passthrough&#x27;,\n",
              "                                   transformers=[(&#x27;num&#x27;, MinMaxScaler(),\n",
              "                                                  [&#x27;age&#x27;, &#x27;fnlwgt&#x27;,\n",
              "                                                   &#x27;capital_gain&#x27;,\n",
              "                                                   &#x27;capital_loss&#x27;,\n",
              "                                                   &#x27;hours_per_week&#x27;])])),\n",
              "                (&#x27;bagging&#x27;,\n",
              "                 BaggingClassifier(base_estimator=DecisionTreeClassifier(),\n",
              "                                   max_samples=5000, n_estimators=1000,\n",
              "                                   n_jobs=-1))])</pre></div></div></div><div class=\"sk-serial\"><div class=\"sk-item sk-dashed-wrapped\"><div class=\"sk-label-container\"><div class=\"sk-label sk-toggleable\"><input class=\"sk-toggleable__control sk-hidden--visually\" id=\"d724e892-b06f-4513-85b5-bf384d127042\" type=\"checkbox\" ><label for=\"d724e892-b06f-4513-85b5-bf384d127042\" class=\"sk-toggleable__label sk-toggleable__label-arrow\">transform: ColumnTransformer</label><div class=\"sk-toggleable__content\"><pre>ColumnTransformer(remainder=&#x27;passthrough&#x27;,\n",
              "                  transformers=[(&#x27;num&#x27;, MinMaxScaler(),\n",
              "                                 [&#x27;age&#x27;, &#x27;fnlwgt&#x27;, &#x27;capital_gain&#x27;,\n",
              "                                  &#x27;capital_loss&#x27;, &#x27;hours_per_week&#x27;])])</pre></div></div></div><div class=\"sk-parallel\"><div class=\"sk-parallel-item\"><div class=\"sk-item\"><div class=\"sk-label-container\"><div class=\"sk-label sk-toggleable\"><input class=\"sk-toggleable__control sk-hidden--visually\" id=\"9b857db2-86da-40a9-84fb-2c1b325f8686\" type=\"checkbox\" ><label for=\"9b857db2-86da-40a9-84fb-2c1b325f8686\" class=\"sk-toggleable__label sk-toggleable__label-arrow\">num</label><div class=\"sk-toggleable__content\"><pre>[&#x27;age&#x27;, &#x27;fnlwgt&#x27;, &#x27;capital_gain&#x27;, &#x27;capital_loss&#x27;, &#x27;hours_per_week&#x27;]</pre></div></div></div><div class=\"sk-serial\"><div class=\"sk-item\"><div class=\"sk-estimator sk-toggleable\"><input class=\"sk-toggleable__control sk-hidden--visually\" id=\"6efd5bec-923f-4525-a202-de09421995e6\" type=\"checkbox\" ><label for=\"6efd5bec-923f-4525-a202-de09421995e6\" class=\"sk-toggleable__label sk-toggleable__label-arrow\">MinMaxScaler</label><div class=\"sk-toggleable__content\"><pre>MinMaxScaler()</pre></div></div></div></div></div></div><div class=\"sk-parallel-item\"><div class=\"sk-item\"><div class=\"sk-label-container\"><div class=\"sk-label sk-toggleable\"><input class=\"sk-toggleable__control sk-hidden--visually\" id=\"68154240-c4dd-432e-acf4-b3a87273f823\" type=\"checkbox\" ><label for=\"68154240-c4dd-432e-acf4-b3a87273f823\" class=\"sk-toggleable__label sk-toggleable__label-arrow\">remainder</label><div class=\"sk-toggleable__content\"><pre>[&#x27;workclass_federal_gov&#x27;, &#x27;workclass_local_gov&#x27;, &#x27;workclass_never_worked&#x27;, &#x27;workclass_private&#x27;, &#x27;workclass_self_emp_inc&#x27;, &#x27;workclass_self_emp_not_inc&#x27;, &#x27;workclass_state_gov&#x27;, &#x27;workclass_unknown&#x27;, &#x27;workclass_without_pay&#x27;, &#x27;education_10th&#x27;, &#x27;education_11th&#x27;, &#x27;education_12th&#x27;, &#x27;education_1st_4th&#x27;, &#x27;education_5th_6th&#x27;, &#x27;education_7th_8th&#x27;, &#x27;education_9th&#x27;, &#x27;education_assoc_acdm&#x27;, &#x27;education_assoc_voc&#x27;, &#x27;education_bachelors&#x27;, &#x27;education_doctorate&#x27;, &#x27;education_hs_grad&#x27;, &#x27;education_masters&#x27;, &#x27;education_preschool&#x27;, &#x27;education_prof_school&#x27;, &#x27;education_some_college&#x27;, &#x27;marital_status_divorced&#x27;, &#x27;marital_status_married_af_spouse&#x27;, &#x27;marital_status_married_civ_spouse&#x27;, &#x27;marital_status_married_spouse_absent&#x27;, &#x27;marital_status_never_married&#x27;, &#x27;marital_status_separated&#x27;, &#x27;marital_status_widowed&#x27;, &#x27;occupation_adm_clerical&#x27;, &#x27;occupation_armed_forces&#x27;, &#x27;occupation_craft_repair&#x27;, &#x27;occupation_exec_managerial&#x27;, &#x27;occupation_farming_fishing&#x27;, &#x27;occupation_handlers_cleaners&#x27;, &#x27;occupation_machine_op_inspct&#x27;, &#x27;occupation_other_service&#x27;, &#x27;occupation_priv_house_serv&#x27;, &#x27;occupation_prof_specialty&#x27;, &#x27;occupation_protective_serv&#x27;, &#x27;occupation_sales&#x27;, &#x27;occupation_tech_support&#x27;, &#x27;occupation_transport_moving&#x27;, &#x27;occupation_unknown&#x27;, &#x27;relationship_husband&#x27;, &#x27;relationship_not_in_family&#x27;, &#x27;relationship_other_relative&#x27;, &#x27;relationship_own_child&#x27;, &#x27;relationship_unmarried&#x27;, &#x27;relationship_wife&#x27;, &#x27;race_amer_indian_eskimo&#x27;, &#x27;race_asian_pac_islander&#x27;, &#x27;race_black&#x27;, &#x27;race_other&#x27;, &#x27;race_white&#x27;, &#x27;sex_female&#x27;, &#x27;sex_male&#x27;, &#x27;native_country_cambodia&#x27;, &#x27;native_country_canada&#x27;, &#x27;native_country_china&#x27;, &#x27;native_country_columbia&#x27;, &#x27;native_country_cuba&#x27;, &#x27;native_country_dominican_republic&#x27;, &#x27;native_country_ecuador&#x27;, &#x27;native_country_el_salvador&#x27;, &#x27;native_country_england&#x27;, &#x27;native_country_france&#x27;, &#x27;native_country_germany&#x27;, &#x27;native_country_greece&#x27;, &#x27;native_country_guatemala&#x27;, &#x27;native_country_haiti&#x27;, &#x27;native_country_holand_netherlands&#x27;, &#x27;native_country_honduras&#x27;, &#x27;native_country_hong&#x27;, &#x27;native_country_hungary&#x27;, &#x27;native_country_india&#x27;, &#x27;native_country_iran&#x27;, &#x27;native_country_ireland&#x27;, &#x27;native_country_italy&#x27;, &#x27;native_country_jamaica&#x27;, &#x27;native_country_japan&#x27;, &#x27;native_country_laos&#x27;, &#x27;native_country_mexico&#x27;, &#x27;native_country_nicaragua&#x27;, &#x27;native_country_outlying_us(guam_usvi_etc)&#x27;, &#x27;native_country_peru&#x27;, &#x27;native_country_philippines&#x27;, &#x27;native_country_poland&#x27;, &#x27;native_country_portugal&#x27;, &#x27;native_country_puerto_rico&#x27;, &#x27;native_country_scotland&#x27;, &#x27;native_country_south&#x27;, &#x27;native_country_taiwan&#x27;, &#x27;native_country_thailand&#x27;, &#x27;native_country_trinadad&amp;tobago&#x27;, &#x27;native_country_united_states&#x27;, &#x27;native_country_unknown&#x27;, &#x27;native_country_vietnam&#x27;, &#x27;native_country_yugoslavia&#x27;]</pre></div></div></div><div class=\"sk-serial\"><div class=\"sk-item\"><div class=\"sk-estimator sk-toggleable\"><input class=\"sk-toggleable__control sk-hidden--visually\" id=\"23d26bb0-0ed7-4ca5-88d9-970d695635c8\" type=\"checkbox\" ><label for=\"23d26bb0-0ed7-4ca5-88d9-970d695635c8\" class=\"sk-toggleable__label sk-toggleable__label-arrow\">passthrough</label><div class=\"sk-toggleable__content\"><pre>passthrough</pre></div></div></div></div></div></div></div></div><div class=\"sk-item sk-dashed-wrapped\"><div class=\"sk-label-container\"><div class=\"sk-label sk-toggleable\"><input class=\"sk-toggleable__control sk-hidden--visually\" id=\"9345a600-aba7-4249-b36a-0427e31d6ab8\" type=\"checkbox\" ><label for=\"9345a600-aba7-4249-b36a-0427e31d6ab8\" class=\"sk-toggleable__label sk-toggleable__label-arrow\">bagging: BaggingClassifier</label><div class=\"sk-toggleable__content\"><pre>BaggingClassifier(base_estimator=DecisionTreeClassifier(), max_samples=5000,\n",
              "                  n_estimators=1000, n_jobs=-1)</pre></div></div></div><div class=\"sk-parallel\"><div class=\"sk-parallel-item\"><div class=\"sk-item\"><div class=\"sk-serial\"><div class=\"sk-item\"><div class=\"sk-estimator sk-toggleable\"><input class=\"sk-toggleable__control sk-hidden--visually\" id=\"5d793ef3-3017-44ec-af9b-d0d30de7c7b7\" type=\"checkbox\" ><label for=\"5d793ef3-3017-44ec-af9b-d0d30de7c7b7\" class=\"sk-toggleable__label sk-toggleable__label-arrow\">DecisionTreeClassifier</label><div class=\"sk-toggleable__content\"><pre>DecisionTreeClassifier()</pre></div></div></div></div></div></div></div></div></div></div></div></div>"
            ]
          },
          "metadata": {},
          "execution_count": 34
        }
      ]
    },
    {
      "cell_type": "markdown",
      "source": [
        "### Evaluating Model"
      ],
      "metadata": {
        "id": "gwCgqrEIFQCt"
      }
    },
    {
      "cell_type": "code",
      "source": [
        "y_pred = bagging.predict(X_test)"
      ],
      "metadata": {
        "id": "iH0jQtM3FQCt"
      },
      "execution_count": 35,
      "outputs": []
    },
    {
      "cell_type": "code",
      "source": [
        "eval_clf_model(y_test,y_pred)"
      ],
      "metadata": {
        "colab": {
          "base_uri": "https://localhost:8080/",
          "height": 657
        },
        "outputId": "e4ea952a-4953-4a5e-db3d-870396994eb1",
        "id": "ld9QToMOFQCt"
      },
      "execution_count": 36,
      "outputs": [
        {
          "output_type": "stream",
          "name": "stdout",
          "text": [
            "Precision:  0.7635189669087974\n",
            "Recall: 0.6207349081364829\n",
            "F1 Score: 0.6847629388346\n"
          ]
        },
        {
          "output_type": "display_data",
          "data": {
            "text/plain": [
              "<Figure size 720x720 with 2 Axes>"
            ],
            "image/png": "[encoded data removed]"
          },
          "metadata": {
            "needs_background": "light"
          }
        }
      ]
    },
    {
      "cell_type": "markdown",
      "source": [
        "### Conclusion\n",
        "This model is an improvement over voting; there is also room for trying different parameters for the number of estimators and your decision tree itself."
      ],
      "metadata": {
        "id": "P4ch_jvhFQCu"
      }
    },
    {
      "cell_type": "markdown",
      "source": [
        "## Random Forest\n",
        "This ensemble method works specifically with decision trees. It is essentially the same as using a BaggingClassifier with a DecisionTree. The convenience is the syntax is a little shorter; the results should be the same."
      ],
      "metadata": {
        "id": "OZh2itarCvWN"
      }
    },
    {
      "cell_type": "code",
      "source": [
        "random_forest = Pipeline([\n",
        "                     ('transform', col_transform),\n",
        "                     ('rf',RandomForestClassifier(n_estimators=1000, max_samples=5000, bootstrap=True, n_jobs=-1))\n",
        "                     ])"
      ],
      "metadata": {
        "id": "t6GJFLNYT7tI"
      },
      "execution_count": 23,
      "outputs": []
    },
    {
      "cell_type": "code",
      "source": [
        "random_forest.fit(X_train,np.ravel(y_train))"
      ],
      "metadata": {
        "colab": {
          "base_uri": "https://localhost:8080/",
          "height": 189
        },
        "outputId": "505589d6-894e-4846-aa8c-1ed063877314",
        "id": "3p3fT5SADfDw"
      },
      "execution_count": 39,
      "outputs": [
        {
          "output_type": "execute_result",
          "data": {
            "text/plain": [
              "Pipeline(steps=[('transform',\n",
              "                 ColumnTransformer(remainder='passthrough',\n",
              "                                   transformers=[('num', MinMaxScaler(),\n",
              "                                                  ['age', 'fnlwgt',\n",
              "                                                   'capital_gain',\n",
              "                                                   'capital_loss',\n",
              "                                                   'hours_per_week'])])),\n",
              "                ('rf',\n",
              "                 RandomForestClassifier(max_samples=5000, n_estimators=1000,\n",
              "                                        n_jobs=-1))])"
            ],
            "text/html": [
              "<style>#sk-06a9f3a5-5398-4de8-92bf-d611b64141c1 {color: black;background-color: white;}#sk-06a9f3a5-5398-4de8-92bf-d611b64141c1 pre{padding: 0;}#sk-06a9f3a5-5398-4de8-92bf-d611b64141c1 div.sk-toggleable {background-color: white;}#sk-06a9f3a5-5398-4de8-92bf-d611b64141c1 label.sk-toggleable__label {cursor: pointer;display: block;width: 100%;margin-bottom: 0;padding: 0.3em;box-sizing: border-box;text-align: center;}#sk-06a9f3a5-5398-4de8-92bf-d611b64141c1 label.sk-toggleable__label-arrow:before {content: \"▸\";float: left;margin-right: 0.25em;color: #696969;}#sk-06a9f3a5-5398-4de8-92bf-d611b64141c1 label.sk-toggleable__label-arrow:hover:before {color: black;}#sk-06a9f3a5-5398-4de8-92bf-d611b64141c1 div.sk-estimator:hover label.sk-toggleable__label-arrow:before {color: black;}#sk-06a9f3a5-5398-4de8-92bf-d611b64141c1 div.sk-toggleable__content {max-height: 0;max-width: 0;overflow: hidden;text-align: left;background-color: #f0f8ff;}#sk-06a9f3a5-5398-4de8-92bf-d611b64141c1 div.sk-toggleable__content pre {margin: 0.2em;color: black;border-radius: 0.25em;background-color: #f0f8ff;}#sk-06a9f3a5-5398-4de8-92bf-d611b64141c1 input.sk-toggleable__control:checked~div.sk-toggleable__content {max-height: 200px;max-width: 100%;overflow: auto;}#sk-06a9f3a5-5398-4de8-92bf-d611b64141c1 input.sk-toggleable__control:checked~label.sk-toggleable__label-arrow:before {content: \"▾\";}#sk-06a9f3a5-5398-4de8-92bf-d611b64141c1 div.sk-estimator input.sk-toggleable__control:checked~label.sk-toggleable__label {background-color: #d4ebff;}#sk-06a9f3a5-5398-4de8-92bf-d611b64141c1 div.sk-label input.sk-toggleable__control:checked~label.sk-toggleable__label {background-color: #d4ebff;}#sk-06a9f3a5-5398-4de8-92bf-d611b64141c1 input.sk-hidden--visually {border: 0;clip: rect(1px 1px 1px 1px);clip: rect(1px, 1px, 1px, 1px);height: 1px;margin: -1px;overflow: hidden;padding: 0;position: absolute;width: 1px;}#sk-06a9f3a5-5398-4de8-92bf-d611b64141c1 div.sk-estimator {font-family: monospace;background-color: #f0f8ff;border: 1px dotted black;border-radius: 0.25em;box-sizing: border-box;margin-bottom: 0.5em;}#sk-06a9f3a5-5398-4de8-92bf-d611b64141c1 div.sk-estimator:hover {background-color: #d4ebff;}#sk-06a9f3a5-5398-4de8-92bf-d611b64141c1 div.sk-parallel-item::after {content: \"\";width: 100%;border-bottom: 1px solid gray;flex-grow: 1;}#sk-06a9f3a5-5398-4de8-92bf-d611b64141c1 div.sk-label:hover label.sk-toggleable__label {background-color: #d4ebff;}#sk-06a9f3a5-5398-4de8-92bf-d611b64141c1 div.sk-serial::before {content: \"\";position: absolute;border-left: 1px solid gray;box-sizing: border-box;top: 2em;bottom: 0;left: 50%;}#sk-06a9f3a5-5398-4de8-92bf-d611b64141c1 div.sk-serial {display: flex;flex-direction: column;align-items: center;background-color: white;padding-right: 0.2em;padding-left: 0.2em;}#sk-06a9f3a5-5398-4de8-92bf-d611b64141c1 div.sk-item {z-index: 1;}#sk-06a9f3a5-5398-4de8-92bf-d611b64141c1 div.sk-parallel {display: flex;align-items: stretch;justify-content: center;background-color: white;}#sk-06a9f3a5-5398-4de8-92bf-d611b64141c1 div.sk-parallel::before {content: \"\";position: absolute;border-left: 1px solid gray;box-sizing: border-box;top: 2em;bottom: 0;left: 50%;}#sk-06a9f3a5-5398-4de8-92bf-d611b64141c1 div.sk-parallel-item {display: flex;flex-direction: column;position: relative;background-color: white;}#sk-06a9f3a5-5398-4de8-92bf-d611b64141c1 div.sk-parallel-item:first-child::after {align-self: flex-end;width: 50%;}#sk-06a9f3a5-5398-4de8-92bf-d611b64141c1 div.sk-parallel-item:last-child::after {align-self: flex-start;width: 50%;}#sk-06a9f3a5-5398-4de8-92bf-d611b64141c1 div.sk-parallel-item:only-child::after {width: 0;}#sk-06a9f3a5-5398-4de8-92bf-d611b64141c1 div.sk-dashed-wrapped {border: 1px dashed gray;margin: 0 0.4em 0.5em 0.4em;box-sizing: border-box;padding-bottom: 0.4em;background-color: white;position: relative;}#sk-06a9f3a5-5398-4de8-92bf-d611b64141c1 div.sk-label label {font-family: monospace;font-weight: bold;background-color: white;display: inline-block;line-height: 1.2em;}#sk-06a9f3a5-5398-4de8-92bf-d611b64141c1 div.sk-label-container {position: relative;z-index: 2;text-align: center;}#sk-06a9f3a5-5398-4de8-92bf-d611b64141c1 div.sk-container {/* jupyter's `normalize.less` sets `[hidden] { display: none; }` but bootstrap.min.css set `[hidden] { display: none !important; }` so we also need the `!important` here to be able to override the default hidden behavior on the sphinx rendered scikit-learn.org. See: https://github.com/scikit-learn/scikit-learn/issues/21755 */display: inline-block !important;position: relative;}#sk-06a9f3a5-5398-4de8-92bf-d611b64141c1 div.sk-text-repr-fallback {display: none;}</style><div id=\"sk-06a9f3a5-5398-4de8-92bf-d611b64141c1\" class=\"sk-top-container\"><div class=\"sk-text-repr-fallback\"><pre>Pipeline(steps=[(&#x27;transform&#x27;,\n",
              "                 ColumnTransformer(remainder=&#x27;passthrough&#x27;,\n",
              "                                   transformers=[(&#x27;num&#x27;, MinMaxScaler(),\n",
              "                                                  [&#x27;age&#x27;, &#x27;fnlwgt&#x27;,\n",
              "                                                   &#x27;capital_gain&#x27;,\n",
              "                                                   &#x27;capital_loss&#x27;,\n",
              "                                                   &#x27;hours_per_week&#x27;])])),\n",
              "                (&#x27;rf&#x27;,\n",
              "                 RandomForestClassifier(max_samples=5000, n_estimators=1000,\n",
              "                                        n_jobs=-1))])</pre><b>Please rerun this cell to show the HTML repr or trust the notebook.</b></div><div class=\"sk-container\" hidden><div class=\"sk-item sk-dashed-wrapped\"><div class=\"sk-label-container\"><div class=\"sk-label sk-toggleable\"><input class=\"sk-toggleable__control sk-hidden--visually\" id=\"859026c1-c340-4d21-a79d-3896483529da\" type=\"checkbox\" ><label for=\"859026c1-c340-4d21-a79d-3896483529da\" class=\"sk-toggleable__label sk-toggleable__label-arrow\">Pipeline</label><div class=\"sk-toggleable__content\"><pre>Pipeline(steps=[(&#x27;transform&#x27;,\n",
              "                 ColumnTransformer(remainder=&#x27;passthrough&#x27;,\n",
              "                                   transformers=[(&#x27;num&#x27;, MinMaxScaler(),\n",
              "                                                  [&#x27;age&#x27;, &#x27;fnlwgt&#x27;,\n",
              "                                                   &#x27;capital_gain&#x27;,\n",
              "                                                   &#x27;capital_loss&#x27;,\n",
              "                                                   &#x27;hours_per_week&#x27;])])),\n",
              "                (&#x27;rf&#x27;,\n",
              "                 RandomForestClassifier(max_samples=5000, n_estimators=1000,\n",
              "                                        n_jobs=-1))])</pre></div></div></div><div class=\"sk-serial\"><div class=\"sk-item sk-dashed-wrapped\"><div class=\"sk-label-container\"><div class=\"sk-label sk-toggleable\"><input class=\"sk-toggleable__control sk-hidden--visually\" id=\"98e336ef-f25b-4cd9-bce3-ebc149a3742a\" type=\"checkbox\" ><label for=\"98e336ef-f25b-4cd9-bce3-ebc149a3742a\" class=\"sk-toggleable__label sk-toggleable__label-arrow\">transform: ColumnTransformer</label><div class=\"sk-toggleable__content\"><pre>ColumnTransformer(remainder=&#x27;passthrough&#x27;,\n",
              "                  transformers=[(&#x27;num&#x27;, MinMaxScaler(),\n",
              "                                 [&#x27;age&#x27;, &#x27;fnlwgt&#x27;, &#x27;capital_gain&#x27;,\n",
              "                                  &#x27;capital_loss&#x27;, &#x27;hours_per_week&#x27;])])</pre></div></div></div><div class=\"sk-parallel\"><div class=\"sk-parallel-item\"><div class=\"sk-item\"><div class=\"sk-label-container\"><div class=\"sk-label sk-toggleable\"><input class=\"sk-toggleable__control sk-hidden--visually\" id=\"20d3e0ad-6b99-4e20-80cc-9eecd0679f20\" type=\"checkbox\" ><label for=\"20d3e0ad-6b99-4e20-80cc-9eecd0679f20\" class=\"sk-toggleable__label sk-toggleable__label-arrow\">num</label><div class=\"sk-toggleable__content\"><pre>[&#x27;age&#x27;, &#x27;fnlwgt&#x27;, &#x27;capital_gain&#x27;, &#x27;capital_loss&#x27;, &#x27;hours_per_week&#x27;]</pre></div></div></div><div class=\"sk-serial\"><div class=\"sk-item\"><div class=\"sk-estimator sk-toggleable\"><input class=\"sk-toggleable__control sk-hidden--visually\" id=\"c364f212-83b4-4ab2-8daa-717a238a51e7\" type=\"checkbox\" ><label for=\"c364f212-83b4-4ab2-8daa-717a238a51e7\" class=\"sk-toggleable__label sk-toggleable__label-arrow\">MinMaxScaler</label><div class=\"sk-toggleable__content\"><pre>MinMaxScaler()</pre></div></div></div></div></div></div><div class=\"sk-parallel-item\"><div class=\"sk-item\"><div class=\"sk-label-container\"><div class=\"sk-label sk-toggleable\"><input class=\"sk-toggleable__control sk-hidden--visually\" id=\"d9e2691b-0117-4fec-92b4-c8ea1db1b6e2\" type=\"checkbox\" ><label for=\"d9e2691b-0117-4fec-92b4-c8ea1db1b6e2\" class=\"sk-toggleable__label sk-toggleable__label-arrow\">remainder</label><div class=\"sk-toggleable__content\"><pre>[&#x27;workclass_federal_gov&#x27;, &#x27;workclass_local_gov&#x27;, &#x27;workclass_never_worked&#x27;, &#x27;workclass_private&#x27;, &#x27;workclass_self_emp_inc&#x27;, &#x27;workclass_self_emp_not_inc&#x27;, &#x27;workclass_state_gov&#x27;, &#x27;workclass_unknown&#x27;, &#x27;workclass_without_pay&#x27;, &#x27;education_10th&#x27;, &#x27;education_11th&#x27;, &#x27;education_12th&#x27;, &#x27;education_1st_4th&#x27;, &#x27;education_5th_6th&#x27;, &#x27;education_7th_8th&#x27;, &#x27;education_9th&#x27;, &#x27;education_assoc_acdm&#x27;, &#x27;education_assoc_voc&#x27;, &#x27;education_bachelors&#x27;, &#x27;education_doctorate&#x27;, &#x27;education_hs_grad&#x27;, &#x27;education_masters&#x27;, &#x27;education_preschool&#x27;, &#x27;education_prof_school&#x27;, &#x27;education_some_college&#x27;, &#x27;marital_status_divorced&#x27;, &#x27;marital_status_married_af_spouse&#x27;, &#x27;marital_status_married_civ_spouse&#x27;, &#x27;marital_status_married_spouse_absent&#x27;, &#x27;marital_status_never_married&#x27;, &#x27;marital_status_separated&#x27;, &#x27;marital_status_widowed&#x27;, &#x27;occupation_adm_clerical&#x27;, &#x27;occupation_armed_forces&#x27;, &#x27;occupation_craft_repair&#x27;, &#x27;occupation_exec_managerial&#x27;, &#x27;occupation_farming_fishing&#x27;, &#x27;occupation_handlers_cleaners&#x27;, &#x27;occupation_machine_op_inspct&#x27;, &#x27;occupation_other_service&#x27;, &#x27;occupation_priv_house_serv&#x27;, &#x27;occupation_prof_specialty&#x27;, &#x27;occupation_protective_serv&#x27;, &#x27;occupation_sales&#x27;, &#x27;occupation_tech_support&#x27;, &#x27;occupation_transport_moving&#x27;, &#x27;occupation_unknown&#x27;, &#x27;relationship_husband&#x27;, &#x27;relationship_not_in_family&#x27;, &#x27;relationship_other_relative&#x27;, &#x27;relationship_own_child&#x27;, &#x27;relationship_unmarried&#x27;, &#x27;relationship_wife&#x27;, &#x27;race_amer_indian_eskimo&#x27;, &#x27;race_asian_pac_islander&#x27;, &#x27;race_black&#x27;, &#x27;race_other&#x27;, &#x27;race_white&#x27;, &#x27;sex_female&#x27;, &#x27;sex_male&#x27;, &#x27;native_country_cambodia&#x27;, &#x27;native_country_canada&#x27;, &#x27;native_country_china&#x27;, &#x27;native_country_columbia&#x27;, &#x27;native_country_cuba&#x27;, &#x27;native_country_dominican_republic&#x27;, &#x27;native_country_ecuador&#x27;, &#x27;native_country_el_salvador&#x27;, &#x27;native_country_england&#x27;, &#x27;native_country_france&#x27;, &#x27;native_country_germany&#x27;, &#x27;native_country_greece&#x27;, &#x27;native_country_guatemala&#x27;, &#x27;native_country_haiti&#x27;, &#x27;native_country_holand_netherlands&#x27;, &#x27;native_country_honduras&#x27;, &#x27;native_country_hong&#x27;, &#x27;native_country_hungary&#x27;, &#x27;native_country_india&#x27;, &#x27;native_country_iran&#x27;, &#x27;native_country_ireland&#x27;, &#x27;native_country_italy&#x27;, &#x27;native_country_jamaica&#x27;, &#x27;native_country_japan&#x27;, &#x27;native_country_laos&#x27;, &#x27;native_country_mexico&#x27;, &#x27;native_country_nicaragua&#x27;, &#x27;native_country_outlying_us(guam_usvi_etc)&#x27;, &#x27;native_country_peru&#x27;, &#x27;native_country_philippines&#x27;, &#x27;native_country_poland&#x27;, &#x27;native_country_portugal&#x27;, &#x27;native_country_puerto_rico&#x27;, &#x27;native_country_scotland&#x27;, &#x27;native_country_south&#x27;, &#x27;native_country_taiwan&#x27;, &#x27;native_country_thailand&#x27;, &#x27;native_country_trinadad&amp;tobago&#x27;, &#x27;native_country_united_states&#x27;, &#x27;native_country_unknown&#x27;, &#x27;native_country_vietnam&#x27;, &#x27;native_country_yugoslavia&#x27;]</pre></div></div></div><div class=\"sk-serial\"><div class=\"sk-item\"><div class=\"sk-estimator sk-toggleable\"><input class=\"sk-toggleable__control sk-hidden--visually\" id=\"3a0d6bc3-af3c-446f-ad01-abf2f987b6d7\" type=\"checkbox\" ><label for=\"3a0d6bc3-af3c-446f-ad01-abf2f987b6d7\" class=\"sk-toggleable__label sk-toggleable__label-arrow\">passthrough</label><div class=\"sk-toggleable__content\"><pre>passthrough</pre></div></div></div></div></div></div></div></div><div class=\"sk-item\"><div class=\"sk-estimator sk-toggleable\"><input class=\"sk-toggleable__control sk-hidden--visually\" id=\"27a5b186-b059-4d75-b55f-a3c73811e540\" type=\"checkbox\" ><label for=\"27a5b186-b059-4d75-b55f-a3c73811e540\" class=\"sk-toggleable__label sk-toggleable__label-arrow\">RandomForestClassifier</label><div class=\"sk-toggleable__content\"><pre>RandomForestClassifier(max_samples=5000, n_estimators=1000, n_jobs=-1)</pre></div></div></div></div></div></div></div>"
            ]
          },
          "metadata": {},
          "execution_count": 39
        }
      ]
    },
    {
      "cell_type": "markdown",
      "source": [
        "### Evaluating Model"
      ],
      "metadata": {
        "id": "BOpkI12pDfDx"
      }
    },
    {
      "cell_type": "code",
      "source": [
        "y_pred = random_forest.predict(X_test)"
      ],
      "metadata": {
        "id": "6zwJ95SwDfDx"
      },
      "execution_count": 40,
      "outputs": []
    },
    {
      "cell_type": "code",
      "source": [
        "eval_clf_model(y_test,y_pred)"
      ],
      "metadata": {
        "colab": {
          "base_uri": "https://localhost:8080/",
          "height": 657
        },
        "outputId": "bee70484-0a90-4775-e4e4-9ae842ece2b2",
        "id": "1mPTp0pHDfDx"
      },
      "execution_count": 41,
      "outputs": [
        {
          "output_type": "stream",
          "name": "stdout",
          "text": [
            "Precision:  0.7630104083266613\n",
            "Recall: 0.6253280839895013\n",
            "F1 Score: 0.6873422286332493\n"
          ]
        },
        {
          "output_type": "display_data",
          "data": {
            "text/plain": [
              "<Figure size 720x720 with 2 Axes>"
            ],
            "image/png": "[encoded data removed]"
          },
          "metadata": {
            "needs_background": "light"
          }
        }
      ]
    },
    {
      "cell_type": "markdown",
      "source": [
        "A nice feature of random forests is that you can get a list of the feature importance to the model. In the code below you see the numerical features hold the greatest weights with **age** at the top."
      ],
      "metadata": {
        "id": "tknAPQOkFaTW"
      }
    },
    {
      "cell_type": "code",
      "source": [
        "names = random_forest[:-1].get_feature_names_out()\n",
        "for name, score in zip(names,random_forest.named_steps.rf.feature_importances_):\n",
        "  print(name, score)"
      ],
      "metadata": {
        "id": "-dJm2NITEZFR"
      },
      "execution_count": 50,
      "outputs": []
    },
    {
      "cell_type": "code",
      "source": [
        "for name, score in zip(names,random_forest.named_steps.rf.feature_importances_):\n",
        "  print(name, score)"
      ],
      "metadata": {
        "colab": {
          "base_uri": "https://localhost:8080/"
        },
        "id": "IR8p2gLlE_TB",
        "outputId": "0ab6a37b-7553-4999-e114-de6a90ed1395"
      },
      "execution_count": 52,
      "outputs": [
        {
          "output_type": "stream",
          "name": "stdout",
          "text": [
            "num__age 0.14442365589355954\n",
            "num__fnlwgt 0.1383923098369496\n",
            "num__capital_gain 0.09119676071671387\n",
            "num__capital_loss 0.029165335508370843\n",
            "num__hours_per_week 0.08496265518297268\n",
            "remainder__workclass_federal_gov 0.006066577082426734\n",
            "remainder__workclass_local_gov 0.006952269566486426\n",
            "remainder__workclass_never_worked 4.323186880062804e-06\n",
            "remainder__workclass_private 0.013220185966827882\n",
            "remainder__workclass_self_emp_inc 0.007317108929091193\n",
            "remainder__workclass_self_emp_not_inc 0.010209133083733692\n",
            "remainder__workclass_state_gov 0.005453843899962669\n",
            "remainder__workclass_unknown 0.0025156629119428516\n",
            "remainder__workclass_without_pay 5.407513631328019e-05\n",
            "remainder__education_10th 0.0033384990621810468\n",
            "remainder__education_11th 0.00370878675956238\n",
            "remainder__education_12th 0.0013940264167004407\n",
            "remainder__education_1st_4th 0.0004608321444577445\n",
            "remainder__education_5th_6th 0.0013955173706876173\n",
            "remainder__education_7th_8th 0.004152953760034777\n",
            "remainder__education_9th 0.002248770063335944\n",
            "remainder__education_assoc_acdm 0.004803339207892279\n",
            "remainder__education_assoc_voc 0.006099536700503678\n",
            "remainder__education_bachelors 0.023095632189534244\n",
            "remainder__education_doctorate 0.006574915628789744\n",
            "remainder__education_hs_grad 0.014763996367332104\n",
            "remainder__education_masters 0.014991878341585958\n",
            "remainder__education_preschool 0.00011629058481139183\n",
            "remainder__education_prof_school 0.009352570874775947\n",
            "remainder__education_some_college 0.011387306926182148\n",
            "remainder__marital_status_divorced 0.0067314883118358695\n",
            "remainder__marital_status_married_af_spouse 0.0004365308087822404\n",
            "remainder__marital_status_married_civ_spouse 0.059580300456660656\n",
            "remainder__marital_status_married_spouse_absent 0.0009761056477712288\n",
            "remainder__marital_status_never_married 0.024786112835786963\n",
            "remainder__marital_status_separated 0.0018249582505808924\n",
            "remainder__marital_status_widowed 0.0017205458452731804\n",
            "remainder__occupation_adm_clerical 0.006744314537694006\n",
            "remainder__occupation_armed_forces 2.1069266098114766e-05\n",
            "remainder__occupation_craft_repair 0.008458594923191494\n",
            "remainder__occupation_exec_managerial 0.022821610006350294\n",
            "remainder__occupation_farming_fishing 0.00485258102533567\n",
            "remainder__occupation_handlers_cleaners 0.0038685886127358456\n",
            "remainder__occupation_machine_op_inspct 0.005385312663892409\n",
            "remainder__occupation_other_service 0.00789423083197741\n",
            "remainder__occupation_priv_house_serv 0.00010999615908970245\n",
            "remainder__occupation_prof_specialty 0.021506593411662684\n",
            "remainder__occupation_protective_serv 0.0038989415132110847\n",
            "remainder__occupation_sales 0.009037017913992505\n",
            "remainder__occupation_tech_support 0.005880390396396848\n",
            "remainder__occupation_transport_moving 0.00601423739178004\n",
            "remainder__occupation_unknown 0.0024725548761508585\n",
            "remainder__relationship_husband 0.04512353218222201\n",
            "remainder__relationship_not_in_family 0.01096514078864316\n",
            "remainder__relationship_other_relative 0.001494773148561577\n",
            "remainder__relationship_own_child 0.008773386395891076\n",
            "remainder__relationship_unmarried 0.00550794988565763\n",
            "remainder__relationship_wife 0.010048464899507557\n",
            "remainder__race_amer_indian_eskimo 0.0014174300003760025\n",
            "remainder__race_asian_pac_islander 0.0034198030418912846\n",
            "remainder__race_black 0.005426855356463523\n",
            "remainder__race_other 0.0008046089668418473\n",
            "remainder__race_white 0.007440608506664511\n",
            "remainder__sex_female 0.010610489661708496\n",
            "remainder__sex_male 0.01019632773620566\n",
            "remainder__native_country_cambodia 0.0001891557720237052\n",
            "remainder__native_country_canada 0.0011408253529235641\n",
            "remainder__native_country_china 0.00042946473149931534\n",
            "remainder__native_country_columbia 0.0001932709111148392\n",
            "remainder__native_country_cuba 0.0006925007147926961\n",
            "remainder__native_country_dominican_republic 0.0001613724356964196\n",
            "remainder__native_country_ecuador 0.00015968495371950699\n",
            "remainder__native_country_el_salvador 0.0002643036708055688\n",
            "remainder__native_country_england 0.0007537697763032307\n",
            "remainder__native_country_france 0.00033798015035018406\n",
            "remainder__native_country_germany 0.0012455234015534386\n",
            "remainder__native_country_greece 0.0002713572512990012\n",
            "remainder__native_country_guatemala 0.00013479910465856887\n",
            "remainder__native_country_haiti 0.00013460271430102005\n",
            "remainder__native_country_holand_netherlands 4.758734476684247e-10\n",
            "remainder__native_country_honduras 1.3690318247047218e-05\n",
            "remainder__native_country_hong 0.00015208814519831343\n",
            "remainder__native_country_hungary 0.00016731699909581146\n",
            "remainder__native_country_india 0.0008086088696980595\n",
            "remainder__native_country_iran 0.00036263456710907083\n",
            "remainder__native_country_ireland 0.00022293427371678908\n",
            "remainder__native_country_italy 0.0008599390453117102\n",
            "remainder__native_country_jamaica 0.000388400068566945\n",
            "remainder__native_country_japan 0.0006755737958974374\n",
            "remainder__native_country_laos 5.5297958478809195e-05\n",
            "remainder__native_country_mexico 0.002227664274822346\n",
            "remainder__native_country_nicaragua 0.00011769868041284607\n",
            "remainder__native_country_outlying_us(guam_usvi_etc) 3.017864355898396e-05\n",
            "remainder__native_country_peru 6.541623224615246e-05\n",
            "remainder__native_country_philippines 0.0010659359949091061\n",
            "remainder__native_country_poland 0.0005117765009888776\n",
            "remainder__native_country_portugal 0.00013106226308888093\n",
            "remainder__native_country_puerto_rico 0.00047913183769835387\n",
            "remainder__native_country_scotland 5.3161777167976906e-05\n",
            "remainder__native_country_south 0.00044915663306360407\n",
            "remainder__native_country_taiwan 0.0002853868639621202\n",
            "remainder__native_country_thailand 3.3996679486571695e-05\n",
            "remainder__native_country_trinadad&tobago 0.0001063696833500781\n",
            "remainder__native_country_united_states 0.007225975119600917\n",
            "remainder__native_country_unknown 0.0026745238885654927\n",
            "remainder__native_country_vietnam 0.0003481474118105849\n",
            "remainder__native_country_yugoslavia 0.0003091264995496494\n"
          ]
        }
      ]
    },
    {
      "cell_type": "markdown",
      "source": [
        "### Conclusion\n",
        "This model is an improvement over voting and the same for bagging; there is also room for trying different parameters for the number of estimators and number of samples."
      ],
      "metadata": {
        "id": "jbf59fpEDfDx"
      }
    },
    {
      "cell_type": "markdown",
      "source": [
        "#### A quick diversion\n",
        "Since RandomForest ranks the feature importance, I wonder if we just drop the categorical features and run the model if we would see any difference. I am going to do this next. If I remove the column transformer, that should do the trick."
      ],
      "metadata": {
        "id": "ERaXzIBoHXnh"
      }
    },
    {
      "cell_type": "code",
      "source": [
        "random_forest2 = Pipeline([\n",
        "                          ('rf',RandomForestClassifier(n_estimators=1000, max_samples=5000, bootstrap=True, n_jobs=-1))\n",
        "                     ])\n",
        "\n",
        "random_forest2.fit(X_train, np.ravel(y_train))\n",
        "y_pred = random_forest2.predict(X_test)"
      ],
      "metadata": {
        "id": "UfkoHqgEDZu0"
      },
      "execution_count": 60,
      "outputs": []
    },
    {
      "cell_type": "code",
      "source": [
        "eval_clf_model(y_pred, y_test)"
      ],
      "metadata": {
        "colab": {
          "base_uri": "https://localhost:8080/",
          "height": 657
        },
        "id": "R2V7EZzOG7ov",
        "outputId": "6dad8740-b8d3-4e99-9902-05dcb2eb64de"
      },
      "execution_count": 61,
      "outputs": [
        {
          "output_type": "stream",
          "name": "stdout",
          "text": [
            "Precision:  0.6194225721784777\n",
            "Recall: 0.7582329317269076\n",
            "F1 Score: 0.6818345973275551\n"
          ]
        },
        {
          "output_type": "display_data",
          "data": {
            "text/plain": [
              "<Figure size 720x720 with 2 Axes>"
            ],
            "image/png": "[encoded data removed]"
          },
          "metadata": {
            "needs_background": "light"
          }
        }
      ]
    },
    {
      "cell_type": "markdown",
      "source": [
        "Precision and Recall flipped scores, but the F1 score is about the same - no real improvement here."
      ],
      "metadata": {
        "id": "Ja2UQw-RIucw"
      }
    },
    {
      "cell_type": "markdown",
      "source": [
        "## Adaboost\n",
        "Adaboost considers more closely the training instances it underfit. That way it focuses on the harder instances to classify."
      ],
      "metadata": {
        "id": "g-p4BGGtJG6j"
      }
    },
    {
      "cell_type": "code",
      "source": [
        "dt = DecisionTreeClassifier(max_depth=1)"
      ],
      "metadata": {
        "id": "mUFt8UpdKKX0"
      },
      "execution_count": 71,
      "outputs": []
    },
    {
      "cell_type": "code",
      "source": [
        "X_train_ada = X_train.iloc[:,0:5]\n",
        "X_test_ada = X_test.iloc[:,0:5]"
      ],
      "metadata": {
        "id": "YKqxX2lELmNU"
      },
      "execution_count": 85,
      "outputs": []
    },
    {
      "cell_type": "code",
      "source": [
        "adaboost = AdaBoostClassifier(base_estimator=dt, n_estimators=200, learning_rate=1)\n",
        "adaboost.fit(X_train_ada, np.ravel(y_train))\n",
        "y_pred = adaboost.predict(X_test_ada)"
      ],
      "metadata": {
        "id": "bjRr6Tr3Ks4D"
      },
      "execution_count": 89,
      "outputs": []
    },
    {
      "cell_type": "code",
      "source": [
        "eval_clf_model(y_pred, y_test)"
      ],
      "metadata": {
        "colab": {
          "base_uri": "https://localhost:8080/",
          "height": 657
        },
        "id": "DmcmE1BRLgYI",
        "outputId": "027255ea-3fb2-4bc4-fdec-2d7e74b5b42f"
      },
      "execution_count": 90,
      "outputs": [
        {
          "output_type": "stream",
          "name": "stdout",
          "text": [
            "Precision:  0.33136482939632544\n",
            "Recall: 0.8953900709219859\n",
            "F1 Score: 0.48371647509578536\n"
          ]
        },
        {
          "output_type": "display_data",
          "data": {
            "text/plain": [
              "<Figure size 720x720 with 2 Axes>"
            ],
            "image/png": "[encoded data removed]"
          },
          "metadata": {
            "needs_background": "light"
          }
        }
      ]
    },
    {
      "cell_type": "markdown",
      "source": [
        "Interesting. Significantly boosted the Recall, but lowered the precision.  Basically this means the model mislabeled almost 70% of the positive instances (salary >50K), but was really good at labeling the negative instances (salary<=50K)."
      ],
      "metadata": {
        "id": "NxOBq7kGNRA4"
      }
    },
    {
      "cell_type": "markdown",
      "source": [
        "## Balancing the data\n",
        "None of these algorithms have done a great job with prediction.  One of the problems may be that the data is significantly imbalanced. Only 24% of the instances are classed as salary>50K.  The algorithm seems to learn the negative cases (<=50K), but not the positive cases. Let's try to remedy this by randomly sampling the data negative instances to even up the classes."
      ],
      "metadata": {
        "id": "fbRWlh8uPQwb"
      }
    },
    {
      "cell_type": "code",
      "source": [
        "df.salary.groupby(df.salary).count()"
      ],
      "metadata": {
        "colab": {
          "base_uri": "https://localhost:8080/"
        },
        "id": "yBY4f7GzO4U_",
        "outputId": "4983156c-06c4-4250-c80f-5decc7b76ada"
      },
      "execution_count": 96,
      "outputs": [
        {
          "output_type": "execute_result",
          "data": {
            "text/plain": [
              "salary\n",
              "0    24720\n",
              "1     7841\n",
              "Name: salary, dtype: int64"
            ]
          },
          "metadata": {},
          "execution_count": 96
        }
      ]
    },
    {
      "cell_type": "code",
      "source": [
        "positive = df.query('salary==1')\n",
        "negative = df.query('salary==0')"
      ],
      "metadata": {
        "id": "t62vdagHO9am"
      },
      "execution_count": 15,
      "outputs": []
    },
    {
      "cell_type": "code",
      "source": [
        "neg = negative.sample(7841)"
      ],
      "metadata": {
        "id": "05HaFxheQGcV"
      },
      "execution_count": 16,
      "outputs": []
    },
    {
      "cell_type": "code",
      "source": [
        "balanced = pd.concat([neg,positive])"
      ],
      "metadata": {
        "id": "h_HLKW8YQGfK"
      },
      "execution_count": 17,
      "outputs": []
    },
    {
      "cell_type": "code",
      "source": [
        "X = balanced.iloc[:,0:-1]\n",
        "y = balanced[['salary']]"
      ],
      "metadata": {
        "id": "FDM5vwAuQGij"
      },
      "execution_count": 18,
      "outputs": []
    },
    {
      "cell_type": "code",
      "source": [
        "transformed_X = pd.get_dummies(X, columns=cat_attribs)\n",
        "X_train, X_test, y_train, y_test = train_test_split(transformed_X,y, test_size=.20, random_state=32)"
      ],
      "metadata": {
        "id": "ft7Lm8fuQGk4"
      },
      "execution_count": 19,
      "outputs": []
    },
    {
      "cell_type": "code",
      "source": [
        "random_forest.fit(X_train,np.ravel(y_train))"
      ],
      "metadata": {
        "colab": {
          "base_uri": "https://localhost:8080/",
          "height": 189
        },
        "id": "tzRupQKfRUsX",
        "outputId": "961406a2-020b-4c67-fcb1-5037dae46cc5"
      },
      "execution_count": 24,
      "outputs": [
        {
          "output_type": "execute_result",
          "data": {
            "text/plain": [
              "Pipeline(steps=[('transform',\n",
              "                 ColumnTransformer(remainder='passthrough',\n",
              "                                   transformers=[('num', MinMaxScaler(),\n",
              "                                                  ['age', 'fnlwgt',\n",
              "                                                   'capital_gain',\n",
              "                                                   'capital_loss',\n",
              "                                                   'hours_per_week'])])),\n",
              "                ('rf',\n",
              "                 RandomForestClassifier(max_samples=5000, n_estimators=1000,\n",
              "                                        n_jobs=-1))])"
            ],
            "text/html": [
              "<style>#sk-3102ae8a-82af-4851-a0e7-5f6b294f3d40 {color: black;background-color: white;}#sk-3102ae8a-82af-4851-a0e7-5f6b294f3d40 pre{padding: 0;}#sk-3102ae8a-82af-4851-a0e7-5f6b294f3d40 div.sk-toggleable {background-color: white;}#sk-3102ae8a-82af-4851-a0e7-5f6b294f3d40 label.sk-toggleable__label {cursor: pointer;display: block;width: 100%;margin-bottom: 0;padding: 0.3em;box-sizing: border-box;text-align: center;}#sk-3102ae8a-82af-4851-a0e7-5f6b294f3d40 label.sk-toggleable__label-arrow:before {content: \"▸\";float: left;margin-right: 0.25em;color: #696969;}#sk-3102ae8a-82af-4851-a0e7-5f6b294f3d40 label.sk-toggleable__label-arrow:hover:before {color: black;}#sk-3102ae8a-82af-4851-a0e7-5f6b294f3d40 div.sk-estimator:hover label.sk-toggleable__label-arrow:before {color: black;}#sk-3102ae8a-82af-4851-a0e7-5f6b294f3d40 div.sk-toggleable__content {max-height: 0;max-width: 0;overflow: hidden;text-align: left;background-color: #f0f8ff;}#sk-3102ae8a-82af-4851-a0e7-5f6b294f3d40 div.sk-toggleable__content pre {margin: 0.2em;color: black;border-radius: 0.25em;background-color: #f0f8ff;}#sk-3102ae8a-82af-4851-a0e7-5f6b294f3d40 input.sk-toggleable__control:checked~div.sk-toggleable__content {max-height: 200px;max-width: 100%;overflow: auto;}#sk-3102ae8a-82af-4851-a0e7-5f6b294f3d40 input.sk-toggleable__control:checked~label.sk-toggleable__label-arrow:before {content: \"▾\";}#sk-3102ae8a-82af-4851-a0e7-5f6b294f3d40 div.sk-estimator input.sk-toggleable__control:checked~label.sk-toggleable__label {background-color: #d4ebff;}#sk-3102ae8a-82af-4851-a0e7-5f6b294f3d40 div.sk-label input.sk-toggleable__control:checked~label.sk-toggleable__label {background-color: #d4ebff;}#sk-3102ae8a-82af-4851-a0e7-5f6b294f3d40 input.sk-hidden--visually {border: 0;clip: rect(1px 1px 1px 1px);clip: rect(1px, 1px, 1px, 1px);height: 1px;margin: -1px;overflow: hidden;padding: 0;position: absolute;width: 1px;}#sk-3102ae8a-82af-4851-a0e7-5f6b294f3d40 div.sk-estimator {font-family: monospace;background-color: #f0f8ff;border: 1px dotted black;border-radius: 0.25em;box-sizing: border-box;margin-bottom: 0.5em;}#sk-3102ae8a-82af-4851-a0e7-5f6b294f3d40 div.sk-estimator:hover {background-color: #d4ebff;}#sk-3102ae8a-82af-4851-a0e7-5f6b294f3d40 div.sk-parallel-item::after {content: \"\";width: 100%;border-bottom: 1px solid gray;flex-grow: 1;}#sk-3102ae8a-82af-4851-a0e7-5f6b294f3d40 div.sk-label:hover label.sk-toggleable__label {background-color: #d4ebff;}#sk-3102ae8a-82af-4851-a0e7-5f6b294f3d40 div.sk-serial::before {content: \"\";position: absolute;border-left: 1px solid gray;box-sizing: border-box;top: 2em;bottom: 0;left: 50%;}#sk-3102ae8a-82af-4851-a0e7-5f6b294f3d40 div.sk-serial {display: flex;flex-direction: column;align-items: center;background-color: white;padding-right: 0.2em;padding-left: 0.2em;}#sk-3102ae8a-82af-4851-a0e7-5f6b294f3d40 div.sk-item {z-index: 1;}#sk-3102ae8a-82af-4851-a0e7-5f6b294f3d40 div.sk-parallel {display: flex;align-items: stretch;justify-content: center;background-color: white;}#sk-3102ae8a-82af-4851-a0e7-5f6b294f3d40 div.sk-parallel::before {content: \"\";position: absolute;border-left: 1px solid gray;box-sizing: border-box;top: 2em;bottom: 0;left: 50%;}#sk-3102ae8a-82af-4851-a0e7-5f6b294f3d40 div.sk-parallel-item {display: flex;flex-direction: column;position: relative;background-color: white;}#sk-3102ae8a-82af-4851-a0e7-5f6b294f3d40 div.sk-parallel-item:first-child::after {align-self: flex-end;width: 50%;}#sk-3102ae8a-82af-4851-a0e7-5f6b294f3d40 div.sk-parallel-item:last-child::after {align-self: flex-start;width: 50%;}#sk-3102ae8a-82af-4851-a0e7-5f6b294f3d40 div.sk-parallel-item:only-child::after {width: 0;}#sk-3102ae8a-82af-4851-a0e7-5f6b294f3d40 div.sk-dashed-wrapped {border: 1px dashed gray;margin: 0 0.4em 0.5em 0.4em;box-sizing: border-box;padding-bottom: 0.4em;background-color: white;position: relative;}#sk-3102ae8a-82af-4851-a0e7-5f6b294f3d40 div.sk-label label {font-family: monospace;font-weight: bold;background-color: white;display: inline-block;line-height: 1.2em;}#sk-3102ae8a-82af-4851-a0e7-5f6b294f3d40 div.sk-label-container {position: relative;z-index: 2;text-align: center;}#sk-3102ae8a-82af-4851-a0e7-5f6b294f3d40 div.sk-container {/* jupyter's `normalize.less` sets `[hidden] { display: none; }` but bootstrap.min.css set `[hidden] { display: none !important; }` so we also need the `!important` here to be able to override the default hidden behavior on the sphinx rendered scikit-learn.org. See: https://github.com/scikit-learn/scikit-learn/issues/21755 */display: inline-block !important;position: relative;}#sk-3102ae8a-82af-4851-a0e7-5f6b294f3d40 div.sk-text-repr-fallback {display: none;}</style><div id=\"sk-3102ae8a-82af-4851-a0e7-5f6b294f3d40\" class=\"sk-top-container\"><div class=\"sk-text-repr-fallback\"><pre>Pipeline(steps=[(&#x27;transform&#x27;,\n",
              "                 ColumnTransformer(remainder=&#x27;passthrough&#x27;,\n",
              "                                   transformers=[(&#x27;num&#x27;, MinMaxScaler(),\n",
              "                                                  [&#x27;age&#x27;, &#x27;fnlwgt&#x27;,\n",
              "                                                   &#x27;capital_gain&#x27;,\n",
              "                                                   &#x27;capital_loss&#x27;,\n",
              "                                                   &#x27;hours_per_week&#x27;])])),\n",
              "                (&#x27;rf&#x27;,\n",
              "                 RandomForestClassifier(max_samples=5000, n_estimators=1000,\n",
              "                                        n_jobs=-1))])</pre><b>Please rerun this cell to show the HTML repr or trust the notebook.</b></div><div class=\"sk-container\" hidden><div class=\"sk-item sk-dashed-wrapped\"><div class=\"sk-label-container\"><div class=\"sk-label sk-toggleable\"><input class=\"sk-toggleable__control sk-hidden--visually\" id=\"010a7384-cd7b-48e5-9940-0373b63cb718\" type=\"checkbox\" ><label for=\"010a7384-cd7b-48e5-9940-0373b63cb718\" class=\"sk-toggleable__label sk-toggleable__label-arrow\">Pipeline</label><div class=\"sk-toggleable__content\"><pre>Pipeline(steps=[(&#x27;transform&#x27;,\n",
              "                 ColumnTransformer(remainder=&#x27;passthrough&#x27;,\n",
              "                                   transformers=[(&#x27;num&#x27;, MinMaxScaler(),\n",
              "                                                  [&#x27;age&#x27;, &#x27;fnlwgt&#x27;,\n",
              "                                                   &#x27;capital_gain&#x27;,\n",
              "                                                   &#x27;capital_loss&#x27;,\n",
              "                                                   &#x27;hours_per_week&#x27;])])),\n",
              "                (&#x27;rf&#x27;,\n",
              "                 RandomForestClassifier(max_samples=5000, n_estimators=1000,\n",
              "                                        n_jobs=-1))])</pre></div></div></div><div class=\"sk-serial\"><div class=\"sk-item sk-dashed-wrapped\"><div class=\"sk-label-container\"><div class=\"sk-label sk-toggleable\"><input class=\"sk-toggleable__control sk-hidden--visually\" id=\"c925cc52-6c8a-4296-ba85-49ca25ad9ee1\" type=\"checkbox\" ><label for=\"c925cc52-6c8a-4296-ba85-49ca25ad9ee1\" class=\"sk-toggleable__label sk-toggleable__label-arrow\">transform: ColumnTransformer</label><div class=\"sk-toggleable__content\"><pre>ColumnTransformer(remainder=&#x27;passthrough&#x27;,\n",
              "                  transformers=[(&#x27;num&#x27;, MinMaxScaler(),\n",
              "                                 [&#x27;age&#x27;, &#x27;fnlwgt&#x27;, &#x27;capital_gain&#x27;,\n",
              "                                  &#x27;capital_loss&#x27;, &#x27;hours_per_week&#x27;])])</pre></div></div></div><div class=\"sk-parallel\"><div class=\"sk-parallel-item\"><div class=\"sk-item\"><div class=\"sk-label-container\"><div class=\"sk-label sk-toggleable\"><input class=\"sk-toggleable__control sk-hidden--visually\" id=\"8a00f999-09ff-4e01-8be0-afd95c667d3e\" type=\"checkbox\" ><label for=\"8a00f999-09ff-4e01-8be0-afd95c667d3e\" class=\"sk-toggleable__label sk-toggleable__label-arrow\">num</label><div class=\"sk-toggleable__content\"><pre>[&#x27;age&#x27;, &#x27;fnlwgt&#x27;, &#x27;capital_gain&#x27;, &#x27;capital_loss&#x27;, &#x27;hours_per_week&#x27;]</pre></div></div></div><div class=\"sk-serial\"><div class=\"sk-item\"><div class=\"sk-estimator sk-toggleable\"><input class=\"sk-toggleable__control sk-hidden--visually\" id=\"d2d52c56-64c9-40a9-93fc-fa042cde35f5\" type=\"checkbox\" ><label for=\"d2d52c56-64c9-40a9-93fc-fa042cde35f5\" class=\"sk-toggleable__label sk-toggleable__label-arrow\">MinMaxScaler</label><div class=\"sk-toggleable__content\"><pre>MinMaxScaler()</pre></div></div></div></div></div></div><div class=\"sk-parallel-item\"><div class=\"sk-item\"><div class=\"sk-label-container\"><div class=\"sk-label sk-toggleable\"><input class=\"sk-toggleable__control sk-hidden--visually\" id=\"46d7611f-5461-418f-a5eb-670b1954db4e\" type=\"checkbox\" ><label for=\"46d7611f-5461-418f-a5eb-670b1954db4e\" class=\"sk-toggleable__label sk-toggleable__label-arrow\">remainder</label><div class=\"sk-toggleable__content\"><pre>[&#x27;workclass_federal_gov&#x27;, &#x27;workclass_local_gov&#x27;, &#x27;workclass_never_worked&#x27;, &#x27;workclass_private&#x27;, &#x27;workclass_self_emp_inc&#x27;, &#x27;workclass_self_emp_not_inc&#x27;, &#x27;workclass_state_gov&#x27;, &#x27;workclass_unknown&#x27;, &#x27;workclass_without_pay&#x27;, &#x27;education_10th&#x27;, &#x27;education_11th&#x27;, &#x27;education_12th&#x27;, &#x27;education_1st_4th&#x27;, &#x27;education_5th_6th&#x27;, &#x27;education_7th_8th&#x27;, &#x27;education_9th&#x27;, &#x27;education_assoc_acdm&#x27;, &#x27;education_assoc_voc&#x27;, &#x27;education_bachelors&#x27;, &#x27;education_doctorate&#x27;, &#x27;education_hs_grad&#x27;, &#x27;education_masters&#x27;, &#x27;education_preschool&#x27;, &#x27;education_prof_school&#x27;, &#x27;education_some_college&#x27;, &#x27;marital_status_divorced&#x27;, &#x27;marital_status_married_af_spouse&#x27;, &#x27;marital_status_married_civ_spouse&#x27;, &#x27;marital_status_married_spouse_absent&#x27;, &#x27;marital_status_never_married&#x27;, &#x27;marital_status_separated&#x27;, &#x27;marital_status_widowed&#x27;, &#x27;occupation_adm_clerical&#x27;, &#x27;occupation_armed_forces&#x27;, &#x27;occupation_craft_repair&#x27;, &#x27;occupation_exec_managerial&#x27;, &#x27;occupation_farming_fishing&#x27;, &#x27;occupation_handlers_cleaners&#x27;, &#x27;occupation_machine_op_inspct&#x27;, &#x27;occupation_other_service&#x27;, &#x27;occupation_priv_house_serv&#x27;, &#x27;occupation_prof_specialty&#x27;, &#x27;occupation_protective_serv&#x27;, &#x27;occupation_sales&#x27;, &#x27;occupation_tech_support&#x27;, &#x27;occupation_transport_moving&#x27;, &#x27;occupation_unknown&#x27;, &#x27;relationship_husband&#x27;, &#x27;relationship_not_in_family&#x27;, &#x27;relationship_other_relative&#x27;, &#x27;relationship_own_child&#x27;, &#x27;relationship_unmarried&#x27;, &#x27;relationship_wife&#x27;, &#x27;race_amer_indian_eskimo&#x27;, &#x27;race_asian_pac_islander&#x27;, &#x27;race_black&#x27;, &#x27;race_other&#x27;, &#x27;race_white&#x27;, &#x27;sex_female&#x27;, &#x27;sex_male&#x27;, &#x27;native_country_cambodia&#x27;, &#x27;native_country_canada&#x27;, &#x27;native_country_china&#x27;, &#x27;native_country_columbia&#x27;, &#x27;native_country_cuba&#x27;, &#x27;native_country_dominican_republic&#x27;, &#x27;native_country_ecuador&#x27;, &#x27;native_country_el_salvador&#x27;, &#x27;native_country_england&#x27;, &#x27;native_country_france&#x27;, &#x27;native_country_germany&#x27;, &#x27;native_country_greece&#x27;, &#x27;native_country_guatemala&#x27;, &#x27;native_country_haiti&#x27;, &#x27;native_country_honduras&#x27;, &#x27;native_country_hong&#x27;, &#x27;native_country_hungary&#x27;, &#x27;native_country_india&#x27;, &#x27;native_country_iran&#x27;, &#x27;native_country_ireland&#x27;, &#x27;native_country_italy&#x27;, &#x27;native_country_jamaica&#x27;, &#x27;native_country_japan&#x27;, &#x27;native_country_laos&#x27;, &#x27;native_country_mexico&#x27;, &#x27;native_country_nicaragua&#x27;, &#x27;native_country_outlying_us(guam_usvi_etc)&#x27;, &#x27;native_country_peru&#x27;, &#x27;native_country_philippines&#x27;, &#x27;native_country_poland&#x27;, &#x27;native_country_portugal&#x27;, &#x27;native_country_puerto_rico&#x27;, &#x27;native_country_scotland&#x27;, &#x27;native_country_south&#x27;, &#x27;native_country_taiwan&#x27;, &#x27;native_country_thailand&#x27;, &#x27;native_country_trinadad&amp;tobago&#x27;, &#x27;native_country_united_states&#x27;, &#x27;native_country_unknown&#x27;, &#x27;native_country_vietnam&#x27;, &#x27;native_country_yugoslavia&#x27;]</pre></div></div></div><div class=\"sk-serial\"><div class=\"sk-item\"><div class=\"sk-estimator sk-toggleable\"><input class=\"sk-toggleable__control sk-hidden--visually\" id=\"158c4e7e-daf3-4cc4-a3c1-eaf51ac116d3\" type=\"checkbox\" ><label for=\"158c4e7e-daf3-4cc4-a3c1-eaf51ac116d3\" class=\"sk-toggleable__label sk-toggleable__label-arrow\">passthrough</label><div class=\"sk-toggleable__content\"><pre>passthrough</pre></div></div></div></div></div></div></div></div><div class=\"sk-item\"><div class=\"sk-estimator sk-toggleable\"><input class=\"sk-toggleable__control sk-hidden--visually\" id=\"8c832335-992c-4a91-9095-c0618c3faffa\" type=\"checkbox\" ><label for=\"8c832335-992c-4a91-9095-c0618c3faffa\" class=\"sk-toggleable__label sk-toggleable__label-arrow\">RandomForestClassifier</label><div class=\"sk-toggleable__content\"><pre>RandomForestClassifier(max_samples=5000, n_estimators=1000, n_jobs=-1)</pre></div></div></div></div></div></div></div>"
            ]
          },
          "metadata": {},
          "execution_count": 24
        }
      ]
    },
    {
      "cell_type": "code",
      "source": [
        "y_pred = random_forest.predict(X_test)\n",
        "eval_clf_model(y_pred, y_test)"
      ],
      "metadata": {
        "colab": {
          "base_uri": "https://localhost:8080/",
          "height": 657
        },
        "id": "HFSUrBcbRkie",
        "outputId": "06709e01-76f4-462e-fe3f-2514d3fc8648"
      },
      "execution_count": 25,
      "outputs": [
        {
          "output_type": "stream",
          "name": "stdout",
          "text": [
            "Precision:  0.8485037406483791\n",
            "Recall: 0.8091557669441142\n",
            "F1 Score: 0.8283627510651249\n"
          ]
        },
        {
          "output_type": "display_data",
          "data": {
            "text/plain": [
              "<Figure size 720x720 with 2 Axes>"
            ],
            "image/png": "[encoded data removed]"
          },
          "metadata": {
            "needs_background": "light"
          }
        }
      ]
    },
    {
      "cell_type": "markdown",
      "source": [
        "We actually got better results with this.  However, there is no free lunch. It is possible with random sampling that we lose important information that is included in the instances not selected for the sample. Therefore, you have to be careful with this.  Another more complicated method is to use minority class oversampling in which you make synthetic instances of the minority class."
      ],
      "metadata": {
        "id": "CqASET2KR-Me"
      }
    },
    {
      "cell_type": "code",
      "source": [
        ""
      ],
      "metadata": {
        "id": "E6pedRwjRuCS"
      },
      "execution_count": null,
      "outputs": []
    },
    {
      "cell_type": "markdown",
      "source": [
        "## Another Example\n",
        "Let's work with the bank data set we have used in the past with Logistic Regression."
      ],
      "metadata": {
        "id": "uTTpRIChxMFg"
      }
    },
    {
      "cell_type": "code",
      "source": [
        "df = pd.read_csv('/content/gdrive/MyDrive/CS430/bank-full.csv', sep=';')\n",
        "df.rename(columns={\"y\": \"outcome\"}, inplace=True)\n",
        "df['outcome'] = df['outcome'].apply(lambda x: 1 if x == \"yes\" else 0)  #If the value in the row is yes, recode to 1, otherwise recode to 0.\n",
        "\n",
        "X = df.iloc[:,0:-1]\n",
        "y = df[['outcome']]\n",
        "\n",
        "X_train, X_test, y_train, y_test = train_test_split(X,y, test_size=.20, random_state=32)\n",
        "\n",
        "num_attribs = ['age','balance','day','duration','campaign','pdays','previous']\n",
        "cat_attribs = ['job','marital','education','default','housing','loan','contact','month','poutcome']"
      ],
      "metadata": {
        "id": "6JTjfSP6xzob"
      },
      "execution_count": 28,
      "outputs": []
    },
    {
      "cell_type": "code",
      "source": [
        "col_transform = ColumnTransformer(transformers=[\n",
        "                               ('cat',OneHotEncoder(), cat_attribs),\n",
        "                               ('num',MinMaxScaler(), num_attribs),]\n",
        "                  )"
      ],
      "metadata": {
        "id": "ZzjGLSgax0Kj"
      },
      "execution_count": 30,
      "outputs": []
    },
    {
      "cell_type": "code",
      "source": [
        "random_forest = Pipeline([\n",
        "                     ('transform', col_transform),\n",
        "                     ('rf',RandomForestClassifier(n_estimators=1000, max_samples=500, bootstrap=True))\n",
        "                     ])"
      ],
      "metadata": {
        "id": "nlhqN5b9x1Yq"
      },
      "execution_count": 32,
      "outputs": []
    },
    {
      "cell_type": "code",
      "source": [
        "random_forest.fit(X_train,np.ravel(y_train))"
      ],
      "metadata": {
        "colab": {
          "base_uri": "https://localhost:8080/",
          "height": 212
        },
        "id": "o7zUDdcqydRv",
        "outputId": "deb0215a-fb17-4048-a608-117400d792ca"
      },
      "execution_count": 33,
      "outputs": [
        {
          "output_type": "execute_result",
          "data": {
            "text/plain": [
              "Pipeline(steps=[('transform',\n",
              "                 ColumnTransformer(transformers=[('cat', OneHotEncoder(),\n",
              "                                                  ['job', 'marital',\n",
              "                                                   'education', 'default',\n",
              "                                                   'housing', 'loan', 'contact',\n",
              "                                                   'month', 'poutcome']),\n",
              "                                                 ('num', MinMaxScaler(),\n",
              "                                                  ['age', 'balance', 'day',\n",
              "                                                   'duration', 'campaign',\n",
              "                                                   'pdays', 'previous'])])),\n",
              "                ('rf',\n",
              "                 RandomForestClassifier(max_samples=500, n_estimators=1000))])"
            ],
            "text/html": [
              "<style>#sk-e54b75c1-5a3a-4e14-a2d7-81a301029eaf {color: black;background-color: white;}#sk-e54b75c1-5a3a-4e14-a2d7-81a301029eaf pre{padding: 0;}#sk-e54b75c1-5a3a-4e14-a2d7-81a301029eaf div.sk-toggleable {background-color: white;}#sk-e54b75c1-5a3a-4e14-a2d7-81a301029eaf label.sk-toggleable__label {cursor: pointer;display: block;width: 100%;margin-bottom: 0;padding: 0.3em;box-sizing: border-box;text-align: center;}#sk-e54b75c1-5a3a-4e14-a2d7-81a301029eaf label.sk-toggleable__label-arrow:before {content: \"▸\";float: left;margin-right: 0.25em;color: #696969;}#sk-e54b75c1-5a3a-4e14-a2d7-81a301029eaf label.sk-toggleable__label-arrow:hover:before {color: black;}#sk-e54b75c1-5a3a-4e14-a2d7-81a301029eaf div.sk-estimator:hover label.sk-toggleable__label-arrow:before {color: black;}#sk-e54b75c1-5a3a-4e14-a2d7-81a301029eaf div.sk-toggleable__content {max-height: 0;max-width: 0;overflow: hidden;text-align: left;background-color: #f0f8ff;}#sk-e54b75c1-5a3a-4e14-a2d7-81a301029eaf div.sk-toggleable__content pre {margin: 0.2em;color: black;border-radius: 0.25em;background-color: #f0f8ff;}#sk-e54b75c1-5a3a-4e14-a2d7-81a301029eaf input.sk-toggleable__control:checked~div.sk-toggleable__content {max-height: 200px;max-width: 100%;overflow: auto;}#sk-e54b75c1-5a3a-4e14-a2d7-81a301029eaf input.sk-toggleable__control:checked~label.sk-toggleable__label-arrow:before {content: \"▾\";}#sk-e54b75c1-5a3a-4e14-a2d7-81a301029eaf div.sk-estimator input.sk-toggleable__control:checked~label.sk-toggleable__label {background-color: #d4ebff;}#sk-e54b75c1-5a3a-4e14-a2d7-81a301029eaf div.sk-label input.sk-toggleable__control:checked~label.sk-toggleable__label {background-color: #d4ebff;}#sk-e54b75c1-5a3a-4e14-a2d7-81a301029eaf input.sk-hidden--visually {border: 0;clip: rect(1px 1px 1px 1px);clip: rect(1px, 1px, 1px, 1px);height: 1px;margin: -1px;overflow: hidden;padding: 0;position: absolute;width: 1px;}#sk-e54b75c1-5a3a-4e14-a2d7-81a301029eaf div.sk-estimator {font-family: monospace;background-color: #f0f8ff;border: 1px dotted black;border-radius: 0.25em;box-sizing: border-box;margin-bottom: 0.5em;}#sk-e54b75c1-5a3a-4e14-a2d7-81a301029eaf div.sk-estimator:hover {background-color: #d4ebff;}#sk-e54b75c1-5a3a-4e14-a2d7-81a301029eaf div.sk-parallel-item::after {content: \"\";width: 100%;border-bottom: 1px solid gray;flex-grow: 1;}#sk-e54b75c1-5a3a-4e14-a2d7-81a301029eaf div.sk-label:hover label.sk-toggleable__label {background-color: #d4ebff;}#sk-e54b75c1-5a3a-4e14-a2d7-81a301029eaf div.sk-serial::before {content: \"\";position: absolute;border-left: 1px solid gray;box-sizing: border-box;top: 2em;bottom: 0;left: 50%;}#sk-e54b75c1-5a3a-4e14-a2d7-81a301029eaf div.sk-serial {display: flex;flex-direction: column;align-items: center;background-color: white;padding-right: 0.2em;padding-left: 0.2em;}#sk-e54b75c1-5a3a-4e14-a2d7-81a301029eaf div.sk-item {z-index: 1;}#sk-e54b75c1-5a3a-4e14-a2d7-81a301029eaf div.sk-parallel {display: flex;align-items: stretch;justify-content: center;background-color: white;}#sk-e54b75c1-5a3a-4e14-a2d7-81a301029eaf div.sk-parallel::before {content: \"\";position: absolute;border-left: 1px solid gray;box-sizing: border-box;top: 2em;bottom: 0;left: 50%;}#sk-e54b75c1-5a3a-4e14-a2d7-81a301029eaf div.sk-parallel-item {display: flex;flex-direction: column;position: relative;background-color: white;}#sk-e54b75c1-5a3a-4e14-a2d7-81a301029eaf div.sk-parallel-item:first-child::after {align-self: flex-end;width: 50%;}#sk-e54b75c1-5a3a-4e14-a2d7-81a301029eaf div.sk-parallel-item:last-child::after {align-self: flex-start;width: 50%;}#sk-e54b75c1-5a3a-4e14-a2d7-81a301029eaf div.sk-parallel-item:only-child::after {width: 0;}#sk-e54b75c1-5a3a-4e14-a2d7-81a301029eaf div.sk-dashed-wrapped {border: 1px dashed gray;margin: 0 0.4em 0.5em 0.4em;box-sizing: border-box;padding-bottom: 0.4em;background-color: white;position: relative;}#sk-e54b75c1-5a3a-4e14-a2d7-81a301029eaf div.sk-label label {font-family: monospace;font-weight: bold;background-color: white;display: inline-block;line-height: 1.2em;}#sk-e54b75c1-5a3a-4e14-a2d7-81a301029eaf div.sk-label-container {position: relative;z-index: 2;text-align: center;}#sk-e54b75c1-5a3a-4e14-a2d7-81a301029eaf div.sk-container {/* jupyter's `normalize.less` sets `[hidden] { display: none; }` but bootstrap.min.css set `[hidden] { display: none !important; }` so we also need the `!important` here to be able to override the default hidden behavior on the sphinx rendered scikit-learn.org. See: https://github.com/scikit-learn/scikit-learn/issues/21755 */display: inline-block !important;position: relative;}#sk-e54b75c1-5a3a-4e14-a2d7-81a301029eaf div.sk-text-repr-fallback {display: none;}</style><div id=\"sk-e54b75c1-5a3a-4e14-a2d7-81a301029eaf\" class=\"sk-top-container\"><div class=\"sk-text-repr-fallback\"><pre>Pipeline(steps=[(&#x27;transform&#x27;,\n",
              "                 ColumnTransformer(transformers=[(&#x27;cat&#x27;, OneHotEncoder(),\n",
              "                                                  [&#x27;job&#x27;, &#x27;marital&#x27;,\n",
              "                                                   &#x27;education&#x27;, &#x27;default&#x27;,\n",
              "                                                   &#x27;housing&#x27;, &#x27;loan&#x27;, &#x27;contact&#x27;,\n",
              "                                                   &#x27;month&#x27;, &#x27;poutcome&#x27;]),\n",
              "                                                 (&#x27;num&#x27;, MinMaxScaler(),\n",
              "                                                  [&#x27;age&#x27;, &#x27;balance&#x27;, &#x27;day&#x27;,\n",
              "                                                   &#x27;duration&#x27;, &#x27;campaign&#x27;,\n",
              "                                                   &#x27;pdays&#x27;, &#x27;previous&#x27;])])),\n",
              "                (&#x27;rf&#x27;,\n",
              "                 RandomForestClassifier(max_samples=500, n_estimators=1000))])</pre><b>Please rerun this cell to show the HTML repr or trust the notebook.</b></div><div class=\"sk-container\" hidden><div class=\"sk-item sk-dashed-wrapped\"><div class=\"sk-label-container\"><div class=\"sk-label sk-toggleable\"><input class=\"sk-toggleable__control sk-hidden--visually\" id=\"66e5c123-76be-4149-bca5-0a6607347539\" type=\"checkbox\" ><label for=\"66e5c123-76be-4149-bca5-0a6607347539\" class=\"sk-toggleable__label sk-toggleable__label-arrow\">Pipeline</label><div class=\"sk-toggleable__content\"><pre>Pipeline(steps=[(&#x27;transform&#x27;,\n",
              "                 ColumnTransformer(transformers=[(&#x27;cat&#x27;, OneHotEncoder(),\n",
              "                                                  [&#x27;job&#x27;, &#x27;marital&#x27;,\n",
              "                                                   &#x27;education&#x27;, &#x27;default&#x27;,\n",
              "                                                   &#x27;housing&#x27;, &#x27;loan&#x27;, &#x27;contact&#x27;,\n",
              "                                                   &#x27;month&#x27;, &#x27;poutcome&#x27;]),\n",
              "                                                 (&#x27;num&#x27;, MinMaxScaler(),\n",
              "                                                  [&#x27;age&#x27;, &#x27;balance&#x27;, &#x27;day&#x27;,\n",
              "                                                   &#x27;duration&#x27;, &#x27;campaign&#x27;,\n",
              "                                                   &#x27;pdays&#x27;, &#x27;previous&#x27;])])),\n",
              "                (&#x27;rf&#x27;,\n",
              "                 RandomForestClassifier(max_samples=500, n_estimators=1000))])</pre></div></div></div><div class=\"sk-serial\"><div class=\"sk-item sk-dashed-wrapped\"><div class=\"sk-label-container\"><div class=\"sk-label sk-toggleable\"><input class=\"sk-toggleable__control sk-hidden--visually\" id=\"49780aa8-201f-483f-9b1a-fb5ba721f0b0\" type=\"checkbox\" ><label for=\"49780aa8-201f-483f-9b1a-fb5ba721f0b0\" class=\"sk-toggleable__label sk-toggleable__label-arrow\">transform: ColumnTransformer</label><div class=\"sk-toggleable__content\"><pre>ColumnTransformer(transformers=[(&#x27;cat&#x27;, OneHotEncoder(),\n",
              "                                 [&#x27;job&#x27;, &#x27;marital&#x27;, &#x27;education&#x27;, &#x27;default&#x27;,\n",
              "                                  &#x27;housing&#x27;, &#x27;loan&#x27;, &#x27;contact&#x27;, &#x27;month&#x27;,\n",
              "                                  &#x27;poutcome&#x27;]),\n",
              "                                (&#x27;num&#x27;, MinMaxScaler(),\n",
              "                                 [&#x27;age&#x27;, &#x27;balance&#x27;, &#x27;day&#x27;, &#x27;duration&#x27;,\n",
              "                                  &#x27;campaign&#x27;, &#x27;pdays&#x27;, &#x27;previous&#x27;])])</pre></div></div></div><div class=\"sk-parallel\"><div class=\"sk-parallel-item\"><div class=\"sk-item\"><div class=\"sk-label-container\"><div class=\"sk-label sk-toggleable\"><input class=\"sk-toggleable__control sk-hidden--visually\" id=\"f5552de4-8d10-4760-9dac-135945c58d4a\" type=\"checkbox\" ><label for=\"f5552de4-8d10-4760-9dac-135945c58d4a\" class=\"sk-toggleable__label sk-toggleable__label-arrow\">cat</label><div class=\"sk-toggleable__content\"><pre>[&#x27;job&#x27;, &#x27;marital&#x27;, &#x27;education&#x27;, &#x27;default&#x27;, &#x27;housing&#x27;, &#x27;loan&#x27;, &#x27;contact&#x27;, &#x27;month&#x27;, &#x27;poutcome&#x27;]</pre></div></div></div><div class=\"sk-serial\"><div class=\"sk-item\"><div class=\"sk-estimator sk-toggleable\"><input class=\"sk-toggleable__control sk-hidden--visually\" id=\"e561cd9a-1881-4724-ac0a-508c6ec772ed\" type=\"checkbox\" ><label for=\"e561cd9a-1881-4724-ac0a-508c6ec772ed\" class=\"sk-toggleable__label sk-toggleable__label-arrow\">OneHotEncoder</label><div class=\"sk-toggleable__content\"><pre>OneHotEncoder()</pre></div></div></div></div></div></div><div class=\"sk-parallel-item\"><div class=\"sk-item\"><div class=\"sk-label-container\"><div class=\"sk-label sk-toggleable\"><input class=\"sk-toggleable__control sk-hidden--visually\" id=\"cccca2da-266f-425c-9799-0d353d7c30be\" type=\"checkbox\" ><label for=\"cccca2da-266f-425c-9799-0d353d7c30be\" class=\"sk-toggleable__label sk-toggleable__label-arrow\">num</label><div class=\"sk-toggleable__content\"><pre>[&#x27;age&#x27;, &#x27;balance&#x27;, &#x27;day&#x27;, &#x27;duration&#x27;, &#x27;campaign&#x27;, &#x27;pdays&#x27;, &#x27;previous&#x27;]</pre></div></div></div><div class=\"sk-serial\"><div class=\"sk-item\"><div class=\"sk-estimator sk-toggleable\"><input class=\"sk-toggleable__control sk-hidden--visually\" id=\"4f3fe1b4-4251-492f-b1f8-b01dc9852f60\" type=\"checkbox\" ><label for=\"4f3fe1b4-4251-492f-b1f8-b01dc9852f60\" class=\"sk-toggleable__label sk-toggleable__label-arrow\">MinMaxScaler</label><div class=\"sk-toggleable__content\"><pre>MinMaxScaler()</pre></div></div></div></div></div></div></div></div><div class=\"sk-item\"><div class=\"sk-estimator sk-toggleable\"><input class=\"sk-toggleable__control sk-hidden--visually\" id=\"9d3c8bbd-aec6-481d-a8e3-d401e3965bb1\" type=\"checkbox\" ><label for=\"9d3c8bbd-aec6-481d-a8e3-d401e3965bb1\" class=\"sk-toggleable__label sk-toggleable__label-arrow\">RandomForestClassifier</label><div class=\"sk-toggleable__content\"><pre>RandomForestClassifier(max_samples=500, n_estimators=1000)</pre></div></div></div></div></div></div></div>"
            ]
          },
          "metadata": {},
          "execution_count": 33
        }
      ]
    },
    {
      "cell_type": "code",
      "source": [
        "y_pred = random_forest.predict(X_test)\n",
        "eval_clf_model(y_pred, y_test)"
      ],
      "metadata": {
        "colab": {
          "base_uri": "https://localhost:8080/",
          "height": 657
        },
        "id": "I8wmy5Ccyxrr",
        "outputId": "26e16553-155b-4f11-a9a1-4092ad720230"
      },
      "execution_count": 35,
      "outputs": [
        {
          "output_type": "stream",
          "name": "stdout",
          "text": [
            "Precision:  0.18471953578336556\n",
            "Recall: 0.7100371747211895\n",
            "F1 Score: 0.29316960859554875\n"
          ]
        },
        {
          "output_type": "display_data",
          "data": {
            "text/plain": [
              "<Figure size 720x720 with 2 Axes>"
            ],
            "image/png": "[encoded data removed]"
          },
          "metadata": {
            "needs_background": "light"
          }
        }
      ]
    },
    {
      "cell_type": "code",
      "source": [
        ""
      ],
      "metadata": {
        "id": "LE91-SfSy5kD"
      },
      "execution_count": null,
      "outputs": []
    },
    {
      "cell_type": "code",
      "source": [
        "#names = random_forest[:-1].get_feature_names_out()\n",
        "#for name, score in zip(names,random_forest.named_steps.rf.feature_importances_):\n",
        "  #print(name, score)"
      ],
      "metadata": {
        "id": "-2E9wQLEye7p"
      },
      "execution_count": 41,
      "outputs": []
    },
    {
      "cell_type": "code",
      "source": [
        "df = pd.read_csv('/content/gdrive/MyDrive/CS430/breast_cancer_data.csv')"
      ],
      "metadata": {
        "id": "v1ijh0CVzBey"
      },
      "execution_count": 37,
      "outputs": []
    },
    {
      "cell_type": "code",
      "source": [
        "df.head()"
      ],
      "metadata": {
        "colab": {
          "base_uri": "https://localhost:8080/",
          "height": 314
        },
        "id": "8jJOjXocztXs",
        "outputId": "6cfa0ea3-f46d-4872-98b0-e7995b9a7567"
      },
      "execution_count": 38,
      "outputs": [
        {
          "output_type": "execute_result",
          "data": {
            "text/plain": [
              "         id diagnosis  radius_mean  texture_mean  perimeter_mean  area_mean  \\\n",
              "0    842302         M        17.99         10.38          122.80     1001.0   \n",
              "1    842517         M        20.57         17.77          132.90     1326.0   \n",
              "2  84300903         M        19.69         21.25          130.00     1203.0   \n",
              "3  84348301         M        11.42         20.38           77.58      386.1   \n",
              "4  84358402         M        20.29         14.34          135.10     1297.0   \n",
              "\n",
              "   smoothness_mean  compactness_mean  concavity_mean  concave points_mean  \\\n",
              "0          0.11840           0.27760          0.3001              0.14710   \n",
              "1          0.08474           0.07864          0.0869              0.07017   \n",
              "2          0.10960           0.15990          0.1974              0.12790   \n",
              "3          0.14250           0.28390          0.2414              0.10520   \n",
              "4          0.10030           0.13280          0.1980              0.10430   \n",
              "\n",
              "   ...  texture_worst  perimeter_worst  area_worst  smoothness_worst  \\\n",
              "0  ...          17.33           184.60      2019.0            0.1622   \n",
              "1  ...          23.41           158.80      1956.0            0.1238   \n",
              "2  ...          25.53           152.50      1709.0            0.1444   \n",
              "3  ...          26.50            98.87       567.7            0.2098   \n",
              "4  ...          16.67           152.20      1575.0            0.1374   \n",
              "\n",
              "   compactness_worst  concavity_worst  concave points_worst  symmetry_worst  \\\n",
              "0             0.6656           0.7119                0.2654          0.4601   \n",
              "1             0.1866           0.2416                0.1860          0.2750   \n",
              "2             0.4245           0.4504                0.2430          0.3613   \n",
              "3             0.8663           0.6869                0.2575          0.6638   \n",
              "4             0.2050           0.4000                0.1625          0.2364   \n",
              "\n",
              "   fractal_dimension_worst  Unnamed: 32  \n",
              "0                  0.11890          NaN  \n",
              "1                  0.08902          NaN  \n",
              "2                  0.08758          NaN  \n",
              "3                  0.17300          NaN  \n",
              "4                  0.07678          NaN  \n",
              "\n",
              "[5 rows x 33 columns]"
            ],
            "text/html": [
              "\n",
              "  <div id=\"df-2b671509-a3fd-4936-8924-1a4917e47edf\">\n",
              "    <div class=\"colab-df-container\">\n",
              "      <div>\n",
              "<style scoped>\n",
              "    .dataframe tbody tr th:only-of-type {\n",
              "        vertical-align: middle;\n",
              "    }\n",
              "\n",
              "    .dataframe tbody tr th {\n",
              "        vertical-align: top;\n",
              "    }\n",
              "\n",
              "    .dataframe thead th {\n",
              "        text-align: right;\n",
              "    }\n",
              "</style>\n",
              "<table border=\"1\" class=\"dataframe\">\n",
              "  <thead>\n",
              "    <tr style=\"text-align: right;\">\n",
              "      <th></th>\n",
              "      <th>id</th>\n",
              "      <th>diagnosis</th>\n",
              "      <th>radius_mean</th>\n",
              "      <th>texture_mean</th>\n",
              "      <th>perimeter_mean</th>\n",
              "      <th>area_mean</th>\n",
              "      <th>smoothness_mean</th>\n",
              "      <th>compactness_mean</th>\n",
              "      <th>concavity_mean</th>\n",
              "      <th>concave points_mean</th>\n",
              "      <th>...</th>\n",
              "      <th>texture_worst</th>\n",
              "      <th>perimeter_worst</th>\n",
              "      <th>area_worst</th>\n",
              "      <th>smoothness_worst</th>\n",
              "      <th>compactness_worst</th>\n",
              "      <th>concavity_worst</th>\n",
              "      <th>concave points_worst</th>\n",
              "      <th>symmetry_worst</th>\n",
              "      <th>fractal_dimension_worst</th>\n",
              "      <th>Unnamed: 32</th>\n",
              "    </tr>\n",
              "  </thead>\n",
              "  <tbody>\n",
              "    <tr>\n",
              "      <th>0</th>\n",
              "      <td>842302</td>\n",
              "      <td>M</td>\n",
              "      <td>17.99</td>\n",
              "      <td>10.38</td>\n",
              "      <td>122.80</td>\n",
              "      <td>1001.0</td>\n",
              "      <td>0.11840</td>\n",
              "      <td>0.27760</td>\n",
              "      <td>0.3001</td>\n",
              "      <td>0.14710</td>\n",
              "      <td>...</td>\n",
              "      <td>17.33</td>\n",
              "      <td>184.60</td>\n",
              "      <td>2019.0</td>\n",
              "      <td>0.1622</td>\n",
              "      <td>0.6656</td>\n",
              "      <td>0.7119</td>\n",
              "      <td>0.2654</td>\n",
              "      <td>0.4601</td>\n",
              "      <td>0.11890</td>\n",
              "      <td>NaN</td>\n",
              "    </tr>\n",
              "    <tr>\n",
              "      <th>1</th>\n",
              "      <td>842517</td>\n",
              "      <td>M</td>\n",
              "      <td>20.57</td>\n",
              "      <td>17.77</td>\n",
              "      <td>132.90</td>\n",
              "      <td>1326.0</td>\n",
              "      <td>0.08474</td>\n",
              "      <td>0.07864</td>\n",
              "      <td>0.0869</td>\n",
              "      <td>0.07017</td>\n",
              "      <td>...</td>\n",
              "      <td>23.41</td>\n",
              "      <td>158.80</td>\n",
              "      <td>1956.0</td>\n",
              "      <td>0.1238</td>\n",
              "      <td>0.1866</td>\n",
              "      <td>0.2416</td>\n",
              "      <td>0.1860</td>\n",
              "      <td>0.2750</td>\n",
              "      <td>0.08902</td>\n",
              "      <td>NaN</td>\n",
              "    </tr>\n",
              "    <tr>\n",
              "      <th>2</th>\n",
              "      <td>84300903</td>\n",
              "      <td>M</td>\n",
              "      <td>19.69</td>\n",
              "      <td>21.25</td>\n",
              "      <td>130.00</td>\n",
              "      <td>1203.0</td>\n",
              "      <td>0.10960</td>\n",
              "      <td>0.15990</td>\n",
              "      <td>0.1974</td>\n",
              "      <td>0.12790</td>\n",
              "      <td>...</td>\n",
              "      <td>25.53</td>\n",
              "      <td>152.50</td>\n",
              "      <td>1709.0</td>\n",
              "      <td>0.1444</td>\n",
              "      <td>0.4245</td>\n",
              "      <td>0.4504</td>\n",
              "      <td>0.2430</td>\n",
              "      <td>0.3613</td>\n",
              "      <td>0.08758</td>\n",
              "      <td>NaN</td>\n",
              "    </tr>\n",
              "    <tr>\n",
              "      <th>3</th>\n",
              "      <td>84348301</td>\n",
              "      <td>M</td>\n",
              "      <td>11.42</td>\n",
              "      <td>20.38</td>\n",
              "      <td>77.58</td>\n",
              "      <td>386.1</td>\n",
              "      <td>0.14250</td>\n",
              "      <td>0.28390</td>\n",
              "      <td>0.2414</td>\n",
              "      <td>0.10520</td>\n",
              "      <td>...</td>\n",
              "      <td>26.50</td>\n",
              "      <td>98.87</td>\n",
              "      <td>567.7</td>\n",
              "      <td>0.2098</td>\n",
              "      <td>0.8663</td>\n",
              "      <td>0.6869</td>\n",
              "      <td>0.2575</td>\n",
              "      <td>0.6638</td>\n",
              "      <td>0.17300</td>\n",
              "      <td>NaN</td>\n",
              "    </tr>\n",
              "    <tr>\n",
              "      <th>4</th>\n",
              "      <td>84358402</td>\n",
              "      <td>M</td>\n",
              "      <td>20.29</td>\n",
              "      <td>14.34</td>\n",
              "      <td>135.10</td>\n",
              "      <td>1297.0</td>\n",
              "      <td>0.10030</td>\n",
              "      <td>0.13280</td>\n",
              "      <td>0.1980</td>\n",
              "      <td>0.10430</td>\n",
              "      <td>...</td>\n",
              "      <td>16.67</td>\n",
              "      <td>152.20</td>\n",
              "      <td>1575.0</td>\n",
              "      <td>0.1374</td>\n",
              "      <td>0.2050</td>\n",
              "      <td>0.4000</td>\n",
              "      <td>0.1625</td>\n",
              "      <td>0.2364</td>\n",
              "      <td>0.07678</td>\n",
              "      <td>NaN</td>\n",
              "    </tr>\n",
              "  </tbody>\n",
              "</table>\n",
              "<p>5 rows × 33 columns</p>\n",
              "</div>\n",
              "      <button class=\"colab-df-convert\" onclick=\"convertToInteractive('df-2b671509-a3fd-4936-8924-1a4917e47edf')\"\n",
              "              title=\"Convert this dataframe to an interactive table.\"\n",
              "              style=\"display:none;\">\n",
              "        \n",
              "  <svg xmlns=\"http://www.w3.org/2000/svg\" height=\"24px\"viewBox=\"0 0 24 24\"\n",
              "       width=\"24px\">\n",
              "    <path d=\"M0 0h24v24H0V0z\" fill=\"none\"/>\n",
              "    <path d=\"M18.56 5.44l.94 2.06.94-2.06 2.06-.94-2.06-.94-.94-2.06-.94 2.06-2.06.94zm-11 1L8.5 8.5l.94-2.06 2.06-.94-2.06-.94L8.5 2.5l-.94 2.06-2.06.94zm10 10l.94 2.06.94-2.06 2.06-.94-2.06-.94-.94-2.06-.94 2.06-2.06.94z\"/><path d=\"M17.41 7.96l-1.37-1.37c-.4-.4-.92-.59-1.43-.59-.52 0-1.04.2-1.43.59L10.3 9.45l-7.72 7.72c-.78.78-.78 2.05 0 2.83L4 21.41c.39.39.9.59 1.41.59.51 0 1.02-.2 1.41-.59l7.78-7.78 2.81-2.81c.8-.78.8-2.07 0-2.86zM5.41 20L4 18.59l7.72-7.72 1.47 1.35L5.41 20z\"/>\n",
              "  </svg>\n",
              "      </button>\n",
              "      \n",
              "  <style>\n",
              "    .colab-df-container {\n",
              "      display:flex;\n",
              "      flex-wrap:wrap;\n",
              "      gap: 12px;\n",
              "    }\n",
              "\n",
              "    .colab-df-convert {\n",
              "      background-color: #E8F0FE;\n",
              "      border: none;\n",
              "      border-radius: 50%;\n",
              "      cursor: pointer;\n",
              "      display: none;\n",
              "      fill: #1967D2;\n",
              "      height: 32px;\n",
              "      padding: 0 0 0 0;\n",
              "      width: 32px;\n",
              "    }\n",
              "\n",
              "    .colab-df-convert:hover {\n",
              "      background-color: #E2EBFA;\n",
              "      box-shadow: 0px 1px 2px rgba(60, 64, 67, 0.3), 0px 1px 3px 1px rgba(60, 64, 67, 0.15);\n",
              "      fill: #174EA6;\n",
              "    }\n",
              "\n",
              "    [theme=dark] .colab-df-convert {\n",
              "      background-color: #3B4455;\n",
              "      fill: #D2E3FC;\n",
              "    }\n",
              "\n",
              "    [theme=dark] .colab-df-convert:hover {\n",
              "      background-color: #434B5C;\n",
              "      box-shadow: 0px 1px 3px 1px rgba(0, 0, 0, 0.15);\n",
              "      filter: drop-shadow(0px 1px 2px rgba(0, 0, 0, 0.3));\n",
              "      fill: #FFFFFF;\n",
              "    }\n",
              "  </style>\n",
              "\n",
              "      <script>\n",
              "        const buttonEl =\n",
              "          document.querySelector('#df-2b671509-a3fd-4936-8924-1a4917e47edf button.colab-df-convert');\n",
              "        buttonEl.style.display =\n",
              "          google.colab.kernel.accessAllowed ? 'block' : 'none';\n",
              "\n",
              "        async function convertToInteractive(key) {\n",
              "          const element = document.querySelector('#df-2b671509-a3fd-4936-8924-1a4917e47edf');\n",
              "          const dataTable =\n",
              "            await google.colab.kernel.invokeFunction('convertToInteractive',\n",
              "                                                     [key], {});\n",
              "          if (!dataTable) return;\n",
              "\n",
              "          const docLinkHtml = 'Like what you see? Visit the ' +\n",
              "            '<a target=\"_blank\" href=https://colab.research.google.com/notebooks/data_table.ipynb>data table notebook</a>'\n",
              "            + ' to learn more about interactive tables.';\n",
              "          element.innerHTML = '';\n",
              "          dataTable['output_type'] = 'display_data';\n",
              "          await google.colab.output.renderOutput(dataTable, element);\n",
              "          const docLink = document.createElement('div');\n",
              "          docLink.innerHTML = docLinkHtml;\n",
              "          element.appendChild(docLink);\n",
              "        }\n",
              "      </script>\n",
              "    </div>\n",
              "  </div>\n",
              "  "
            ]
          },
          "metadata": {},
          "execution_count": 38
        }
      ]
    },
    {
      "cell_type": "code",
      "source": [
        "df.diagnosis.groupby(df.diagnosis).count()"
      ],
      "metadata": {
        "colab": {
          "base_uri": "https://localhost:8080/"
        },
        "id": "F5Kllb840CH_",
        "outputId": "ebc0ff92-315d-4741-8a76-8f6133984c8d"
      },
      "execution_count": 44,
      "outputs": [
        {
          "output_type": "execute_result",
          "data": {
            "text/plain": [
              "diagnosis\n",
              "B    357\n",
              "M    212\n",
              "Name: diagnosis, dtype: int64"
            ]
          },
          "metadata": {},
          "execution_count": 44
        }
      ]
    },
    {
      "cell_type": "code",
      "source": [
        "df['diagnosis'] = df['diagnosis'].apply(lambda x: 1 if x == \"B\" else 0) "
      ],
      "metadata": {
        "id": "qlpGSMLh0tt-"
      },
      "execution_count": 48,
      "outputs": []
    },
    {
      "cell_type": "code",
      "source": [
        "X = df.iloc[:,1:-1]\n",
        "y = df[['diagnosis']]"
      ],
      "metadata": {
        "id": "dGO6psNMzt-k"
      },
      "execution_count": 49,
      "outputs": []
    },
    {
      "cell_type": "code",
      "source": [
        "X_train, X_test, y_train, y_test = train_test_split(X,y, test_size=.20, random_state=32)"
      ],
      "metadata": {
        "id": "7zYGMwR6zx5v"
      },
      "execution_count": 50,
      "outputs": []
    },
    {
      "cell_type": "code",
      "source": [
        "random_forest2 = Pipeline([\n",
        "                     ('rf',RandomForestClassifier(n_estimators=1000, max_samples=100, bootstrap=True))\n",
        "                     ])"
      ],
      "metadata": {
        "id": "4WkN7dpF0AdS"
      },
      "execution_count": 51,
      "outputs": []
    },
    {
      "cell_type": "code",
      "source": [
        "random_forest2.fit(X_train,np.ravel(y_train))"
      ],
      "metadata": {
        "colab": {
          "base_uri": "https://localhost:8080/",
          "height": 90
        },
        "id": "z0_uutlQ0k_8",
        "outputId": "f441befb-b7c9-41fd-c773-81d90cc90385"
      },
      "execution_count": 53,
      "outputs": [
        {
          "output_type": "execute_result",
          "data": {
            "text/plain": [
              "Pipeline(steps=[('rf',\n",
              "                 RandomForestClassifier(max_samples=100, n_estimators=1000))])"
            ],
            "text/html": [
              "<style>#sk-88257327-3926-45d9-bedb-77791d3b56a3 {color: black;background-color: white;}#sk-88257327-3926-45d9-bedb-77791d3b56a3 pre{padding: 0;}#sk-88257327-3926-45d9-bedb-77791d3b56a3 div.sk-toggleable {background-color: white;}#sk-88257327-3926-45d9-bedb-77791d3b56a3 label.sk-toggleable__label {cursor: pointer;display: block;width: 100%;margin-bottom: 0;padding: 0.3em;box-sizing: border-box;text-align: center;}#sk-88257327-3926-45d9-bedb-77791d3b56a3 label.sk-toggleable__label-arrow:before {content: \"▸\";float: left;margin-right: 0.25em;color: #696969;}#sk-88257327-3926-45d9-bedb-77791d3b56a3 label.sk-toggleable__label-arrow:hover:before {color: black;}#sk-88257327-3926-45d9-bedb-77791d3b56a3 div.sk-estimator:hover label.sk-toggleable__label-arrow:before {color: black;}#sk-88257327-3926-45d9-bedb-77791d3b56a3 div.sk-toggleable__content {max-height: 0;max-width: 0;overflow: hidden;text-align: left;background-color: #f0f8ff;}#sk-88257327-3926-45d9-bedb-77791d3b56a3 div.sk-toggleable__content pre {margin: 0.2em;color: black;border-radius: 0.25em;background-color: #f0f8ff;}#sk-88257327-3926-45d9-bedb-77791d3b56a3 input.sk-toggleable__control:checked~div.sk-toggleable__content {max-height: 200px;max-width: 100%;overflow: auto;}#sk-88257327-3926-45d9-bedb-77791d3b56a3 input.sk-toggleable__control:checked~label.sk-toggleable__label-arrow:before {content: \"▾\";}#sk-88257327-3926-45d9-bedb-77791d3b56a3 div.sk-estimator input.sk-toggleable__control:checked~label.sk-toggleable__label {background-color: #d4ebff;}#sk-88257327-3926-45d9-bedb-77791d3b56a3 div.sk-label input.sk-toggleable__control:checked~label.sk-toggleable__label {background-color: #d4ebff;}#sk-88257327-3926-45d9-bedb-77791d3b56a3 input.sk-hidden--visually {border: 0;clip: rect(1px 1px 1px 1px);clip: rect(1px, 1px, 1px, 1px);height: 1px;margin: -1px;overflow: hidden;padding: 0;position: absolute;width: 1px;}#sk-88257327-3926-45d9-bedb-77791d3b56a3 div.sk-estimator {font-family: monospace;background-color: #f0f8ff;border: 1px dotted black;border-radius: 0.25em;box-sizing: border-box;margin-bottom: 0.5em;}#sk-88257327-3926-45d9-bedb-77791d3b56a3 div.sk-estimator:hover {background-color: #d4ebff;}#sk-88257327-3926-45d9-bedb-77791d3b56a3 div.sk-parallel-item::after {content: \"\";width: 100%;border-bottom: 1px solid gray;flex-grow: 1;}#sk-88257327-3926-45d9-bedb-77791d3b56a3 div.sk-label:hover label.sk-toggleable__label {background-color: #d4ebff;}#sk-88257327-3926-45d9-bedb-77791d3b56a3 div.sk-serial::before {content: \"\";position: absolute;border-left: 1px solid gray;box-sizing: border-box;top: 2em;bottom: 0;left: 50%;}#sk-88257327-3926-45d9-bedb-77791d3b56a3 div.sk-serial {display: flex;flex-direction: column;align-items: center;background-color: white;padding-right: 0.2em;padding-left: 0.2em;}#sk-88257327-3926-45d9-bedb-77791d3b56a3 div.sk-item {z-index: 1;}#sk-88257327-3926-45d9-bedb-77791d3b56a3 div.sk-parallel {display: flex;align-items: stretch;justify-content: center;background-color: white;}#sk-88257327-3926-45d9-bedb-77791d3b56a3 div.sk-parallel::before {content: \"\";position: absolute;border-left: 1px solid gray;box-sizing: border-box;top: 2em;bottom: 0;left: 50%;}#sk-88257327-3926-45d9-bedb-77791d3b56a3 div.sk-parallel-item {display: flex;flex-direction: column;position: relative;background-color: white;}#sk-88257327-3926-45d9-bedb-77791d3b56a3 div.sk-parallel-item:first-child::after {align-self: flex-end;width: 50%;}#sk-88257327-3926-45d9-bedb-77791d3b56a3 div.sk-parallel-item:last-child::after {align-self: flex-start;width: 50%;}#sk-88257327-3926-45d9-bedb-77791d3b56a3 div.sk-parallel-item:only-child::after {width: 0;}#sk-88257327-3926-45d9-bedb-77791d3b56a3 div.sk-dashed-wrapped {border: 1px dashed gray;margin: 0 0.4em 0.5em 0.4em;box-sizing: border-box;padding-bottom: 0.4em;background-color: white;position: relative;}#sk-88257327-3926-45d9-bedb-77791d3b56a3 div.sk-label label {font-family: monospace;font-weight: bold;background-color: white;display: inline-block;line-height: 1.2em;}#sk-88257327-3926-45d9-bedb-77791d3b56a3 div.sk-label-container {position: relative;z-index: 2;text-align: center;}#sk-88257327-3926-45d9-bedb-77791d3b56a3 div.sk-container {/* jupyter's `normalize.less` sets `[hidden] { display: none; }` but bootstrap.min.css set `[hidden] { display: none !important; }` so we also need the `!important` here to be able to override the default hidden behavior on the sphinx rendered scikit-learn.org. See: https://github.com/scikit-learn/scikit-learn/issues/21755 */display: inline-block !important;position: relative;}#sk-88257327-3926-45d9-bedb-77791d3b56a3 div.sk-text-repr-fallback {display: none;}</style><div id=\"sk-88257327-3926-45d9-bedb-77791d3b56a3\" class=\"sk-top-container\"><div class=\"sk-text-repr-fallback\"><pre>Pipeline(steps=[(&#x27;rf&#x27;,\n",
              "                 RandomForestClassifier(max_samples=100, n_estimators=1000))])</pre><b>Please rerun this cell to show the HTML repr or trust the notebook.</b></div><div class=\"sk-container\" hidden><div class=\"sk-item sk-dashed-wrapped\"><div class=\"sk-label-container\"><div class=\"sk-label sk-toggleable\"><input class=\"sk-toggleable__control sk-hidden--visually\" id=\"0fa5bc91-91ad-405a-a211-7c5936964500\" type=\"checkbox\" ><label for=\"0fa5bc91-91ad-405a-a211-7c5936964500\" class=\"sk-toggleable__label sk-toggleable__label-arrow\">Pipeline</label><div class=\"sk-toggleable__content\"><pre>Pipeline(steps=[(&#x27;rf&#x27;,\n",
              "                 RandomForestClassifier(max_samples=100, n_estimators=1000))])</pre></div></div></div><div class=\"sk-serial\"><div class=\"sk-item\"><div class=\"sk-estimator sk-toggleable\"><input class=\"sk-toggleable__control sk-hidden--visually\" id=\"3e0cf474-388e-4c48-9087-c8ae93033821\" type=\"checkbox\" ><label for=\"3e0cf474-388e-4c48-9087-c8ae93033821\" class=\"sk-toggleable__label sk-toggleable__label-arrow\">RandomForestClassifier</label><div class=\"sk-toggleable__content\"><pre>RandomForestClassifier(max_samples=100, n_estimators=1000)</pre></div></div></div></div></div></div></div>"
            ]
          },
          "metadata": {},
          "execution_count": 53
        }
      ]
    },
    {
      "cell_type": "code",
      "source": [
        "y_pred = random_forest2.predict(X_test)\n",
        "eval_clf_model(y_pred, y_test)"
      ],
      "metadata": {
        "colab": {
          "base_uri": "https://localhost:8080/",
          "height": 661
        },
        "id": "v60b4rVh0n7v",
        "outputId": "44d8ab93-fe87-4b72-9514-53262a4faf2a"
      },
      "execution_count": 56,
      "outputs": [
        {
          "output_type": "stream",
          "name": "stdout",
          "text": [
            "Precision:  1.0\n",
            "Recall: 0.9859154929577465\n",
            "F1 Score: 0.9929078014184397\n"
          ]
        },
        {
          "output_type": "display_data",
          "data": {
            "text/plain": [
              "<Figure size 720x720 with 2 Axes>"
            ],
            "image/png": "[encoded data removed]"
          },
          "metadata": {
            "needs_background": "light"
          }
        }
      ]
    },
    {
      "cell_type": "code",
      "source": [
        "red = pd.read_csv('/content/gdrive/MyDrive/CS430/winequality-red.csv', sep=';')\n",
        "white = pd.read_csv('/content/gdrive/MyDrive/CS430/winequality-white.csv', sep=';')"
      ],
      "metadata": {
        "id": "Ote_OVPV09aI"
      },
      "execution_count": 70,
      "outputs": []
    },
    {
      "cell_type": "code",
      "source": [
        "df = pd.concat([red, white])"
      ],
      "metadata": {
        "id": "dyjRC6Ib29s_"
      },
      "execution_count": 74,
      "outputs": []
    },
    {
      "cell_type": "code",
      "source": [
        "df.quality.groupby(df.quality).count()"
      ],
      "metadata": {
        "colab": {
          "base_uri": "https://localhost:8080/"
        },
        "id": "C67gfl9W3AMX",
        "outputId": "1b551aaa-a1ed-4592-f1dd-9a8262fa249c"
      },
      "execution_count": 76,
      "outputs": [
        {
          "output_type": "execute_result",
          "data": {
            "text/plain": [
              "quality\n",
              "3      30\n",
              "4     216\n",
              "5    2138\n",
              "6    2836\n",
              "7    1079\n",
              "8     193\n",
              "9       5\n",
              "Name: quality, dtype: int64"
            ]
          },
          "metadata": {},
          "execution_count": 76
        }
      ]
    },
    {
      "cell_type": "code",
      "source": [
        "X = df.iloc[:,0:-1]\n",
        "y = df[['quality']]\n",
        "\n",
        "X_train, X_test, y_train, y_test = train_test_split(X,y, test_size=.20, random_state=32)"
      ],
      "metadata": {
        "id": "TM3jaRNc4JSg"
      },
      "execution_count": 82,
      "outputs": []
    },
    {
      "cell_type": "code",
      "source": [
        "temp1 = pd.DataFrame(y_train,columns = ['quality'])\n",
        "temp2 = pd.DataFrame(y_test,columns = ['quality'])"
      ],
      "metadata": {
        "id": "Zf4zE9Dt41Hx"
      },
      "execution_count": 103,
      "outputs": []
    },
    {
      "cell_type": "code",
      "source": [
        "temp1.quality.groupby(temp1.quality).count()"
      ],
      "metadata": {
        "colab": {
          "base_uri": "https://localhost:8080/"
        },
        "id": "mTi6xErB57ZJ",
        "outputId": "0219e603-bbe1-42ed-e0b3-e18c1ffd9261"
      },
      "execution_count": 105,
      "outputs": [
        {
          "output_type": "execute_result",
          "data": {
            "text/plain": [
              "quality\n",
              "3      24\n",
              "4     169\n",
              "5    1722\n",
              "6    2248\n",
              "7     877\n",
              "8     153\n",
              "9       4\n",
              "Name: quality, dtype: int64"
            ]
          },
          "metadata": {},
          "execution_count": 105
        }
      ]
    },
    {
      "cell_type": "code",
      "source": [
        "temp2.quality.groupby(temp2.quality).count()"
      ],
      "metadata": {
        "colab": {
          "base_uri": "https://localhost:8080/"
        },
        "id": "StXKW9mx6JeP",
        "outputId": "d1fa3d7a-7d66-4812-a7fc-894b66b528b8"
      },
      "execution_count": 106,
      "outputs": [
        {
          "output_type": "execute_result",
          "data": {
            "text/plain": [
              "quality\n",
              "3      6\n",
              "4     47\n",
              "5    416\n",
              "6    588\n",
              "7    202\n",
              "8     40\n",
              "9      1\n",
              "Name: quality, dtype: int64"
            ]
          },
          "metadata": {},
          "execution_count": 106
        }
      ]
    },
    {
      "cell_type": "code",
      "source": [
        "num_attribs = df.columns[0:-1]\n",
        "col_transform = ColumnTransformer(transformers=[\n",
        "                               ('num',MinMaxScaler(), num_attribs),]\n",
        "                  )"
      ],
      "metadata": {
        "id": "lZIu26dV3J5p"
      },
      "execution_count": 83,
      "outputs": []
    },
    {
      "cell_type": "code",
      "source": [
        "random_forest3 = Pipeline([\n",
        "                           ('transform', col_transform),\n",
        "                           ('rf',RandomForestClassifier(n_estimators=1000, max_samples=100, bootstrap=True))\n",
        "                     ])"
      ],
      "metadata": {
        "id": "WQ1T7Ku63tfL"
      },
      "execution_count": 84,
      "outputs": []
    },
    {
      "cell_type": "code",
      "source": [
        "random_forest3.fit(X_train, np.ravel(y_train))"
      ],
      "metadata": {
        "colab": {
          "base_uri": "https://localhost:8080/",
          "height": 189
        },
        "id": "VvUCpfJJ4RZY",
        "outputId": "579db84a-4286-4f4f-c8e1-d66ce19342d6"
      },
      "execution_count": 85,
      "outputs": [
        {
          "output_type": "execute_result",
          "data": {
            "text/plain": [
              "Pipeline(steps=[('transform',\n",
              "                 ColumnTransformer(transformers=[('num', MinMaxScaler(),\n",
              "                                                  Index(['fixed acidity', 'volatile acidity', 'citric acid', 'residual sugar',\n",
              "       'chlorides', 'free sulfur dioxide', 'total sulfur dioxide', 'density',\n",
              "       'pH', 'sulphates', 'alcohol'],\n",
              "      dtype='object'))])),\n",
              "                ('rf',\n",
              "                 RandomForestClassifier(max_samples=100, n_estimators=1000))])"
            ],
            "text/html": [
              "<style>#sk-e49ccaeb-f6f6-429a-afa1-684a012b1983 {color: black;background-color: white;}#sk-e49ccaeb-f6f6-429a-afa1-684a012b1983 pre{padding: 0;}#sk-e49ccaeb-f6f6-429a-afa1-684a012b1983 div.sk-toggleable {background-color: white;}#sk-e49ccaeb-f6f6-429a-afa1-684a012b1983 label.sk-toggleable__label {cursor: pointer;display: block;width: 100%;margin-bottom: 0;padding: 0.3em;box-sizing: border-box;text-align: center;}#sk-e49ccaeb-f6f6-429a-afa1-684a012b1983 label.sk-toggleable__label-arrow:before {content: \"▸\";float: left;margin-right: 0.25em;color: #696969;}#sk-e49ccaeb-f6f6-429a-afa1-684a012b1983 label.sk-toggleable__label-arrow:hover:before {color: black;}#sk-e49ccaeb-f6f6-429a-afa1-684a012b1983 div.sk-estimator:hover label.sk-toggleable__label-arrow:before {color: black;}#sk-e49ccaeb-f6f6-429a-afa1-684a012b1983 div.sk-toggleable__content {max-height: 0;max-width: 0;overflow: hidden;text-align: left;background-color: #f0f8ff;}#sk-e49ccaeb-f6f6-429a-afa1-684a012b1983 div.sk-toggleable__content pre {margin: 0.2em;color: black;border-radius: 0.25em;background-color: #f0f8ff;}#sk-e49ccaeb-f6f6-429a-afa1-684a012b1983 input.sk-toggleable__control:checked~div.sk-toggleable__content {max-height: 200px;max-width: 100%;overflow: auto;}#sk-e49ccaeb-f6f6-429a-afa1-684a012b1983 input.sk-toggleable__control:checked~label.sk-toggleable__label-arrow:before {content: \"▾\";}#sk-e49ccaeb-f6f6-429a-afa1-684a012b1983 div.sk-estimator input.sk-toggleable__control:checked~label.sk-toggleable__label {background-color: #d4ebff;}#sk-e49ccaeb-f6f6-429a-afa1-684a012b1983 div.sk-label input.sk-toggleable__control:checked~label.sk-toggleable__label {background-color: #d4ebff;}#sk-e49ccaeb-f6f6-429a-afa1-684a012b1983 input.sk-hidden--visually {border: 0;clip: rect(1px 1px 1px 1px);clip: rect(1px, 1px, 1px, 1px);height: 1px;margin: -1px;overflow: hidden;padding: 0;position: absolute;width: 1px;}#sk-e49ccaeb-f6f6-429a-afa1-684a012b1983 div.sk-estimator {font-family: monospace;background-color: #f0f8ff;border: 1px dotted black;border-radius: 0.25em;box-sizing: border-box;margin-bottom: 0.5em;}#sk-e49ccaeb-f6f6-429a-afa1-684a012b1983 div.sk-estimator:hover {background-color: #d4ebff;}#sk-e49ccaeb-f6f6-429a-afa1-684a012b1983 div.sk-parallel-item::after {content: \"\";width: 100%;border-bottom: 1px solid gray;flex-grow: 1;}#sk-e49ccaeb-f6f6-429a-afa1-684a012b1983 div.sk-label:hover label.sk-toggleable__label {background-color: #d4ebff;}#sk-e49ccaeb-f6f6-429a-afa1-684a012b1983 div.sk-serial::before {content: \"\";position: absolute;border-left: 1px solid gray;box-sizing: border-box;top: 2em;bottom: 0;left: 50%;}#sk-e49ccaeb-f6f6-429a-afa1-684a012b1983 div.sk-serial {display: flex;flex-direction: column;align-items: center;background-color: white;padding-right: 0.2em;padding-left: 0.2em;}#sk-e49ccaeb-f6f6-429a-afa1-684a012b1983 div.sk-item {z-index: 1;}#sk-e49ccaeb-f6f6-429a-afa1-684a012b1983 div.sk-parallel {display: flex;align-items: stretch;justify-content: center;background-color: white;}#sk-e49ccaeb-f6f6-429a-afa1-684a012b1983 div.sk-parallel::before {content: \"\";position: absolute;border-left: 1px solid gray;box-sizing: border-box;top: 2em;bottom: 0;left: 50%;}#sk-e49ccaeb-f6f6-429a-afa1-684a012b1983 div.sk-parallel-item {display: flex;flex-direction: column;position: relative;background-color: white;}#sk-e49ccaeb-f6f6-429a-afa1-684a012b1983 div.sk-parallel-item:first-child::after {align-self: flex-end;width: 50%;}#sk-e49ccaeb-f6f6-429a-afa1-684a012b1983 div.sk-parallel-item:last-child::after {align-self: flex-start;width: 50%;}#sk-e49ccaeb-f6f6-429a-afa1-684a012b1983 div.sk-parallel-item:only-child::after {width: 0;}#sk-e49ccaeb-f6f6-429a-afa1-684a012b1983 div.sk-dashed-wrapped {border: 1px dashed gray;margin: 0 0.4em 0.5em 0.4em;box-sizing: border-box;padding-bottom: 0.4em;background-color: white;position: relative;}#sk-e49ccaeb-f6f6-429a-afa1-684a012b1983 div.sk-label label {font-family: monospace;font-weight: bold;background-color: white;display: inline-block;line-height: 1.2em;}#sk-e49ccaeb-f6f6-429a-afa1-684a012b1983 div.sk-label-container {position: relative;z-index: 2;text-align: center;}#sk-e49ccaeb-f6f6-429a-afa1-684a012b1983 div.sk-container {/* jupyter's `normalize.less` sets `[hidden] { display: none; }` but bootstrap.min.css set `[hidden] { display: none !important; }` so we also need the `!important` here to be able to override the default hidden behavior on the sphinx rendered scikit-learn.org. See: https://github.com/scikit-learn/scikit-learn/issues/21755 */display: inline-block !important;position: relative;}#sk-e49ccaeb-f6f6-429a-afa1-684a012b1983 div.sk-text-repr-fallback {display: none;}</style><div id=\"sk-e49ccaeb-f6f6-429a-afa1-684a012b1983\" class=\"sk-top-container\"><div class=\"sk-text-repr-fallback\"><pre>Pipeline(steps=[(&#x27;transform&#x27;,\n",
              "                 ColumnTransformer(transformers=[(&#x27;num&#x27;, MinMaxScaler(),\n",
              "                                                  Index([&#x27;fixed acidity&#x27;, &#x27;volatile acidity&#x27;, &#x27;citric acid&#x27;, &#x27;residual sugar&#x27;,\n",
              "       &#x27;chlorides&#x27;, &#x27;free sulfur dioxide&#x27;, &#x27;total sulfur dioxide&#x27;, &#x27;density&#x27;,\n",
              "       &#x27;pH&#x27;, &#x27;sulphates&#x27;, &#x27;alcohol&#x27;],\n",
              "      dtype=&#x27;object&#x27;))])),\n",
              "                (&#x27;rf&#x27;,\n",
              "                 RandomForestClassifier(max_samples=100, n_estimators=1000))])</pre><b>Please rerun this cell to show the HTML repr or trust the notebook.</b></div><div class=\"sk-container\" hidden><div class=\"sk-item sk-dashed-wrapped\"><div class=\"sk-label-container\"><div class=\"sk-label sk-toggleable\"><input class=\"sk-toggleable__control sk-hidden--visually\" id=\"48fa313d-2f6c-45ea-b479-b1d5356a7825\" type=\"checkbox\" ><label for=\"48fa313d-2f6c-45ea-b479-b1d5356a7825\" class=\"sk-toggleable__label sk-toggleable__label-arrow\">Pipeline</label><div class=\"sk-toggleable__content\"><pre>Pipeline(steps=[(&#x27;transform&#x27;,\n",
              "                 ColumnTransformer(transformers=[(&#x27;num&#x27;, MinMaxScaler(),\n",
              "                                                  Index([&#x27;fixed acidity&#x27;, &#x27;volatile acidity&#x27;, &#x27;citric acid&#x27;, &#x27;residual sugar&#x27;,\n",
              "       &#x27;chlorides&#x27;, &#x27;free sulfur dioxide&#x27;, &#x27;total sulfur dioxide&#x27;, &#x27;density&#x27;,\n",
              "       &#x27;pH&#x27;, &#x27;sulphates&#x27;, &#x27;alcohol&#x27;],\n",
              "      dtype=&#x27;object&#x27;))])),\n",
              "                (&#x27;rf&#x27;,\n",
              "                 RandomForestClassifier(max_samples=100, n_estimators=1000))])</pre></div></div></div><div class=\"sk-serial\"><div class=\"sk-item sk-dashed-wrapped\"><div class=\"sk-label-container\"><div class=\"sk-label sk-toggleable\"><input class=\"sk-toggleable__control sk-hidden--visually\" id=\"ed0a257d-1401-4024-bd6c-fcb3063970c0\" type=\"checkbox\" ><label for=\"ed0a257d-1401-4024-bd6c-fcb3063970c0\" class=\"sk-toggleable__label sk-toggleable__label-arrow\">transform: ColumnTransformer</label><div class=\"sk-toggleable__content\"><pre>ColumnTransformer(transformers=[(&#x27;num&#x27;, MinMaxScaler(),\n",
              "                                 Index([&#x27;fixed acidity&#x27;, &#x27;volatile acidity&#x27;, &#x27;citric acid&#x27;, &#x27;residual sugar&#x27;,\n",
              "       &#x27;chlorides&#x27;, &#x27;free sulfur dioxide&#x27;, &#x27;total sulfur dioxide&#x27;, &#x27;density&#x27;,\n",
              "       &#x27;pH&#x27;, &#x27;sulphates&#x27;, &#x27;alcohol&#x27;],\n",
              "      dtype=&#x27;object&#x27;))])</pre></div></div></div><div class=\"sk-parallel\"><div class=\"sk-parallel-item\"><div class=\"sk-item\"><div class=\"sk-label-container\"><div class=\"sk-label sk-toggleable\"><input class=\"sk-toggleable__control sk-hidden--visually\" id=\"287278af-0557-4202-bc55-632e2ec03047\" type=\"checkbox\" ><label for=\"287278af-0557-4202-bc55-632e2ec03047\" class=\"sk-toggleable__label sk-toggleable__label-arrow\">num</label><div class=\"sk-toggleable__content\"><pre>Index([&#x27;fixed acidity&#x27;, &#x27;volatile acidity&#x27;, &#x27;citric acid&#x27;, &#x27;residual sugar&#x27;,\n",
              "       &#x27;chlorides&#x27;, &#x27;free sulfur dioxide&#x27;, &#x27;total sulfur dioxide&#x27;, &#x27;density&#x27;,\n",
              "       &#x27;pH&#x27;, &#x27;sulphates&#x27;, &#x27;alcohol&#x27;],\n",
              "      dtype=&#x27;object&#x27;)</pre></div></div></div><div class=\"sk-serial\"><div class=\"sk-item\"><div class=\"sk-estimator sk-toggleable\"><input class=\"sk-toggleable__control sk-hidden--visually\" id=\"e1c6113d-54a0-4e62-b03a-0d44121aa5c0\" type=\"checkbox\" ><label for=\"e1c6113d-54a0-4e62-b03a-0d44121aa5c0\" class=\"sk-toggleable__label sk-toggleable__label-arrow\">MinMaxScaler</label><div class=\"sk-toggleable__content\"><pre>MinMaxScaler()</pre></div></div></div></div></div></div></div></div><div class=\"sk-item\"><div class=\"sk-estimator sk-toggleable\"><input class=\"sk-toggleable__control sk-hidden--visually\" id=\"c882c5e1-98f0-4edc-a658-382ff234d3fc\" type=\"checkbox\" ><label for=\"c882c5e1-98f0-4edc-a658-382ff234d3fc\" class=\"sk-toggleable__label sk-toggleable__label-arrow\">RandomForestClassifier</label><div class=\"sk-toggleable__content\"><pre>RandomForestClassifier(max_samples=100, n_estimators=1000)</pre></div></div></div></div></div></div></div>"
            ]
          },
          "metadata": {},
          "execution_count": 85
        }
      ]
    },
    {
      "cell_type": "code",
      "source": [
        "y_pred = random_forest3.predict(X_test)"
      ],
      "metadata": {
        "id": "_x-dQCJR4UOA"
      },
      "execution_count": 86,
      "outputs": []
    },
    {
      "cell_type": "code",
      "source": [
        "plot_cm(y_pred, y_test)"
      ],
      "metadata": {
        "colab": {
          "base_uri": "https://localhost:8080/",
          "height": 606
        },
        "id": "DwPrwBC44aE6",
        "outputId": "9017e0bc-6020-453e-c61f-32851e025b7c"
      },
      "execution_count": 89,
      "outputs": [
        {
          "output_type": "display_data",
          "data": {
            "text/plain": [
              "<Figure size 720x720 with 2 Axes>"
            ],
            "image/png": "[encoded data removed]"
          },
          "metadata": {
            "needs_background": "light"
          }
        }
      ]
    },
    {
      "cell_type": "code",
      "source": [
        "print(classification_report(y_pred, y_test))"
      ],
      "metadata": {
        "colab": {
          "base_uri": "https://localhost:8080/"
        },
        "id": "FyP7mi6N4c8f",
        "outputId": "90e815f1-c0e6-4474-9718-7f5dd07f7bfa"
      },
      "execution_count": 92,
      "outputs": [
        {
          "output_type": "stream",
          "name": "stdout",
          "text": [
            "              precision    recall  f1-score   support\n",
            "\n",
            "           3       0.00      0.00      0.00         0\n",
            "           4       0.00      0.00      0.00         0\n",
            "           5       0.57      0.59      0.58       398\n",
            "           6       0.76      0.52      0.62       864\n",
            "           7       0.12      0.66      0.21        38\n",
            "           8       0.00      0.00      0.00         0\n",
            "           9       0.00      0.00      0.00         0\n",
            "\n",
            "    accuracy                           0.55      1300\n",
            "   macro avg       0.21      0.25      0.20      1300\n",
            "weighted avg       0.68      0.55      0.59      1300\n",
            "\n"
          ]
        },
        {
          "output_type": "stream",
          "name": "stderr",
          "text": [
            "/usr/local/lib/python3.7/dist-packages/sklearn/metrics/_classification.py:1318: UndefinedMetricWarning: Recall and F-score are ill-defined and being set to 0.0 in labels with no true samples. Use `zero_division` parameter to control this behavior.\n",
            "  _warn_prf(average, modifier, msg_start, len(result))\n",
            "/usr/local/lib/python3.7/dist-packages/sklearn/metrics/_classification.py:1318: UndefinedMetricWarning: Recall and F-score are ill-defined and being set to 0.0 in labels with no true samples. Use `zero_division` parameter to control this behavior.\n",
            "  _warn_prf(average, modifier, msg_start, len(result))\n",
            "/usr/local/lib/python3.7/dist-packages/sklearn/metrics/_classification.py:1318: UndefinedMetricWarning: Recall and F-score are ill-defined and being set to 0.0 in labels with no true samples. Use `zero_division` parameter to control this behavior.\n",
            "  _warn_prf(average, modifier, msg_start, len(result))\n"
          ]
        }
      ]
    },
    {
      "cell_type": "code",
      "source": [
        ""
      ],
      "metadata": {
        "id": "Zpp8TjRg4rs9"
      },
      "execution_count": null,
      "outputs": []
    }
  ]
}